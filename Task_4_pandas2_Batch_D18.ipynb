{
  "cells": [
    {
      "cell_type": "markdown",
      "metadata": {
        "id": "view-in-github",
        "colab_type": "text"
      },
      "source": [
        "<a href=\"https://colab.research.google.com/github/MSGanga/MSGanga/blob/main/Task_4_pandas2_Batch_D18.ipynb\" target=\"_parent\"><img src=\"https://colab.research.google.com/assets/colab-badge.svg\" alt=\"Open In Colab\"/></a>"
      ]
    },
    {
      "cell_type": "markdown",
      "metadata": {
        "id": "aEVMFA_RuUC5"
      },
      "source": [
        "###### Assessment"
      ]
    },
    {
      "cell_type": "markdown",
      "metadata": {
        "id": "Rre8W0SbuUDN"
      },
      "source": [
        "###### I am going to provide two .csv files , you are supposed to work on them and have to provide solutions to the following problems"
      ]
    },
    {
      "cell_type": "markdown",
      "metadata": {
        "id": "gLtvfEPDuUDP"
      },
      "source": [
        "###### import necessary libraries"
      ]
    },
    {
      "cell_type": "code",
      "execution_count": 2,
      "metadata": {
        "id": "PgWvc7Q7uUDS"
      },
      "outputs": [],
      "source": [
        "#solution\n",
        "import pandas as pd\n",
        "import numpy as np\n",
        "import seaborn as sns\n",
        "import matplotlib.pyplot as plt\n",
        "from google.colab import files"
      ]
    },
    {
      "cell_type": "markdown",
      "metadata": {
        "id": "bYsi0njvuUDV"
      },
      "source": [
        "###### merge those two csv files (after getting as dataframes, get them as a single dataframe)"
      ]
    },
    {
      "cell_type": "code",
      "source": [
        "#solution\n",
        "files.upload()"
      ],
      "metadata": {
        "colab": {
          "resources": {
            "http://localhost:8080/nbextensions/google.colab/files.js": {
              "data": "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",
              "ok": true,
              "headers": [
                [
                  "content-type",
                  "application/javascript"
                ]
              ],
              "status": 200,
              "status_text": ""
            }
          },
          "base_uri": "https://localhost:8080/",
          "height": 163
        },
        "id": "T_xh8hBKvqJT",
        "outputId": "cb3b34f5-f1bb-4f90-953b-26c4920781e3"
      },
      "execution_count": 4,
      "outputs": [
        {
          "output_type": "display_data",
          "data": {
            "text/html": [
              "\n",
              "     <input type=\"file\" id=\"files-3a6c22db-3c1b-446f-9eef-b232ab97e443\" name=\"files[]\" multiple disabled\n",
              "        style=\"border:none\" />\n",
              "     <output id=\"result-3a6c22db-3c1b-446f-9eef-b232ab97e443\">\n",
              "      Upload widget is only available when the cell has been executed in the\n",
              "      current browser session. Please rerun this cell to enable.\n",
              "      </output>\n",
              "      <script src=\"/nbextensions/google.colab/files.js\"></script> "
            ],
            "text/plain": [
              "<IPython.core.display.HTML object>"
            ]
          },
          "metadata": {}
        },
        {
          "output_type": "stream",
          "name": "stdout",
          "text": [
            "Saving college_1.csv to college_1.csv\n",
            "Saving college_2.csv to college_2.csv\n"
          ]
        },
        {
          "output_type": "execute_result",
          "data": {
            "text/plain": [
              "{'college_1.csv': b'Name,python,mysql,Previous Geekions,CodeKata Score,Department,Rising\\r\\nA.Dharani,82,20,24500,24500,Computer Science and Engineering,0\\r\\nV.JEEVITHA ,82,20,21740,21740,Computer Science and Engineering,0\\r\\nHEMAVATHI.R,100,100,19680,19680,Computer Science and Engineering,0\\r\\nMugunthan S,100,47,10610,10610,Computer Science and Engineering,0\\r\\nSathammai.S,100,8,8980,8980,Computer Science and Engineering,0\\r\\nNIVEESHWAR S,100,0,8200,8200,Computer Science and Engineering,0\\r\\nKALAIARASAN K,85,47,7750,7880,Electronics and Communication Engineering,130\\r\\nMOHAMED ZUBAIR AHMED,82,4,7020,7020,Computer Science and Engineering,0\\r\\nJ.SUGANTHI,27,50,5860,5860,Electronics and Communication Engineering,0\\r\\nthamizhpaana,29,0,5500,5500,Computer Science and Engineering,0\\r\\nIyappan Samiraj,50,24,5400,5400,Electronics and Communication Engineering,0\\r\\nPonniyamma.R,100,11.25,5380,5380,Computer Science and Engineering,0\\r\\nSABAPATHI,100,0,5280,5280,Computer Science and Engineering,0\\r\\nRAGHAVAN,100,0,5120,5120,Computer Science and Engineering,0\\r\\nMelvin Dukles.R,56,20,4800,4800,Electronics and Communication Engineering,0\\r\\nPavithra,100,100,4600,4600,Computer Science and Engineering,0\\r\\nPRIYANKA .S,85,4,4510,4510,Computer Science and Engineering,0\\r\\nv.vithyasri,100,12,4370,4370,Electronics and Communication Engineering,0\\r\\nAbirami Anbazhagan,100,0,4320,4320,Electronics and Communication Engineering,0\\r\\nS.srinivasan,100,12,4090,4090,Computer Science and Engineering,0\\r\\ns.janani,100,0,3915,3915,Computer Science and Engineering,0\\r\\nkamalishwari,32,20,3665,3665,Electronics and Communication Engineering,0\\r\\nYuvasri,100,100,3460,3460,Computer Science and Engineering,0\\r\\nbalaji,82,0,3280,3280,Computer Science and Engineering,0\\r\\nMEERA.M,100,100,3200,3200,Computer Science and Engineering,0\\r\\nTpavithra,100,24,3200,3200,Electronics and Communication Engineering,0\\r\\nsri dharshini,100,100,3110,3110,Computer Science and Engineering,0\\r\\nshankari,87.5,20,3000,3000,Electronics and Communication Engineering,0\\r\\npooja priya.B,100,100,2570,2570,Computer Science and Engineering,0\\r\\nchithra,100,0,2410,2410,Computer Science and Engineering,0\\r\\nmanikandan,100,0,2360,2360,Computer Science and Engineering,0\\r\\nKaliaperumal G,100,0,2260,2260,Computer Science and Engineering,0\\r\\nSarumathiR,16,35,2240,2240,Electronics and Communication Engineering,0\\r\\nSOWMIYA.V,85,0,2160,2160,Computer Science and Engineering,0\\r\\ntamilarasi,100,100,1910,1910,Computer Science and Engineering,0\\r\\nBarath D,74,4,1910,1910,Electronics and Communication Engineering,0\\r\\nselvakumar,100,0,1900,1900,Computer Science and Engineering,0\\r\\nnivedha.s,100,77,1880,1880,Computer Science and Engineering,0\\r\\nStephen,100,0,1880,1880,Computer Science and Engineering,0\\r\\nvignesh,85,0,1740,1740,Electronics and Communication Engineering,0\\r\\nHSharukhan,100,0,1680,1680,Computer Science and Engineering,0\\r\\nvijayakumar,100,0,1580,1580,Computer Science and Engineering,0\\r\\nABIRAMI.S,82,0,1580,1580,Electronics and Communication Engineering,0\\r\\nv.gowsalya,53,50,1440,1440,Electronics and Communication Engineering,0\\r\\nponni.p,93,100,1350,1350,Computer Science and Engineering,0\\r\\nPRAVEENA K,100,100,1320,1320,Computer Science and Engineering,0\\r\\nsiva sai perumal polisetti,100,12,1240,1240,Electronics and Communication Engineering,0\\r\\nMadhumathiB,16,35,1130,1130,Electronics and Communication Engineering,0\\r\\nb.akshaya,82,0,1100,1100,Computer Science and Engineering,0\\r\\nbavithra,0,100,1020,1020,Electronics and Communication Engineering,0\\r\\nDeivani.S,0,86.25,980,980,Electronics and Communication Engineering,0\\r\\nNivetha.S,0,50,950,950,Electronics and Communication Engineering,0\\r\\nGUNAMATHI.S,0,77,850,850,Electronics and Communication Engineering,0\\r\\nRANJITH.R,100,0,800,800,Electronics and Communication Engineering,0\\r\\nu.abarna,3,39,770,770,Electronics and Communication Engineering,0\\r\\nkaviyarasi.k,16,28.75,760,760,Electronics and Communication Engineering,0\\r\\npravina,100,100,720,720,Computer Science and Engineering,0\\r\\nM.PRIYA,43,24,690,690,Electronics and Communication Engineering,0\\r\\nM.Nisha@mary,11,20,580,580,Electronics and Communication Engineering,0\\r\\nThivviya,82,8,490,490,Computer Science and Engineering,0\\r\\nmuvendiran.m,100,7.5,410,410,Electronics and Communication Engineering,0\\r\\nAravind,100,0,380,380,Computer Science and Engineering,0\\r\\nHaasini,100,0,300,300,Computer Science and Engineering,0\\r\\nE.Nalini,3,0,270,270,Electronics and Communication Engineering,0\\r\\nk.parvathi,100,100,260,260,Electronics and Electrical Engineering,0\\r\\njayapratha,82,0,200,200,Computer Science and Engineering,0\\r\\nEvanasundari.K,61,0,180,180,Computer Science and Engineering,0\\r\\ngousalya,56,27,170,170,Electronics and Communication Engineering,0\\r\\nsivaranjini,0,3.75,160,160,Electronics and Communication Engineering,0\\r\\nkarthika.G,100,0,120,120,Computer Science and Engineering,0\\r\\nvignesh B,82,20,120,120,Electronics and Communication Engineering,0\\r\\nm.keerthana,97.5,0,120,120,Electronics and Electrical Engineering,0\\r\\nSubhashini,100,4,120,120,Electronics and Electrical Engineering,0\\r\\nrajesh kumar.r,30,0,100,100,Electronics and Communication Engineering,0\\r\\nJ.Bhuvaneshwari,100,20,100,100,Electronics and Electrical Engineering,0\\r\\nsanthosh,82,12,60,60,Electronics and Electrical Engineering,0\\r\\nArun,95,4,40,40,Computer Science and Engineering,0\\r\\nJ.JAYANTHI,100,100,40,40,Electronics and Electrical Engineering,0\\r\\nvikneshwaran,100,4,40,40,Electronics and Electrical Engineering,0\\r\\nKarthikeyanS,45,0,0,0,Electronics and Electrical Engineering,0\\r\\nBARATH.P,29,0,0,0,Electronics and Electrical Engineering,0\\r\\nN.Ajith kumar,82,0,0,0,Electronics and Electrical Engineering,0\\r\\nmohamed nabi,0,0,0,0,Electronics and Electrical Engineering,0\\r\\nyaser ahamed.A,0,27,0,0,Electronics and Electrical Engineering,0\\r\\n',\n",
              " 'college_2.csv': b'Name,python,python_en,mysql,computational_thinking,Previous Geekions,CodeKata Score,Department,Rising\\r\\nASHOK KUMAR K,100,0,31,9,19400,19400,Electronics and Electrical Engineering,0\\r\\nChandru,0,20,0,0,14150,14490,Computer Science and Engineering,340\\r\\nGanesh Ramkumar R,-1,55,24,6,8790,10790,Computer Science and Engineering,2000\\r\\nBodipudi Harini,-1,0,35,-1,10040,10040,Electronics and Communication Engineering,0\\r\\nVIINU V P,-1,100,24,-1,9150,9150,Electronics and Electrical Engineering,0\\r\\n Poojitha Y,0,78,35,0,7210,8970,Computer Science and Engineering,1760\\r\\nGowtham Chandrasekaran,-1,0,0,3,7250,8950,Computer Science and Engineering,1700\\r\\nGowtham R,-1,60,4,6,8650,8650,Electronics and Communication Engineering,0\\r\\nshifak N,58,0,0,0,5180,8320,Electronics and Electrical Engineering,3140\\r\\nBalaji ,-1,100,20,0,6170,8160,Electronics and Electrical Engineering,1990\\r\\nRushitha,-1,15,62,9,7470,8090,Computer Science and Engineering,620\\r\\nBalaraman Muthupandi,-1,9,0,0,7670,8050,Computer Science and Engineering,380\\r\\nJPradhap,100,0,0,0,7340,8030,Electronics and Electrical Engineering,690\\r\\nSRIRAMKUMAR B,-1,0,0,0,6400,7940,Computer Science and Engineering,1540\\r\\nPraneetha,-1,23,100,-1,7170,7730,Electronics and Communication Engineering,560\\r\\nRahul Raj K,-1,0,0,0,6280,7640,Computer Science and Engineering,1360\\r\\nGuhan S,-1,72,35,39,7310,7630,Electronics and Communication Engineering,320\\r\\nSuryarajan S,-1,63,31,0,6710,7550,Computer Science and Engineering,840\\r\\nNarasimhan Y L,-1,-1,0,0,4800,6800,Computer Science and Engineering,2000\\r\\nLeelakrishna,-1,6,4,0,5300,6640,Computer Science and Engineering,1340\\r\\nPremsagarReddy,-1,20,0,0,5290,6290,Computer Science and Engineering,1000\\r\\npradeeban,16,20,24,0,6060,6090,Computer Science and Engineering,30\\r\\nsanthoshini,-1,43,0,0,3910,5740,Computer Science and Engineering,1830\\r\\nMUKESH S M,-1,46,0,0,5200,5200,Computer Science and Engineering,0\\r\\nP.GOVARDHANAN,-1,40,0,-1,5050,5050,Electronics and Communication Engineering,0\\r\\nSHAIK DANISH,-1,43,0,0,4050,4820,Computer Science and Engineering,770\\r\\nsridhar.s,-1,52,0,0,3860,4440,Computer Science and Engineering,580\\r\\nVimalesh Fernando,-1,0,0,0,4170,4170,Computer Science and Engineering,0\\r\\nM.Karthikeyan,-1,0,4,6,4020,4020,Computer Science and Engineering,0\\r\\nAbishak s,-1,55,35,6,3220,3220,Electronics and Communication Engineering,0\\r\\npraveen raj j,24,-1,0,0,2380,2380,Computer Science and Engineering,0\\r\\nAMARNATH D,-1,52,12,-1,1890,1890,Electronics and Communication Engineering,0\\r\\nbala,32,49,0,-1,1720,1720,Electronics and Communication Engineering,0\\r\\nXY Z,-1,20,-1,-1,0,0,Computer Science and Engineering,0\\r\\nHariharan,-1,-1,-1,0,0,0,Computer Science and Engineering,0\\r\\n'}"
            ]
          },
          "metadata": {},
          "execution_count": 4
        }
      ]
    },
    {
      "cell_type": "code",
      "execution_count": 5,
      "metadata": {
        "id": "uGt3fZV4uUDX",
        "colab": {
          "base_uri": "https://localhost:8080/",
          "height": 206
        },
        "outputId": "090c5ecb-0112-4fcd-9a21-232e44917029"
      },
      "outputs": [
        {
          "output_type": "execute_result",
          "data": {
            "text/html": [
              "\n",
              "  <div id=\"df-8e1a8fec-31f6-4ca6-b8ac-a597966e6fe5\">\n",
              "    <div class=\"colab-df-container\">\n",
              "      <div>\n",
              "<style scoped>\n",
              "    .dataframe tbody tr th:only-of-type {\n",
              "        vertical-align: middle;\n",
              "    }\n",
              "\n",
              "    .dataframe tbody tr th {\n",
              "        vertical-align: top;\n",
              "    }\n",
              "\n",
              "    .dataframe thead th {\n",
              "        text-align: right;\n",
              "    }\n",
              "</style>\n",
              "<table border=\"1\" class=\"dataframe\">\n",
              "  <thead>\n",
              "    <tr style=\"text-align: right;\">\n",
              "      <th></th>\n",
              "      <th>Name</th>\n",
              "      <th>python</th>\n",
              "      <th>mysql</th>\n",
              "      <th>Previous Geekions</th>\n",
              "      <th>CodeKata Score</th>\n",
              "      <th>Department</th>\n",
              "      <th>Rising</th>\n",
              "    </tr>\n",
              "  </thead>\n",
              "  <tbody>\n",
              "    <tr>\n",
              "      <th>0</th>\n",
              "      <td>A.Dharani</td>\n",
              "      <td>82.0</td>\n",
              "      <td>20.0</td>\n",
              "      <td>24500</td>\n",
              "      <td>24500</td>\n",
              "      <td>Computer Science and Engineering</td>\n",
              "      <td>0</td>\n",
              "    </tr>\n",
              "    <tr>\n",
              "      <th>1</th>\n",
              "      <td>V.JEEVITHA</td>\n",
              "      <td>82.0</td>\n",
              "      <td>20.0</td>\n",
              "      <td>21740</td>\n",
              "      <td>21740</td>\n",
              "      <td>Computer Science and Engineering</td>\n",
              "      <td>0</td>\n",
              "    </tr>\n",
              "    <tr>\n",
              "      <th>2</th>\n",
              "      <td>HEMAVATHI.R</td>\n",
              "      <td>100.0</td>\n",
              "      <td>100.0</td>\n",
              "      <td>19680</td>\n",
              "      <td>19680</td>\n",
              "      <td>Computer Science and Engineering</td>\n",
              "      <td>0</td>\n",
              "    </tr>\n",
              "    <tr>\n",
              "      <th>3</th>\n",
              "      <td>Mugunthan S</td>\n",
              "      <td>100.0</td>\n",
              "      <td>47.0</td>\n",
              "      <td>10610</td>\n",
              "      <td>10610</td>\n",
              "      <td>Computer Science and Engineering</td>\n",
              "      <td>0</td>\n",
              "    </tr>\n",
              "    <tr>\n",
              "      <th>4</th>\n",
              "      <td>Sathammai.S</td>\n",
              "      <td>100.0</td>\n",
              "      <td>8.0</td>\n",
              "      <td>8980</td>\n",
              "      <td>8980</td>\n",
              "      <td>Computer Science and Engineering</td>\n",
              "      <td>0</td>\n",
              "    </tr>\n",
              "  </tbody>\n",
              "</table>\n",
              "</div>\n",
              "      <button class=\"colab-df-convert\" onclick=\"convertToInteractive('df-8e1a8fec-31f6-4ca6-b8ac-a597966e6fe5')\"\n",
              "              title=\"Convert this dataframe to an interactive table.\"\n",
              "              style=\"display:none;\">\n",
              "        \n",
              "  <svg xmlns=\"http://www.w3.org/2000/svg\" height=\"24px\"viewBox=\"0 0 24 24\"\n",
              "       width=\"24px\">\n",
              "    <path d=\"M0 0h24v24H0V0z\" fill=\"none\"/>\n",
              "    <path d=\"M18.56 5.44l.94 2.06.94-2.06 2.06-.94-2.06-.94-.94-2.06-.94 2.06-2.06.94zm-11 1L8.5 8.5l.94-2.06 2.06-.94-2.06-.94L8.5 2.5l-.94 2.06-2.06.94zm10 10l.94 2.06.94-2.06 2.06-.94-2.06-.94-.94-2.06-.94 2.06-2.06.94z\"/><path d=\"M17.41 7.96l-1.37-1.37c-.4-.4-.92-.59-1.43-.59-.52 0-1.04.2-1.43.59L10.3 9.45l-7.72 7.72c-.78.78-.78 2.05 0 2.83L4 21.41c.39.39.9.59 1.41.59.51 0 1.02-.2 1.41-.59l7.78-7.78 2.81-2.81c.8-.78.8-2.07 0-2.86zM5.41 20L4 18.59l7.72-7.72 1.47 1.35L5.41 20z\"/>\n",
              "  </svg>\n",
              "      </button>\n",
              "      \n",
              "  <style>\n",
              "    .colab-df-container {\n",
              "      display:flex;\n",
              "      flex-wrap:wrap;\n",
              "      gap: 12px;\n",
              "    }\n",
              "\n",
              "    .colab-df-convert {\n",
              "      background-color: #E8F0FE;\n",
              "      border: none;\n",
              "      border-radius: 50%;\n",
              "      cursor: pointer;\n",
              "      display: none;\n",
              "      fill: #1967D2;\n",
              "      height: 32px;\n",
              "      padding: 0 0 0 0;\n",
              "      width: 32px;\n",
              "    }\n",
              "\n",
              "    .colab-df-convert:hover {\n",
              "      background-color: #E2EBFA;\n",
              "      box-shadow: 0px 1px 2px rgba(60, 64, 67, 0.3), 0px 1px 3px 1px rgba(60, 64, 67, 0.15);\n",
              "      fill: #174EA6;\n",
              "    }\n",
              "\n",
              "    [theme=dark] .colab-df-convert {\n",
              "      background-color: #3B4455;\n",
              "      fill: #D2E3FC;\n",
              "    }\n",
              "\n",
              "    [theme=dark] .colab-df-convert:hover {\n",
              "      background-color: #434B5C;\n",
              "      box-shadow: 0px 1px 3px 1px rgba(0, 0, 0, 0.15);\n",
              "      filter: drop-shadow(0px 1px 2px rgba(0, 0, 0, 0.3));\n",
              "      fill: #FFFFFF;\n",
              "    }\n",
              "  </style>\n",
              "\n",
              "      <script>\n",
              "        const buttonEl =\n",
              "          document.querySelector('#df-8e1a8fec-31f6-4ca6-b8ac-a597966e6fe5 button.colab-df-convert');\n",
              "        buttonEl.style.display =\n",
              "          google.colab.kernel.accessAllowed ? 'block' : 'none';\n",
              "\n",
              "        async function convertToInteractive(key) {\n",
              "          const element = document.querySelector('#df-8e1a8fec-31f6-4ca6-b8ac-a597966e6fe5');\n",
              "          const dataTable =\n",
              "            await google.colab.kernel.invokeFunction('convertToInteractive',\n",
              "                                                     [key], {});\n",
              "          if (!dataTable) return;\n",
              "\n",
              "          const docLinkHtml = 'Like what you see? Visit the ' +\n",
              "            '<a target=\"_blank\" href=https://colab.research.google.com/notebooks/data_table.ipynb>data table notebook</a>'\n",
              "            + ' to learn more about interactive tables.';\n",
              "          element.innerHTML = '';\n",
              "          dataTable['output_type'] = 'display_data';\n",
              "          await google.colab.output.renderOutput(dataTable, element);\n",
              "          const docLink = document.createElement('div');\n",
              "          docLink.innerHTML = docLinkHtml;\n",
              "          element.appendChild(docLink);\n",
              "        }\n",
              "      </script>\n",
              "    </div>\n",
              "  </div>\n",
              "  "
            ],
            "text/plain": [
              "          Name  python  ...                        Department  Rising\n",
              "0    A.Dharani    82.0  ...  Computer Science and Engineering       0\n",
              "1  V.JEEVITHA     82.0  ...  Computer Science and Engineering       0\n",
              "2  HEMAVATHI.R   100.0  ...  Computer Science and Engineering       0\n",
              "3  Mugunthan S   100.0  ...  Computer Science and Engineering       0\n",
              "4  Sathammai.S   100.0  ...  Computer Science and Engineering       0\n",
              "\n",
              "[5 rows x 7 columns]"
            ]
          },
          "metadata": {},
          "execution_count": 5
        }
      ],
      "source": [
        "#solution\n",
        "df1=pd.read_csv(\"/content/college_1.csv\")\n",
        "df1.head()"
      ]
    },
    {
      "cell_type": "code",
      "source": [
        "#solution\n",
        "df2=pd.read_csv(\"/content/college_2.csv\")\n",
        "df2.head()"
      ],
      "metadata": {
        "colab": {
          "base_uri": "https://localhost:8080/",
          "height": 354
        },
        "id": "aFOJbDPbzJNK",
        "outputId": "a25aceed-9b4e-4f89-ce4b-4a53d792e785"
      },
      "execution_count": 7,
      "outputs": [
        {
          "output_type": "execute_result",
          "data": {
            "text/html": [
              "\n",
              "  <div id=\"df-9852f20e-d484-446d-9784-2efeb2a5555b\">\n",
              "    <div class=\"colab-df-container\">\n",
              "      <div>\n",
              "<style scoped>\n",
              "    .dataframe tbody tr th:only-of-type {\n",
              "        vertical-align: middle;\n",
              "    }\n",
              "\n",
              "    .dataframe tbody tr th {\n",
              "        vertical-align: top;\n",
              "    }\n",
              "\n",
              "    .dataframe thead th {\n",
              "        text-align: right;\n",
              "    }\n",
              "</style>\n",
              "<table border=\"1\" class=\"dataframe\">\n",
              "  <thead>\n",
              "    <tr style=\"text-align: right;\">\n",
              "      <th></th>\n",
              "      <th>Name</th>\n",
              "      <th>python</th>\n",
              "      <th>python_en</th>\n",
              "      <th>mysql</th>\n",
              "      <th>computational_thinking</th>\n",
              "      <th>Previous Geekions</th>\n",
              "      <th>CodeKata Score</th>\n",
              "      <th>Department</th>\n",
              "      <th>Rising</th>\n",
              "    </tr>\n",
              "  </thead>\n",
              "  <tbody>\n",
              "    <tr>\n",
              "      <th>0</th>\n",
              "      <td>ASHOK KUMAR K</td>\n",
              "      <td>100</td>\n",
              "      <td>0</td>\n",
              "      <td>31</td>\n",
              "      <td>9</td>\n",
              "      <td>19400</td>\n",
              "      <td>19400</td>\n",
              "      <td>Electronics and Electrical Engineering</td>\n",
              "      <td>0</td>\n",
              "    </tr>\n",
              "    <tr>\n",
              "      <th>1</th>\n",
              "      <td>Chandru</td>\n",
              "      <td>0</td>\n",
              "      <td>20</td>\n",
              "      <td>0</td>\n",
              "      <td>0</td>\n",
              "      <td>14150</td>\n",
              "      <td>14490</td>\n",
              "      <td>Computer Science and Engineering</td>\n",
              "      <td>340</td>\n",
              "    </tr>\n",
              "    <tr>\n",
              "      <th>2</th>\n",
              "      <td>Ganesh Ramkumar R</td>\n",
              "      <td>-1</td>\n",
              "      <td>55</td>\n",
              "      <td>24</td>\n",
              "      <td>6</td>\n",
              "      <td>8790</td>\n",
              "      <td>10790</td>\n",
              "      <td>Computer Science and Engineering</td>\n",
              "      <td>2000</td>\n",
              "    </tr>\n",
              "    <tr>\n",
              "      <th>3</th>\n",
              "      <td>Bodipudi Harini</td>\n",
              "      <td>-1</td>\n",
              "      <td>0</td>\n",
              "      <td>35</td>\n",
              "      <td>-1</td>\n",
              "      <td>10040</td>\n",
              "      <td>10040</td>\n",
              "      <td>Electronics and Communication Engineering</td>\n",
              "      <td>0</td>\n",
              "    </tr>\n",
              "    <tr>\n",
              "      <th>4</th>\n",
              "      <td>VIINU V P</td>\n",
              "      <td>-1</td>\n",
              "      <td>100</td>\n",
              "      <td>24</td>\n",
              "      <td>-1</td>\n",
              "      <td>9150</td>\n",
              "      <td>9150</td>\n",
              "      <td>Electronics and Electrical Engineering</td>\n",
              "      <td>0</td>\n",
              "    </tr>\n",
              "  </tbody>\n",
              "</table>\n",
              "</div>\n",
              "      <button class=\"colab-df-convert\" onclick=\"convertToInteractive('df-9852f20e-d484-446d-9784-2efeb2a5555b')\"\n",
              "              title=\"Convert this dataframe to an interactive table.\"\n",
              "              style=\"display:none;\">\n",
              "        \n",
              "  <svg xmlns=\"http://www.w3.org/2000/svg\" height=\"24px\"viewBox=\"0 0 24 24\"\n",
              "       width=\"24px\">\n",
              "    <path d=\"M0 0h24v24H0V0z\" fill=\"none\"/>\n",
              "    <path d=\"M18.56 5.44l.94 2.06.94-2.06 2.06-.94-2.06-.94-.94-2.06-.94 2.06-2.06.94zm-11 1L8.5 8.5l.94-2.06 2.06-.94-2.06-.94L8.5 2.5l-.94 2.06-2.06.94zm10 10l.94 2.06.94-2.06 2.06-.94-2.06-.94-.94-2.06-.94 2.06-2.06.94z\"/><path d=\"M17.41 7.96l-1.37-1.37c-.4-.4-.92-.59-1.43-.59-.52 0-1.04.2-1.43.59L10.3 9.45l-7.72 7.72c-.78.78-.78 2.05 0 2.83L4 21.41c.39.39.9.59 1.41.59.51 0 1.02-.2 1.41-.59l7.78-7.78 2.81-2.81c.8-.78.8-2.07 0-2.86zM5.41 20L4 18.59l7.72-7.72 1.47 1.35L5.41 20z\"/>\n",
              "  </svg>\n",
              "      </button>\n",
              "      \n",
              "  <style>\n",
              "    .colab-df-container {\n",
              "      display:flex;\n",
              "      flex-wrap:wrap;\n",
              "      gap: 12px;\n",
              "    }\n",
              "\n",
              "    .colab-df-convert {\n",
              "      background-color: #E8F0FE;\n",
              "      border: none;\n",
              "      border-radius: 50%;\n",
              "      cursor: pointer;\n",
              "      display: none;\n",
              "      fill: #1967D2;\n",
              "      height: 32px;\n",
              "      padding: 0 0 0 0;\n",
              "      width: 32px;\n",
              "    }\n",
              "\n",
              "    .colab-df-convert:hover {\n",
              "      background-color: #E2EBFA;\n",
              "      box-shadow: 0px 1px 2px rgba(60, 64, 67, 0.3), 0px 1px 3px 1px rgba(60, 64, 67, 0.15);\n",
              "      fill: #174EA6;\n",
              "    }\n",
              "\n",
              "    [theme=dark] .colab-df-convert {\n",
              "      background-color: #3B4455;\n",
              "      fill: #D2E3FC;\n",
              "    }\n",
              "\n",
              "    [theme=dark] .colab-df-convert:hover {\n",
              "      background-color: #434B5C;\n",
              "      box-shadow: 0px 1px 3px 1px rgba(0, 0, 0, 0.15);\n",
              "      filter: drop-shadow(0px 1px 2px rgba(0, 0, 0, 0.3));\n",
              "      fill: #FFFFFF;\n",
              "    }\n",
              "  </style>\n",
              "\n",
              "      <script>\n",
              "        const buttonEl =\n",
              "          document.querySelector('#df-9852f20e-d484-446d-9784-2efeb2a5555b button.colab-df-convert');\n",
              "        buttonEl.style.display =\n",
              "          google.colab.kernel.accessAllowed ? 'block' : 'none';\n",
              "\n",
              "        async function convertToInteractive(key) {\n",
              "          const element = document.querySelector('#df-9852f20e-d484-446d-9784-2efeb2a5555b');\n",
              "          const dataTable =\n",
              "            await google.colab.kernel.invokeFunction('convertToInteractive',\n",
              "                                                     [key], {});\n",
              "          if (!dataTable) return;\n",
              "\n",
              "          const docLinkHtml = 'Like what you see? Visit the ' +\n",
              "            '<a target=\"_blank\" href=https://colab.research.google.com/notebooks/data_table.ipynb>data table notebook</a>'\n",
              "            + ' to learn more about interactive tables.';\n",
              "          element.innerHTML = '';\n",
              "          dataTable['output_type'] = 'display_data';\n",
              "          await google.colab.output.renderOutput(dataTable, element);\n",
              "          const docLink = document.createElement('div');\n",
              "          docLink.innerHTML = docLinkHtml;\n",
              "          element.appendChild(docLink);\n",
              "        }\n",
              "      </script>\n",
              "    </div>\n",
              "  </div>\n",
              "  "
            ],
            "text/plain": [
              "                Name  python  ...                                 Department  Rising\n",
              "0      ASHOK KUMAR K     100  ...     Electronics and Electrical Engineering       0\n",
              "1            Chandru       0  ...           Computer Science and Engineering     340\n",
              "2  Ganesh Ramkumar R      -1  ...           Computer Science and Engineering    2000\n",
              "3    Bodipudi Harini      -1  ...  Electronics and Communication Engineering       0\n",
              "4          VIINU V P      -1  ...     Electronics and Electrical Engineering       0\n",
              "\n",
              "[5 rows x 9 columns]"
            ]
          },
          "metadata": {},
          "execution_count": 7
        }
      ]
    },
    {
      "cell_type": "code",
      "source": [
        "print(df1.shape)\n",
        "df2.shape"
      ],
      "metadata": {
        "colab": {
          "base_uri": "https://localhost:8080/"
        },
        "id": "-TE-XDvY0Cwf",
        "outputId": "19f03ea7-0cda-404a-be28-c25d57415297"
      },
      "execution_count": 50,
      "outputs": [
        {
          "output_type": "stream",
          "name": "stdout",
          "text": [
            "(84, 7)\n"
          ]
        },
        {
          "output_type": "execute_result",
          "data": {
            "text/plain": [
              "(35, 9)"
            ]
          },
          "metadata": {},
          "execution_count": 50
        }
      ]
    },
    {
      "cell_type": "code",
      "source": [
        "#solution\n",
        "df=pd.concat([df1,df2])\n",
        "df"
      ],
      "metadata": {
        "colab": {
          "base_uri": "https://localhost:8080/",
          "height": 658
        },
        "id": "F0mSMzuAziuP",
        "outputId": "baf5745b-c507-4d1e-fbbc-b6ddcce29462"
      },
      "execution_count": 51,
      "outputs": [
        {
          "output_type": "execute_result",
          "data": {
            "text/html": [
              "\n",
              "  <div id=\"df-015fc4a3-9dee-48a7-acd4-d100bfbabf0e\">\n",
              "    <div class=\"colab-df-container\">\n",
              "      <div>\n",
              "<style scoped>\n",
              "    .dataframe tbody tr th:only-of-type {\n",
              "        vertical-align: middle;\n",
              "    }\n",
              "\n",
              "    .dataframe tbody tr th {\n",
              "        vertical-align: top;\n",
              "    }\n",
              "\n",
              "    .dataframe thead th {\n",
              "        text-align: right;\n",
              "    }\n",
              "</style>\n",
              "<table border=\"1\" class=\"dataframe\">\n",
              "  <thead>\n",
              "    <tr style=\"text-align: right;\">\n",
              "      <th></th>\n",
              "      <th>Name</th>\n",
              "      <th>python</th>\n",
              "      <th>mysql</th>\n",
              "      <th>Previous Geekions</th>\n",
              "      <th>CodeKata Score</th>\n",
              "      <th>Department</th>\n",
              "      <th>Rising</th>\n",
              "      <th>python_en</th>\n",
              "      <th>computational_thinking</th>\n",
              "    </tr>\n",
              "  </thead>\n",
              "  <tbody>\n",
              "    <tr>\n",
              "      <th>0</th>\n",
              "      <td>A.Dharani</td>\n",
              "      <td>82.0</td>\n",
              "      <td>20.0</td>\n",
              "      <td>24500</td>\n",
              "      <td>24500</td>\n",
              "      <td>Computer Science and Engineering</td>\n",
              "      <td>0</td>\n",
              "      <td>NaN</td>\n",
              "      <td>NaN</td>\n",
              "    </tr>\n",
              "    <tr>\n",
              "      <th>1</th>\n",
              "      <td>V.JEEVITHA</td>\n",
              "      <td>82.0</td>\n",
              "      <td>20.0</td>\n",
              "      <td>21740</td>\n",
              "      <td>21740</td>\n",
              "      <td>Computer Science and Engineering</td>\n",
              "      <td>0</td>\n",
              "      <td>NaN</td>\n",
              "      <td>NaN</td>\n",
              "    </tr>\n",
              "    <tr>\n",
              "      <th>2</th>\n",
              "      <td>HEMAVATHI.R</td>\n",
              "      <td>100.0</td>\n",
              "      <td>100.0</td>\n",
              "      <td>19680</td>\n",
              "      <td>19680</td>\n",
              "      <td>Computer Science and Engineering</td>\n",
              "      <td>0</td>\n",
              "      <td>NaN</td>\n",
              "      <td>NaN</td>\n",
              "    </tr>\n",
              "    <tr>\n",
              "      <th>3</th>\n",
              "      <td>Mugunthan S</td>\n",
              "      <td>100.0</td>\n",
              "      <td>47.0</td>\n",
              "      <td>10610</td>\n",
              "      <td>10610</td>\n",
              "      <td>Computer Science and Engineering</td>\n",
              "      <td>0</td>\n",
              "      <td>NaN</td>\n",
              "      <td>NaN</td>\n",
              "    </tr>\n",
              "    <tr>\n",
              "      <th>4</th>\n",
              "      <td>Sathammai.S</td>\n",
              "      <td>100.0</td>\n",
              "      <td>8.0</td>\n",
              "      <td>8980</td>\n",
              "      <td>8980</td>\n",
              "      <td>Computer Science and Engineering</td>\n",
              "      <td>0</td>\n",
              "      <td>NaN</td>\n",
              "      <td>NaN</td>\n",
              "    </tr>\n",
              "    <tr>\n",
              "      <th>...</th>\n",
              "      <td>...</td>\n",
              "      <td>...</td>\n",
              "      <td>...</td>\n",
              "      <td>...</td>\n",
              "      <td>...</td>\n",
              "      <td>...</td>\n",
              "      <td>...</td>\n",
              "      <td>...</td>\n",
              "      <td>...</td>\n",
              "    </tr>\n",
              "    <tr>\n",
              "      <th>30</th>\n",
              "      <td>praveen raj j</td>\n",
              "      <td>24.0</td>\n",
              "      <td>0.0</td>\n",
              "      <td>2380</td>\n",
              "      <td>2380</td>\n",
              "      <td>Computer Science and Engineering</td>\n",
              "      <td>0</td>\n",
              "      <td>-1.0</td>\n",
              "      <td>0.0</td>\n",
              "    </tr>\n",
              "    <tr>\n",
              "      <th>31</th>\n",
              "      <td>AMARNATH D</td>\n",
              "      <td>-1.0</td>\n",
              "      <td>12.0</td>\n",
              "      <td>1890</td>\n",
              "      <td>1890</td>\n",
              "      <td>Electronics and Communication Engineering</td>\n",
              "      <td>0</td>\n",
              "      <td>52.0</td>\n",
              "      <td>-1.0</td>\n",
              "    </tr>\n",
              "    <tr>\n",
              "      <th>32</th>\n",
              "      <td>bala</td>\n",
              "      <td>32.0</td>\n",
              "      <td>0.0</td>\n",
              "      <td>1720</td>\n",
              "      <td>1720</td>\n",
              "      <td>Electronics and Communication Engineering</td>\n",
              "      <td>0</td>\n",
              "      <td>49.0</td>\n",
              "      <td>-1.0</td>\n",
              "    </tr>\n",
              "    <tr>\n",
              "      <th>33</th>\n",
              "      <td>XY Z</td>\n",
              "      <td>-1.0</td>\n",
              "      <td>-1.0</td>\n",
              "      <td>0</td>\n",
              "      <td>0</td>\n",
              "      <td>Computer Science and Engineering</td>\n",
              "      <td>0</td>\n",
              "      <td>20.0</td>\n",
              "      <td>-1.0</td>\n",
              "    </tr>\n",
              "    <tr>\n",
              "      <th>34</th>\n",
              "      <td>Hariharan</td>\n",
              "      <td>-1.0</td>\n",
              "      <td>-1.0</td>\n",
              "      <td>0</td>\n",
              "      <td>0</td>\n",
              "      <td>Computer Science and Engineering</td>\n",
              "      <td>0</td>\n",
              "      <td>-1.0</td>\n",
              "      <td>0.0</td>\n",
              "    </tr>\n",
              "  </tbody>\n",
              "</table>\n",
              "<p>119 rows × 9 columns</p>\n",
              "</div>\n",
              "      <button class=\"colab-df-convert\" onclick=\"convertToInteractive('df-015fc4a3-9dee-48a7-acd4-d100bfbabf0e')\"\n",
              "              title=\"Convert this dataframe to an interactive table.\"\n",
              "              style=\"display:none;\">\n",
              "        \n",
              "  <svg xmlns=\"http://www.w3.org/2000/svg\" height=\"24px\"viewBox=\"0 0 24 24\"\n",
              "       width=\"24px\">\n",
              "    <path d=\"M0 0h24v24H0V0z\" fill=\"none\"/>\n",
              "    <path d=\"M18.56 5.44l.94 2.06.94-2.06 2.06-.94-2.06-.94-.94-2.06-.94 2.06-2.06.94zm-11 1L8.5 8.5l.94-2.06 2.06-.94-2.06-.94L8.5 2.5l-.94 2.06-2.06.94zm10 10l.94 2.06.94-2.06 2.06-.94-2.06-.94-.94-2.06-.94 2.06-2.06.94z\"/><path d=\"M17.41 7.96l-1.37-1.37c-.4-.4-.92-.59-1.43-.59-.52 0-1.04.2-1.43.59L10.3 9.45l-7.72 7.72c-.78.78-.78 2.05 0 2.83L4 21.41c.39.39.9.59 1.41.59.51 0 1.02-.2 1.41-.59l7.78-7.78 2.81-2.81c.8-.78.8-2.07 0-2.86zM5.41 20L4 18.59l7.72-7.72 1.47 1.35L5.41 20z\"/>\n",
              "  </svg>\n",
              "      </button>\n",
              "      \n",
              "  <style>\n",
              "    .colab-df-container {\n",
              "      display:flex;\n",
              "      flex-wrap:wrap;\n",
              "      gap: 12px;\n",
              "    }\n",
              "\n",
              "    .colab-df-convert {\n",
              "      background-color: #E8F0FE;\n",
              "      border: none;\n",
              "      border-radius: 50%;\n",
              "      cursor: pointer;\n",
              "      display: none;\n",
              "      fill: #1967D2;\n",
              "      height: 32px;\n",
              "      padding: 0 0 0 0;\n",
              "      width: 32px;\n",
              "    }\n",
              "\n",
              "    .colab-df-convert:hover {\n",
              "      background-color: #E2EBFA;\n",
              "      box-shadow: 0px 1px 2px rgba(60, 64, 67, 0.3), 0px 1px 3px 1px rgba(60, 64, 67, 0.15);\n",
              "      fill: #174EA6;\n",
              "    }\n",
              "\n",
              "    [theme=dark] .colab-df-convert {\n",
              "      background-color: #3B4455;\n",
              "      fill: #D2E3FC;\n",
              "    }\n",
              "\n",
              "    [theme=dark] .colab-df-convert:hover {\n",
              "      background-color: #434B5C;\n",
              "      box-shadow: 0px 1px 3px 1px rgba(0, 0, 0, 0.15);\n",
              "      filter: drop-shadow(0px 1px 2px rgba(0, 0, 0, 0.3));\n",
              "      fill: #FFFFFF;\n",
              "    }\n",
              "  </style>\n",
              "\n",
              "      <script>\n",
              "        const buttonEl =\n",
              "          document.querySelector('#df-015fc4a3-9dee-48a7-acd4-d100bfbabf0e button.colab-df-convert');\n",
              "        buttonEl.style.display =\n",
              "          google.colab.kernel.accessAllowed ? 'block' : 'none';\n",
              "\n",
              "        async function convertToInteractive(key) {\n",
              "          const element = document.querySelector('#df-015fc4a3-9dee-48a7-acd4-d100bfbabf0e');\n",
              "          const dataTable =\n",
              "            await google.colab.kernel.invokeFunction('convertToInteractive',\n",
              "                                                     [key], {});\n",
              "          if (!dataTable) return;\n",
              "\n",
              "          const docLinkHtml = 'Like what you see? Visit the ' +\n",
              "            '<a target=\"_blank\" href=https://colab.research.google.com/notebooks/data_table.ipynb>data table notebook</a>'\n",
              "            + ' to learn more about interactive tables.';\n",
              "          element.innerHTML = '';\n",
              "          dataTable['output_type'] = 'display_data';\n",
              "          await google.colab.output.renderOutput(dataTable, element);\n",
              "          const docLink = document.createElement('div');\n",
              "          docLink.innerHTML = docLinkHtml;\n",
              "          element.appendChild(docLink);\n",
              "        }\n",
              "      </script>\n",
              "    </div>\n",
              "  </div>\n",
              "  "
            ],
            "text/plain": [
              "             Name  python  mysql  ...  Rising  python_en computational_thinking\n",
              "0       A.Dharani    82.0   20.0  ...       0        NaN                    NaN\n",
              "1     V.JEEVITHA     82.0   20.0  ...       0        NaN                    NaN\n",
              "2     HEMAVATHI.R   100.0  100.0  ...       0        NaN                    NaN\n",
              "3     Mugunthan S   100.0   47.0  ...       0        NaN                    NaN\n",
              "4     Sathammai.S   100.0    8.0  ...       0        NaN                    NaN\n",
              "..            ...     ...    ...  ...     ...        ...                    ...\n",
              "30  praveen raj j    24.0    0.0  ...       0       -1.0                    0.0\n",
              "31     AMARNATH D    -1.0   12.0  ...       0       52.0                   -1.0\n",
              "32           bala    32.0    0.0  ...       0       49.0                   -1.0\n",
              "33           XY Z    -1.0   -1.0  ...       0       20.0                   -1.0\n",
              "34      Hariharan    -1.0   -1.0  ...       0       -1.0                    0.0\n",
              "\n",
              "[119 rows x 9 columns]"
            ]
          },
          "metadata": {},
          "execution_count": 51
        }
      ]
    },
    {
      "cell_type": "code",
      "source": [
        "df.shape"
      ],
      "metadata": {
        "colab": {
          "base_uri": "https://localhost:8080/"
        },
        "id": "FHe_oP6h1N5K",
        "outputId": "5ced8fc6-e84a-49a5-dd27-739407551746"
      },
      "execution_count": 52,
      "outputs": [
        {
          "output_type": "execute_result",
          "data": {
            "text/plain": [
              "(119, 9)"
            ]
          },
          "metadata": {},
          "execution_count": 52
        }
      ]
    },
    {
      "cell_type": "code",
      "source": [
        "df.index"
      ],
      "metadata": {
        "colab": {
          "base_uri": "https://localhost:8080/"
        },
        "id": "cXEaFSOz3fkl",
        "outputId": "65385ee3-7b05-41b0-b180-9e21def72506"
      },
      "execution_count": 53,
      "outputs": [
        {
          "output_type": "execute_result",
          "data": {
            "text/plain": [
              "Int64Index([ 0,  1,  2,  3,  4,  5,  6,  7,  8,  9,\n",
              "            ...\n",
              "            25, 26, 27, 28, 29, 30, 31, 32, 33, 34],\n",
              "           dtype='int64', length=119)"
            ]
          },
          "metadata": {},
          "execution_count": 53
        }
      ]
    },
    {
      "cell_type": "code",
      "source": [
        "df.index=np.arange(119)"
      ],
      "metadata": {
        "id": "akHQ4vML3Z5C"
      },
      "execution_count": 54,
      "outputs": []
    },
    {
      "cell_type": "code",
      "source": [
        "df.index"
      ],
      "metadata": {
        "colab": {
          "base_uri": "https://localhost:8080/"
        },
        "id": "gxafvjAT3t6t",
        "outputId": "a7e7f63e-169d-446a-e6b6-2cf441c4cc56"
      },
      "execution_count": 55,
      "outputs": [
        {
          "output_type": "execute_result",
          "data": {
            "text/plain": [
              "Int64Index([  0,   1,   2,   3,   4,   5,   6,   7,   8,   9,\n",
              "            ...\n",
              "            109, 110, 111, 112, 113, 114, 115, 116, 117, 118],\n",
              "           dtype='int64', length=119)"
            ]
          },
          "metadata": {},
          "execution_count": 55
        }
      ]
    },
    {
      "cell_type": "markdown",
      "metadata": {
        "id": "UtK1cWqruUDZ"
      },
      "source": [
        "###### Take each csv file , split that csv file into multiple categories (example csv files are added in the repo) \n"
      ]
    },
    {
      "cell_type": "markdown",
      "metadata": {
        "id": "LTaWt8S5uUDc"
      },
      "source": [
        "###### consider if the codekata score exceeds 15000 points(present week) then make a csv on those observations as Exceeded expectations.csv\n"
      ]
    },
    {
      "cell_type": "markdown",
      "metadata": {
        "id": "MwYtdim1uUDf"
      },
      "source": [
        "###### if  10000<codekata score<15000   (Reached_expectations.csv)\n",
        "\n"
      ]
    },
    {
      "cell_type": "markdown",
      "metadata": {
        "id": "3zuQs0JeuUDi"
      },
      "source": [
        "###### if  7000<codekata score<10000   (Needs_Improvement.csv)\n"
      ]
    },
    {
      "cell_type": "markdown",
      "metadata": {
        "id": "lE2wqXu-uUDk"
      },
      "source": [
        "###### if  codekate score < 7000        (Unsatisfactory.csv)"
      ]
    },
    {
      "cell_type": "code",
      "execution_count": 56,
      "metadata": {
        "id": "VGWlib6euUDm"
      },
      "outputs": [],
      "source": [
        "#solution\n",
        "exceeded_expectations=df[df[\"CodeKata Score\"]>=15000]\n",
        "exceeded_expectations.to_csv(\"Exceeded expectations.csv\", index=False)"
      ]
    },
    {
      "cell_type": "code",
      "source": [
        "#solution\n",
        "reached_expectations=df[(df[\"CodeKata Score\"]>=10000) & (df[\"CodeKata Score\"]<15000)]\n",
        "reached_expectations.to_csv(\"Reached_expectations.csv\", index=False)"
      ],
      "metadata": {
        "id": "vMEZ2AiE2OAD"
      },
      "execution_count": 57,
      "outputs": []
    },
    {
      "cell_type": "code",
      "execution_count": 58,
      "metadata": {
        "id": "iGjWXHg2uUDo"
      },
      "outputs": [],
      "source": [
        "#solution\n",
        "needs_improvement=df[(df[\"CodeKata Score\"]>=7000) & (df[\"CodeKata Score\"]<10000)]\n",
        "needs_improvement.to_csv(\"Needs_improvement.csv\", index=False)"
      ]
    },
    {
      "cell_type": "code",
      "source": [
        "#solution\n",
        "unsatisfactory=df[df[\"CodeKata Score\"]<7000]\n",
        "unsatisfactory.to_csv(\"Unsatisfactory.csv\", index=False)"
      ],
      "metadata": {
        "id": "E9Jkn6Gp4HsN"
      },
      "execution_count": 59,
      "outputs": []
    },
    {
      "cell_type": "markdown",
      "metadata": {
        "id": "i3pKnLbWuUDp"
      },
      "source": [
        "###### Average of previous week geekions vs this week geekions (i.e Previous Geekions vs CodeKata Score)"
      ]
    },
    {
      "cell_type": "code",
      "execution_count": 60,
      "metadata": {
        "id": "ujJ5-7HduUDr",
        "colab": {
          "base_uri": "https://localhost:8080/"
        },
        "outputId": "4e071e53-5f47-4b4d-f1c3-f190a9aa1bb9"
      },
      "outputs": [
        {
          "output_type": "stream",
          "name": "stdout",
          "text": [
            "3842.3529411764707\n",
            "4051.764705882353\n",
            "The average of this week's geekions are 1.054500918554807 times the previous week's geekions \n"
          ]
        }
      ],
      "source": [
        "#solution\n",
        "print(df['Previous Geekions'].mean())\n",
        "print(df['CodeKata Score'].mean())\n",
        "print(f\"The average of this week's geekions are {df['CodeKata Score'].mean()/df['Previous Geekions'].mean()} times the previous week's geekions \")"
      ]
    },
    {
      "cell_type": "markdown",
      "metadata": {
        "id": "f66WF2GquUDs"
      },
      "source": [
        "###### No of students participated "
      ]
    },
    {
      "cell_type": "code",
      "execution_count": 61,
      "metadata": {
        "id": "LBfY86NyuUDz",
        "colab": {
          "base_uri": "https://localhost:8080/"
        },
        "outputId": "7d039f0e-0dde-49a5-aa5e-a7e9128faee6"
      },
      "outputs": [
        {
          "output_type": "execute_result",
          "data": {
            "text/plain": [
              "119"
            ]
          },
          "metadata": {},
          "execution_count": 61
        }
      ],
      "source": [
        "#solution\n",
        "df[df[\"Name\"].isnull()==False].shape[0]"
      ]
    },
    {
      "cell_type": "code",
      "source": [
        "# Alternate solution\n",
        "df.shape[0]"
      ],
      "metadata": {
        "colab": {
          "base_uri": "https://localhost:8080/"
        },
        "id": "hSIwZlMu-bsQ",
        "outputId": "0ceadadc-1d12-48f9-d2ee-a5440f6a51d5"
      },
      "execution_count": 62,
      "outputs": [
        {
          "output_type": "execute_result",
          "data": {
            "text/plain": [
              "119"
            ]
          },
          "metadata": {},
          "execution_count": 62
        }
      ]
    },
    {
      "cell_type": "markdown",
      "metadata": {
        "id": "2Ffi27ijuUD6"
      },
      "source": [
        "###### #Average completion of python course or my_sql or python english or computational thinking"
      ]
    },
    {
      "cell_type": "code",
      "execution_count": 63,
      "metadata": {
        "id": "PB35Vo7MuUD8",
        "colab": {
          "base_uri": "https://localhost:8080/"
        },
        "outputId": "ede1fad1-f5a0-458d-d91f-df975cb16e19"
      },
      "outputs": [
        {
          "output_type": "stream",
          "name": "stdout",
          "text": [
            "Enter 1 for Python course\n",
            "Enter 2 for MySQL\n",
            "Enter 3 for Python english\n",
            "Enter 4 for Computational thinking\n",
            "\n",
            "Enter your choice for finding the Average Completion in the respective field:\n",
            "\t4\n",
            "\n",
            "Number of missing values in computational_thinking column: 84\n",
            "Average completion of Computational thinking is 2.200\n",
            "\n"
          ]
        }
      ],
      "source": [
        "#solution\n",
        "print(\"Enter 1 for Python course\")\n",
        "print(\"Enter 2 for MySQL\")\n",
        "print(\"Enter 3 for Python english\")\n",
        "print(\"Enter 4 for Computational thinking\\n\")\n",
        "\n",
        "ch=int(input(\"Enter your choice for finding the Average Completion in the respective field:\\n\\t\"))\n",
        "\n",
        "if ch ==1:\n",
        "  print(\"\\nNumber of missing values in python course column:\",(df['python'].isnull().sum()))\n",
        "  print(f\"Average completion of Python course is {df['python'].mean():.3f}\\n\")\n",
        "elif ch==2:\n",
        "  print(\"\\nNumber of missing values in mysql column:\",(df['mysql'].isnull().sum()))\n",
        "  print(f\"Average completion of MySQL is {df['mysql'].mean():.3f}\\n\")\n",
        "elif ch==3:\n",
        "  print(\"\\nNumber of missing values in python_en column:\",(df['python_en'].isnull().sum()))\n",
        "  print(f\"Average completion of Python english is {df.loc[df['python_en'].isnull()==False,'python_en'].mean():.3f}\\n\")\n",
        "elif ch==4:\n",
        "  print(\"\\nNumber of missing values in computational_thinking column:\",(df['computational_thinking'].isnull().sum()))\n",
        "  print(f\"Average completion of Computational thinking is {df.loc[df['computational_thinking'].isnull()==False,'computational_thinking'].mean():.3f}\\n\")\n",
        "else:\n",
        "  print(\"Invalid Choice\")"
      ]
    },
    {
      "cell_type": "markdown",
      "metadata": {
        "id": "wzRkXZv_uUD-"
      },
      "source": [
        "###### rising star of the week (top 3 candidate who performed well in that particular week)"
      ]
    },
    {
      "cell_type": "code",
      "execution_count": 64,
      "metadata": {
        "id": "JRMasyQ_uUD_",
        "colab": {
          "base_uri": "https://localhost:8080/"
        },
        "outputId": "8703d8da-bd47-4500-a267-87a4aa2e108c"
      },
      "outputs": [
        {
          "output_type": "stream",
          "name": "stdout",
          "text": [
            "Rising stars of the week : Top 3 candidate who performed well in that week\n",
            "\n",
            "1. A.Dharani\n",
            "2. V.Jeevitha\n",
            "3. Hemavathi.R\n"
          ]
        }
      ],
      "source": [
        "#solution\n",
        "ind1=df['CodeKata Score'].sort_values(ascending=False)[:3].index\n",
        "print(\"Rising stars of the week : Top 3 candidate who performed well in that week\\n\")\n",
        "j=1\n",
        "for i in df.loc[ind1,\"Name\"].str.strip():\n",
        "  print(f\"{j}. {i.title()}\")\n",
        "  j+=1\n"
      ]
    },
    {
      "cell_type": "markdown",
      "metadata": {
        "id": "UL-Av0kLuUEA"
      },
      "source": [
        "###### Shining stars of the week (top 3 candidates who has highest geekions)"
      ]
    },
    {
      "cell_type": "code",
      "execution_count": 65,
      "metadata": {
        "id": "5G4lTjMSuUEB",
        "colab": {
          "base_uri": "https://localhost:8080/"
        },
        "outputId": "2e809bdb-203a-4049-aae6-9b522e26229f"
      },
      "outputs": [
        {
          "output_type": "stream",
          "name": "stdout",
          "text": [
            "Shining star of the week : Top 3 candidate who has highest geekions\n",
            "\n",
            "1. A.Dharani\n",
            "2. V.Jeevitha\n",
            "3. Hemavathi.R\n"
          ]
        }
      ],
      "source": [
        "#solution\n",
        "ind2=df['Previous Geekions'].sort_values(ascending=False)[:3].index\n",
        "print(\"Shining star of the week : Top 3 candidate who has highest geekions\\n\")\n",
        "j=1\n",
        "for i in df.loc[ind1,\"Name\"].str.strip():\n",
        "  print(f\"{j}. {i.title()}\")\n",
        "  j+=1"
      ]
    },
    {
      "cell_type": "markdown",
      "metadata": {
        "id": "6y4hraBzuUEC"
      },
      "source": [
        "###### Department wise codekata performence (pie chart)"
      ]
    },
    {
      "cell_type": "code",
      "execution_count": 66,
      "metadata": {
        "id": "UTXUE4DOuUEE",
        "colab": {
          "base_uri": "https://localhost:8080/",
          "height": 478
        },
        "outputId": "2131f8d4-0317-413b-cefd-dbb058184c37"
      },
      "outputs": [
        {
          "output_type": "stream",
          "name": "stdout",
          "text": [
            "Department\n",
            "Electronics and Communication Engineering    2777.820513\n",
            "Electronics and Electrical Engineering       3164.705882\n",
            "Computer Science and Engineering             5079.761905\n",
            "Name: CodeKata Score, dtype: float64\n"
          ]
        },
        {
          "output_type": "display_data",
          "data": {
            "image/png": "[encoded data removed]",
            "text/plain": [
              "<Figure size 648x432 with 1 Axes>"
            ]
          },
          "metadata": {}
        }
      ],
      "source": [
        "#solution\n",
        "data=df.groupby(by='Department')[\"CodeKata Score\"].mean().sort_values()\n",
        "print(data)\n",
        "ex=[0,0,0.15]\n",
        "plt.figure(dpi=108)\n",
        "plt.title(\"Department wise codekata performence\",fontsize=16)\n",
        "\n",
        "plt.pie(data,labels=data.index,\n",
        "        wedgeprops={\"edgecolor\":\"r\"},\n",
        "        shadow=True,\n",
        "        explode=ex,\n",
        "        autopct=\"%1.2f%%\",\n",
        "        startangle=45)\n",
        "\n",
        "plt.show()"
      ]
    },
    {
      "cell_type": "markdown",
      "metadata": {
        "id": "fdMQZyoeuUEF"
      },
      "source": [
        "###### Department wise toppers (horizantal bar graph or any visual representations of your choice)"
      ]
    },
    {
      "cell_type": "code",
      "execution_count": 80,
      "metadata": {
        "id": "ESEwTJKJuUEG",
        "colab": {
          "base_uri": "https://localhost:8080/"
        },
        "outputId": "ab078c4d-a085-4123-b58f-182f2e46a027"
      },
      "outputs": [
        {
          "output_type": "execute_result",
          "data": {
            "text/plain": [
              "Department                                   \n",
              "Computer Science and Engineering           0     24500\n",
              "                                           1     21740\n",
              "                                           2     19680\n",
              "Electronics and Communication Engineering  87    10040\n",
              "                                           91     8650\n",
              "                                           6      7880\n",
              "Electronics and Electrical Engineering     84    19400\n",
              "                                           88     9150\n",
              "                                           92     8320\n",
              "Name: CodeKata Score, dtype: int64"
            ]
          },
          "metadata": {},
          "execution_count": 80
        }
      ],
      "source": [
        "\n",
        "grp_df=df.groupby(by=\"Department\")\n",
        "grp=grp_df['CodeKata Score'].nlargest(3)\n",
        "grp"
      ]
    },
    {
      "cell_type": "code",
      "source": [
        "ind=grp.index.get_level_values(0)\n",
        "dept=pd.Series(ind, index=grp.index)\n",
        "dept.index=dept.index.droplevel(level=0)\n",
        "dept"
      ],
      "metadata": {
        "colab": {
          "base_uri": "https://localhost:8080/"
        },
        "id": "bVFGFdOKc48T",
        "outputId": "f2eb53e1-e998-4eda-fbc4-70f74a039d8a"
      },
      "execution_count": 81,
      "outputs": [
        {
          "output_type": "execute_result",
          "data": {
            "text/plain": [
              "0              Computer Science and Engineering\n",
              "1              Computer Science and Engineering\n",
              "2              Computer Science and Engineering\n",
              "87    Electronics and Communication Engineering\n",
              "91    Electronics and Communication Engineering\n",
              "6     Electronics and Communication Engineering\n",
              "84       Electronics and Electrical Engineering\n",
              "88       Electronics and Electrical Engineering\n",
              "92       Electronics and Electrical Engineering\n",
              "Name: Department, dtype: object"
            ]
          },
          "metadata": {},
          "execution_count": 81
        }
      ]
    },
    {
      "cell_type": "code",
      "source": [
        "grp.index=grp.index.droplevel(level=0)\n",
        "grp #CodeKata Score"
      ],
      "metadata": {
        "colab": {
          "base_uri": "https://localhost:8080/"
        },
        "id": "Sty7--jDcnI6",
        "outputId": "f6e0c9b2-91cc-4fcb-d6a2-a29f65d599c3"
      },
      "execution_count": 82,
      "outputs": [
        {
          "output_type": "execute_result",
          "data": {
            "text/plain": [
              "0     24500\n",
              "1     21740\n",
              "2     19680\n",
              "87    10040\n",
              "91     8650\n",
              "6      7880\n",
              "84    19400\n",
              "88     9150\n",
              "92     8320\n",
              "Name: CodeKata Score, dtype: int64"
            ]
          },
          "metadata": {},
          "execution_count": 82
        }
      ]
    },
    {
      "cell_type": "code",
      "source": [
        "#solution\n",
        "plt.figure(figsize=(13,6))\n",
        "plt.title(\"Department wise toppers\", fontsize=16)\n",
        "sns.barplot(x=df.loc[list(grp.index),\"Name\"], y=grp,hue=dept)\n",
        "plt.xticks(ticks=np.arange(len(grp)),labels=df.loc[list(grp.index),\"Name\"],rotation=45)\n",
        "plt.xlabel(\"Names of the Toppers\",fontsize=14)\n",
        "plt.ylabel(\"CodeKata Score\",fontsize=14)\n",
        "plt.show()"
      ],
      "metadata": {
        "colab": {
          "base_uri": "https://localhost:8080/",
          "height": 466
        },
        "id": "10nayGfGYEqS",
        "outputId": "590c59da-4729-43b5-c0fc-f03370fddf3e"
      },
      "execution_count": 90,
      "outputs": [
        {
          "output_type": "display_data",
          "data": {
            "image/png": "[encoded data removed]",
            "text/plain": [
              "<Figure size 936x432 with 1 Axes>"
            ]
          },
          "metadata": {
            "needs_background": "light"
          }
        }
      ]
    }
  ],
  "metadata": {
    "kernelspec": {
      "display_name": "Python 3",
      "language": "python",
      "name": "python3"
    },
    "language_info": {
      "codemirror_mode": {
        "name": "ipython",
        "version": 3
      },
      "file_extension": ".py",
      "mimetype": "text/x-python",
      "name": "python",
      "nbconvert_exporter": "python",
      "pygments_lexer": "ipython3",
      "version": "3.8.3"
    },
    "colab": {
      "name": "Task 4_pandas2_Batch D18",
      "provenance": [],
      "collapsed_sections": [],
      "include_colab_link": true
    }
  },
  "nbformat": 4,
  "nbformat_minor": 0
}