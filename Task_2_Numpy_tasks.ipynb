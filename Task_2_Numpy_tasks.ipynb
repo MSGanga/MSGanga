{
  "cells": [
    {
      "cell_type": "markdown",
      "metadata": {
        "id": "yCI2TYLjIu7i"
      },
      "source": [
        "# Numpy\n",
        "\n"
      ]
    },
    {
      "cell_type": "markdown",
      "metadata": {
        "id": "vT2ntnedIu7t"
      },
      "source": [
        "#### 1. Import the numpy package under the name `np` (★☆☆) \n",
        "(**hint**: import … as …)"
      ]
    },
    {
      "cell_type": "code",
      "execution_count": 1,
      "metadata": {
        "collapsed": true,
        "id": "vhgRmzs4Iu7v"
      },
      "outputs": [],
      "source": [
        "import numpy as np"
      ]
    },
    {
      "cell_type": "markdown",
      "metadata": {
        "id": "mR1j4FldIu7x"
      },
      "source": [
        "#### 2. Print the numpy version and the configuration (★☆☆) \n",
        "(**hint**: np.\\_\\_version\\_\\_, np.show\\_config)"
      ]
    },
    {
      "cell_type": "code",
      "execution_count": null,
      "metadata": {
        "id": "WohefTwbIu7y",
        "colab": {
          "base_uri": "https://localhost:8080/"
        },
        "outputId": "9633c7d0-efaf-4afc-a9fe-b71252309ca2"
      },
      "outputs": [
        {
          "output_type": "stream",
          "name": "stdout",
          "text": [
            "1.19.5 \n",
            "\n",
            "blas_mkl_info:\n",
            "  NOT AVAILABLE\n",
            "blis_info:\n",
            "  NOT AVAILABLE\n",
            "openblas_info:\n",
            "    libraries = ['openblas', 'openblas']\n",
            "    library_dirs = ['/usr/local/lib']\n",
            "    language = c\n",
            "    define_macros = [('HAVE_CBLAS', None)]\n",
            "blas_opt_info:\n",
            "    libraries = ['openblas', 'openblas']\n",
            "    library_dirs = ['/usr/local/lib']\n",
            "    language = c\n",
            "    define_macros = [('HAVE_CBLAS', None)]\n",
            "lapack_mkl_info:\n",
            "  NOT AVAILABLE\n",
            "openblas_lapack_info:\n",
            "    libraries = ['openblas', 'openblas']\n",
            "    library_dirs = ['/usr/local/lib']\n",
            "    language = c\n",
            "    define_macros = [('HAVE_CBLAS', None)]\n",
            "lapack_opt_info:\n",
            "    libraries = ['openblas', 'openblas']\n",
            "    library_dirs = ['/usr/local/lib']\n",
            "    language = c\n",
            "    define_macros = [('HAVE_CBLAS', None)]\n",
            "None\n"
          ]
        }
      ],
      "source": [
        "print(np.__version__,\"\\n\")\n",
        "print(np.show_config())"
      ]
    },
    {
      "cell_type": "markdown",
      "metadata": {
        "id": "XuRM-NihIu7z"
      },
      "source": [
        "#### 3. Create a null vector of size 10 (★☆☆) \n",
        "(**hint**: np.zeros)"
      ]
    },
    {
      "cell_type": "code",
      "execution_count": null,
      "metadata": {
        "id": "O9LPSZz9Iu70",
        "colab": {
          "base_uri": "https://localhost:8080/"
        },
        "outputId": "cf78d828-f1fa-4012-b027-f5be179eeca0"
      },
      "outputs": [
        {
          "output_type": "execute_result",
          "data": {
            "text/plain": [
              "array([0, 0, 0, 0, 0, 0, 0, 0, 0, 0])"
            ]
          },
          "metadata": {},
          "execution_count": 3
        }
      ],
      "source": [
        "zer= np.zeros(10, dtype=int)\n",
        "zer"
      ]
    },
    {
      "cell_type": "markdown",
      "metadata": {
        "id": "Ie8m9l_KIu70"
      },
      "source": [
        "#### 4.  How to find the memory size of any array (★☆☆) \n",
        "(**hint**: size, itemsize)"
      ]
    },
    {
      "cell_type": "code",
      "execution_count": null,
      "metadata": {
        "id": "6KjqRUNXIu72",
        "colab": {
          "base_uri": "https://localhost:8080/"
        },
        "outputId": "650b4256-3764-43da-c9a0-f93a5f306685"
      },
      "outputs": [
        {
          "output_type": "stream",
          "name": "stdout",
          "text": [
            "Size of the above array is 10\n",
            "Length of an item in the above array is 8\n"
          ]
        }
      ],
      "source": [
        "print(\"Size of the above array is\",zer.size)\n",
        "print(\"Length of an item in the above array is\",zer.itemsize)"
      ]
    },
    {
      "cell_type": "markdown",
      "metadata": {
        "id": "2AHHehCQIu72"
      },
      "source": [
        "#### 5.  How to get the documentation of the numpy add function from the command line? (★☆☆) \n",
        "(**hint**: np.info)"
      ]
    },
    {
      "cell_type": "code",
      "execution_count": null,
      "metadata": {
        "collapsed": true,
        "id": "33DeogpuIu73",
        "colab": {
          "base_uri": "https://localhost:8080/"
        },
        "outputId": "24545be1-2909-4231-d261-dbd699c15015"
      },
      "outputs": [
        {
          "output_type": "stream",
          "name": "stdout",
          "text": [
            "None\n"
          ]
        }
      ],
      "source": [
        "print(np.info(np.add))"
      ]
    },
    {
      "cell_type": "markdown",
      "metadata": {
        "id": "JgrXDzngIu74"
      },
      "source": [
        "#### 6.  Create a null vector of size 10 but the fifth value which is 1 (★☆☆) \n",
        "(**hint**: array\\[4\\])"
      ]
    },
    {
      "cell_type": "code",
      "execution_count": null,
      "metadata": {
        "id": "FKoy_3WtIu74",
        "colab": {
          "base_uri": "https://localhost:8080/"
        },
        "outputId": "28644386-b36a-420f-e7c7-a63e2fbf90c6"
      },
      "outputs": [
        {
          "output_type": "execute_result",
          "data": {
            "text/plain": [
              "array([0, 0, 0, 0, 1, 0, 0, 0, 0, 0])"
            ]
          },
          "metadata": {},
          "execution_count": 6
        }
      ],
      "source": [
        "zer1= np.zeros(10, dtype=int)\n",
        "zer1[4]=1\n",
        "zer1"
      ]
    },
    {
      "cell_type": "markdown",
      "metadata": {
        "id": "oOiSOkiKIu75"
      },
      "source": [
        "#### 7.  Create a vector with values ranging from 10 to 49 (★☆☆) \n",
        "(**hint**: np.arange)"
      ]
    },
    {
      "cell_type": "code",
      "execution_count": null,
      "metadata": {
        "id": "a9Tc3GkpIu76",
        "colab": {
          "base_uri": "https://localhost:8080/"
        },
        "outputId": "d5665012-8da7-4990-8c32-b23501978f25"
      },
      "outputs": [
        {
          "output_type": "execute_result",
          "data": {
            "text/plain": [
              "array([10, 11, 12, 13, 14, 15, 16, 17, 18, 19, 20, 21, 22, 23, 24, 25, 26,\n",
              "       27, 28, 29, 30, 31, 32, 33, 34, 35, 36, 37, 38, 39, 40, 41, 42, 43,\n",
              "       44, 45, 46, 47, 48, 49])"
            ]
          },
          "metadata": {},
          "execution_count": 7
        }
      ],
      "source": [
        "arr1 = np.arange(10,50)\n",
        "arr1"
      ]
    },
    {
      "cell_type": "markdown",
      "metadata": {
        "id": "yWDEwwhXIu76"
      },
      "source": [
        "#### 8.  Reverse a vector (first element becomes last) (★☆☆) \n",
        "(**hint**: array\\[::-1\\])"
      ]
    },
    {
      "cell_type": "code",
      "execution_count": null,
      "metadata": {
        "id": "GVqfp_ucIu77",
        "colab": {
          "base_uri": "https://localhost:8080/"
        },
        "outputId": "89e5d08d-8464-45d8-adbf-fbdb5f71fa55"
      },
      "outputs": [
        {
          "output_type": "execute_result",
          "data": {
            "text/plain": [
              "array([50, 48, 46, 44, 42, 40, 38, 36, 34, 32, 30, 28, 26, 24, 22, 20, 18,\n",
              "       16, 14, 12, 10])"
            ]
          },
          "metadata": {},
          "execution_count": 8
        }
      ],
      "source": [
        "arr2 = np.arange(10,51,2)\n",
        "arr2[::-1]"
      ]
    },
    {
      "cell_type": "markdown",
      "metadata": {
        "id": "Ur_rEfzyIu78"
      },
      "source": [
        "#### 9.  Create a 3x3 matrix with values ranging from 0 to 8 (★☆☆) \n",
        "(**hint**: reshape)"
      ]
    },
    {
      "cell_type": "code",
      "execution_count": null,
      "metadata": {
        "id": "jJgniXrKIu78",
        "colab": {
          "base_uri": "https://localhost:8080/"
        },
        "outputId": "5a2b2633-7cf8-4f3b-d2cd-4fa9d0f00699"
      },
      "outputs": [
        {
          "output_type": "execute_result",
          "data": {
            "text/plain": [
              "array([[0, 1, 2],\n",
              "       [3, 4, 5],\n",
              "       [6, 7, 8]])"
            ]
          },
          "metadata": {},
          "execution_count": 9
        }
      ],
      "source": [
        "arr3 = np.arange(9).reshape(3,3)\n",
        "arr3"
      ]
    },
    {
      "cell_type": "markdown",
      "metadata": {
        "id": "Ket9ro0CIu8E"
      },
      "source": [
        "#### 10. Find indices of non-zero elements from \\[1,2,0,0,4,0\\] (★☆☆) \n",
        "(**hint**: np.nonzero)"
      ]
    },
    {
      "cell_type": "code",
      "execution_count": null,
      "metadata": {
        "id": "n3x85IxyIu8F",
        "colab": {
          "base_uri": "https://localhost:8080/"
        },
        "outputId": "a8e9a547-0171-4f24-8669-74ded38f833b"
      },
      "outputs": [
        {
          "output_type": "stream",
          "name": "stdout",
          "text": [
            "Indices of non zero elements :  (array([0, 1, 4]),)\n"
          ]
        }
      ],
      "source": [
        "arr4=np.array([1,2,0,0,4,0])\n",
        "print (\"Indices of non zero elements : \",np.nonzero(arr4))\n",
        "#returns a tuple of arrays,one for each dimension of arr,containing the indices of the non-zero items in that dimension."
      ]
    },
    {
      "cell_type": "markdown",
      "metadata": {
        "id": "xm8l5f5SIu8F"
      },
      "source": [
        "#### 11. Create a 3x3 identity matrix (★☆☆) \n",
        "(**hint**: np.eye)"
      ]
    },
    {
      "cell_type": "code",
      "execution_count": null,
      "metadata": {
        "id": "j5_mgiarIu8G",
        "colab": {
          "base_uri": "https://localhost:8080/"
        },
        "outputId": "53d7b8aa-78b8-4bb5-b9e6-ebfdf95d7302"
      },
      "outputs": [
        {
          "output_type": "execute_result",
          "data": {
            "text/plain": [
              "array([[1, 0, 0],\n",
              "       [0, 1, 0],\n",
              "       [0, 0, 1]])"
            ]
          },
          "metadata": {},
          "execution_count": 11
        }
      ],
      "source": [
        "arr5=np.eye(3, dtype=int)\n",
        "arr5"
      ]
    },
    {
      "cell_type": "markdown",
      "metadata": {
        "id": "G_6hRaFEIu8G"
      },
      "source": [
        "#### 12. Create a 3x3x3 array with random values (★☆☆) \n",
        "(**hint**: np.random.random)"
      ]
    },
    {
      "cell_type": "code",
      "execution_count": null,
      "metadata": {
        "collapsed": true,
        "id": "nB7vvKDzIu8H",
        "colab": {
          "base_uri": "https://localhost:8080/"
        },
        "outputId": "35aba64d-4539-4d00-ec75-32ce4fa6330f"
      },
      "outputs": [
        {
          "output_type": "execute_result",
          "data": {
            "text/plain": [
              "array([[[0.15121679, 0.38498692, 0.01849751],\n",
              "        [0.60104712, 0.61692875, 0.17665   ],\n",
              "        [0.38700879, 0.77187127, 0.83701382]],\n",
              "\n",
              "       [[0.30304101, 0.51490109, 0.80675597],\n",
              "        [0.45718323, 0.96928344, 0.48040902],\n",
              "        [0.72058354, 0.32972243, 0.18581689]],\n",
              "\n",
              "       [[0.57344667, 0.1551761 , 0.85171997],\n",
              "        [0.8620901 , 0.46618819, 0.10366963],\n",
              "        [0.02751411, 0.44787421, 0.4309447 ]]])"
            ]
          },
          "metadata": {},
          "execution_count": 12
        }
      ],
      "source": [
        "arr6=np.random.random((3,3,3)) #Return random floats in the half-open interval [0.0, 1.0)\n",
        "arr6"
      ]
    },
    {
      "cell_type": "markdown",
      "metadata": {
        "id": "0XcKj878Iu8H"
      },
      "source": [
        "#### 13. Create a 10x10 array with random values and find the minimum and maximum values (★☆☆) \n",
        "(**hint**: min, max)"
      ]
    },
    {
      "cell_type": "code",
      "execution_count": null,
      "metadata": {
        "id": "VfDIb4qgIu8H",
        "colab": {
          "base_uri": "https://localhost:8080/"
        },
        "outputId": "e0260d13-f7ae-4136-d717-060782460542"
      },
      "outputs": [
        {
          "output_type": "stream",
          "name": "stdout",
          "text": [
            "Minimum value in the array: 0.016718228786096967\n",
            "Maximum value in the array: 0.9899910754309683\n"
          ]
        }
      ],
      "source": [
        "arr7=np.random.random((10,10))\n",
        "print(\"Minimum value in the array:\",np.min(arr7))\n",
        "print(\"Maximum value in the array:\",np.max(arr7))"
      ]
    },
    {
      "cell_type": "markdown",
      "metadata": {
        "id": "Pz21v8NSIu8I"
      },
      "source": [
        "#### 14. Create a random vector of size 30 and find the mean value (★☆☆) \n",
        "(**hint**: mean)"
      ]
    },
    {
      "cell_type": "code",
      "execution_count": null,
      "metadata": {
        "id": "JVf8uPZPIu8I",
        "colab": {
          "base_uri": "https://localhost:8080/"
        },
        "outputId": "7535a87a-7e1b-48ee-8d0b-057e47459c0b"
      },
      "outputs": [
        {
          "output_type": "stream",
          "name": "stdout",
          "text": [
            "[27 97 96 88 37 81 27 21 21 47 50 71 35 44 92 45 40 88 52 51 51 97 11 49\n",
            " 17 64 92 66 44 13]\n",
            "Mean value = 53.8\n"
          ]
        }
      ],
      "source": [
        "arr8=np.random.randint(10,100,size=30)\n",
        "print(arr8)\n",
        "print(f\"Mean value = {np.mean(arr8)}\")"
      ]
    },
    {
      "cell_type": "markdown",
      "metadata": {
        "id": "3ewggrLxIu8J"
      },
      "source": [
        "#### 15. Create a 2d array with 1 on the border and 0 inside (★☆☆) \n",
        "(**hint**: array\\[1:-1, 1:-1\\])"
      ]
    },
    {
      "cell_type": "code",
      "execution_count": null,
      "metadata": {
        "id": "T6waRWsvIu8J",
        "colab": {
          "base_uri": "https://localhost:8080/"
        },
        "outputId": "40cdf539-d47d-4e89-f1ad-5c28a2f72065"
      },
      "outputs": [
        {
          "output_type": "execute_result",
          "data": {
            "text/plain": [
              "array([[1, 1, 1, 1],\n",
              "       [1, 0, 0, 1],\n",
              "       [1, 0, 0, 1],\n",
              "       [1, 1, 1, 1]])"
            ]
          },
          "metadata": {},
          "execution_count": 15
        }
      ],
      "source": [
        "arr9=np.ones((4,4),dtype=int)\n",
        "arr9[1:-1,1:-1]=0\n",
        "arr9"
      ]
    },
    {
      "cell_type": "markdown",
      "metadata": {
        "id": "FwLZxB6rIu8K"
      },
      "source": [
        "#### 16. How to add a border (filled with 0's) around an existing array? (★☆☆) \n",
        "(**hint**: np.pad)"
      ]
    },
    {
      "cell_type": "code",
      "execution_count": null,
      "metadata": {
        "id": "9blf_HElIu8K",
        "colab": {
          "base_uri": "https://localhost:8080/"
        },
        "outputId": "cce1eae1-cf55-4a1c-84d2-fc41f493ab6d"
      },
      "outputs": [
        {
          "output_type": "execute_result",
          "data": {
            "text/plain": [
              "array([[ 0,  0,  0,  0,  0,  0],\n",
              "       [ 0,  1,  2,  3,  4,  0],\n",
              "       [ 0,  5,  6,  7,  8,  0],\n",
              "       [ 0,  9, 10, 11, 12,  0],\n",
              "       [ 0, 13, 14, 15, 16,  0],\n",
              "       [ 0,  0,  0,  0,  0,  0]])"
            ]
          },
          "metadata": {},
          "execution_count": 16
        }
      ],
      "source": [
        "arr10=np.arange(1,17).reshape(4,4)\n",
        "arr10=np.pad(arr10, pad_width=1,mode=\"constant\", constant_values=0)\n",
        "arr10"
      ]
    },
    {
      "cell_type": "markdown",
      "metadata": {
        "id": "3N_NamybIu8L"
      },
      "source": [
        "#### 17. What is the result of the following expression? (★☆☆) \n",
        "(**hint**: NaN = not a number, inf = infinity)"
      ]
    },
    {
      "cell_type": "markdown",
      "metadata": {
        "id": "NfY0IfahIu8L"
      },
      "source": [
        "```python\n",
        "0 * np.nan\n",
        "np.nan == np.nan\n",
        "np.inf > np.nan\n",
        "np.nan - np.nan\n",
        "0.3 == 3 * 0.1\n",
        "```"
      ]
    },
    {
      "cell_type": "code",
      "source": [
        "print(0 * np.nan)\n",
        "print(np.nan == np.nan)\n",
        "print(np.inf > np.nan)\n",
        "print(np.nan - np.nan)\n",
        "print(0.3 == 3 * 0.1)"
      ],
      "metadata": {
        "colab": {
          "base_uri": "https://localhost:8080/"
        },
        "id": "i1aaEC144kSB",
        "outputId": "fae80ddf-32d4-4582-d73b-bf9aceacd577"
      },
      "execution_count": null,
      "outputs": [
        {
          "output_type": "stream",
          "name": "stdout",
          "text": [
            "nan\n",
            "False\n",
            "False\n",
            "nan\n",
            "False\n"
          ]
        }
      ]
    },
    {
      "cell_type": "markdown",
      "metadata": {
        "id": "XaI-MzxpIu8M"
      },
      "source": [
        "#### 18. Create a 5x5 matrix with values 1,2,3,4 just below the diagonal (★☆☆) \n",
        "(**hint**: np.diag)"
      ]
    },
    {
      "cell_type": "code",
      "execution_count": null,
      "metadata": {
        "id": "8Ip8sDXoIu8N",
        "colab": {
          "base_uri": "https://localhost:8080/"
        },
        "outputId": "98a98f77-3a0a-4b1a-f34c-1487513a8c5e"
      },
      "outputs": [
        {
          "output_type": "execute_result",
          "data": {
            "text/plain": [
              "array([[0, 0, 0, 0, 0],\n",
              "       [1, 0, 0, 0, 0],\n",
              "       [0, 2, 0, 0, 0],\n",
              "       [0, 0, 3, 0, 0],\n",
              "       [0, 0, 0, 4, 0]])"
            ]
          },
          "metadata": {},
          "execution_count": 18
        }
      ],
      "source": [
        "arr11 = np.array([1,2,3,4])\n",
        "np.diag(arr11,k=-1)"
      ]
    },
    {
      "cell_type": "markdown",
      "metadata": {
        "id": "Os-VXn-yIu8N"
      },
      "source": [
        "#### 19. Create a 8x8 matrix and fill it with a checkerboard pattern (★☆☆) \n",
        "(**hint**: array\\[::2\\])"
      ]
    },
    {
      "cell_type": "code",
      "execution_count": null,
      "metadata": {
        "id": "jWhu_NrNIu8O",
        "colab": {
          "base_uri": "https://localhost:8080/"
        },
        "outputId": "4fd06550-e7ff-42b9-c124-06fc3b06dd9f"
      },
      "outputs": [
        {
          "output_type": "execute_result",
          "data": {
            "text/plain": [
              "array([[0, 1, 0, 1, 0, 1, 0, 1],\n",
              "       [1, 0, 1, 0, 1, 0, 1, 0],\n",
              "       [0, 1, 0, 1, 0, 1, 0, 1],\n",
              "       [1, 0, 1, 0, 1, 0, 1, 0],\n",
              "       [0, 1, 0, 1, 0, 1, 0, 1],\n",
              "       [1, 0, 1, 0, 1, 0, 1, 0],\n",
              "       [0, 1, 0, 1, 0, 1, 0, 1],\n",
              "       [1, 0, 1, 0, 1, 0, 1, 0]])"
            ]
          },
          "metadata": {},
          "execution_count": 19
        }
      ],
      "source": [
        "arr12=np.zeros((8,8),dtype=int)\n",
        "arr12[1::2,::2] = 1\n",
        "arr12[::2,1::2] = 1\n",
        "arr12"
      ]
    },
    {
      "cell_type": "markdown",
      "metadata": {
        "id": "ExwwL0jbIu8O"
      },
      "source": [
        "#### 20. Consider a (6,7,8) shape array, what is the index (x,y,z) of the 100th element? \n",
        "(**hint**: np.unravel_index)"
      ]
    },
    {
      "cell_type": "code",
      "execution_count": null,
      "metadata": {
        "id": "qxSDyqe2Iu8P",
        "colab": {
          "base_uri": "https://localhost:8080/"
        },
        "outputId": "c77ed30b-dc9d-4ba4-e031-f059e7479860"
      },
      "outputs": [
        {
          "output_type": "execute_result",
          "data": {
            "text/plain": [
              "(1, 5, 4)"
            ]
          },
          "metadata": {},
          "execution_count": 20
        }
      ],
      "source": [
        "arr13=np.unravel_index(100,(6,7,8))\n",
        "arr13"
      ]
    },
    {
      "cell_type": "markdown",
      "metadata": {
        "id": "bZ_BmU6BIu8P"
      },
      "source": [
        "#### 21. Create a checkerboard 8x8 matrix using the tile function (★☆☆) \n",
        "(**hint**: np.tile)"
      ]
    },
    {
      "cell_type": "code",
      "execution_count": null,
      "metadata": {
        "id": "FqHEzcJ3Iu8Q",
        "colab": {
          "base_uri": "https://localhost:8080/"
        },
        "outputId": "b144076d-f28b-40fc-b3c1-1d193e3a5dba"
      },
      "outputs": [
        {
          "output_type": "execute_result",
          "data": {
            "text/plain": [
              "array([[0, 1, 0, 1, 0, 1, 0, 1],\n",
              "       [1, 0, 1, 0, 1, 0, 1, 0],\n",
              "       [0, 1, 0, 1, 0, 1, 0, 1],\n",
              "       [1, 0, 1, 0, 1, 0, 1, 0],\n",
              "       [0, 1, 0, 1, 0, 1, 0, 1],\n",
              "       [1, 0, 1, 0, 1, 0, 1, 0],\n",
              "       [0, 1, 0, 1, 0, 1, 0, 1],\n",
              "       [1, 0, 1, 0, 1, 0, 1, 0]])"
            ]
          },
          "metadata": {},
          "execution_count": 21
        }
      ],
      "source": [
        "a=np.array([[0,1],[1,0]])\n",
        "arr14=np.tile(a,(4,4))\n",
        "arr14"
      ]
    },
    {
      "cell_type": "markdown",
      "metadata": {
        "id": "PCWgStlHIu8Q"
      },
      "source": [
        "#### 22. Normalize a 5x5 random matrix (★☆☆) \n",
        "(**hint**: (x - min) / (max - min))"
      ]
    },
    {
      "cell_type": "code",
      "execution_count": null,
      "metadata": {
        "id": "rzV-VK8oIu8R",
        "colab": {
          "base_uri": "https://localhost:8080/"
        },
        "outputId": "535a50ac-8bda-4009-f84e-5042930bc7d1"
      },
      "outputs": [
        {
          "output_type": "execute_result",
          "data": {
            "text/plain": [
              "array([[0.09852028, 0.9576732 , 0.95186818, 0.7236101 , 0.27324069],\n",
              "       [0.02605141, 0.07048669, 0.2143235 , 0.9734001 , 0.83134428],\n",
              "       [0.85067244, 0.05161641, 0.66122015, 0.62855923, 0.2866382 ],\n",
              "       [0.31898728, 0.1142975 , 0.        , 0.97041918, 0.90767494],\n",
              "       [0.59071138, 0.29589308, 0.06614574, 1.        , 0.45891529]])"
            ]
          },
          "metadata": {},
          "execution_count": 22
        }
      ],
      "source": [
        "b=np.random.random((5,5))\n",
        "b=(b-b.min())/(b.max()-b.min())\n",
        "b"
      ]
    },
    {
      "cell_type": "markdown",
      "metadata": {
        "id": "aCaD0f5uIu8R"
      },
      "source": [
        "#### 23. Create a custom dtype that describes a color as four unsigned bytes (RGBA) (★☆☆) \n",
        "(**hint**: np.dtype)"
      ]
    },
    {
      "cell_type": "code",
      "execution_count": null,
      "metadata": {
        "collapsed": true,
        "id": "8Ymv0LDBIu8S",
        "colab": {
          "base_uri": "https://localhost:8080/"
        },
        "outputId": "7cdb1518-5d9c-41de-f997-b2f840c1968f"
      },
      "outputs": [
        {
          "output_type": "stream",
          "name": "stderr",
          "text": [
            "/usr/local/lib/python3.7/dist-packages/ipykernel_launcher.py:4: FutureWarning: Passing (type, 1) or '1type' as a synonym of type is deprecated; in a future version of numpy, it will be understood as (type, (1,)) / '(1,)type'.\n",
            "  after removing the cwd from sys.path.\n"
          ]
        }
      ],
      "source": [
        "color = np.dtype([(\"r\", np.ubyte, 1),\n",
        "                  (\"g\", np.ubyte, 1),\n",
        "                  (\"b\", np.ubyte, 1),\n",
        "                  (\"a\", np.ubyte, 1)])"
      ]
    },
    {
      "cell_type": "markdown",
      "metadata": {
        "id": "cXJSjqkyIu8S"
      },
      "source": [
        "#### 24. Multiply a 5x3 matrix by a 3x2 matrix (real matrix product) (★☆☆) \n",
        "(**hint**: np.dot | @)"
      ]
    },
    {
      "cell_type": "code",
      "execution_count": null,
      "metadata": {
        "id": "4HtChvtSIu8T",
        "colab": {
          "base_uri": "https://localhost:8080/"
        },
        "outputId": "31b4fe7c-79ff-46fc-bd23-bfa82a5d53c1"
      },
      "outputs": [
        {
          "output_type": "execute_result",
          "data": {
            "text/plain": [
              "array([[ 22,  28],\n",
              "       [ 49,  64],\n",
              "       [ 76, 100],\n",
              "       [103, 136],\n",
              "       [130, 172]])"
            ]
          },
          "metadata": {},
          "execution_count": 25
        }
      ],
      "source": [
        "a = np.arange(1,16).reshape((5, 3))\n",
        "b = np.arange(1,7).reshape((3, 2))\n",
        "np.dot(a,b)"
      ]
    },
    {
      "cell_type": "markdown",
      "metadata": {
        "id": "tTJBausLIu8T"
      },
      "source": [
        "#### 25. Given a 1D array, negate all elements which are between 3 and 8, in place. (★☆☆) \n",
        "(**hint**: >, <=)"
      ]
    },
    {
      "cell_type": "code",
      "execution_count": null,
      "metadata": {
        "id": "OQCCjxxgIu8U",
        "colab": {
          "base_uri": "https://localhost:8080/"
        },
        "outputId": "7bbcf346-bee0-496f-ad42-a6042ee755ce"
      },
      "outputs": [
        {
          "output_type": "execute_result",
          "data": {
            "text/plain": [
              "array([ 0,  1,  2,  3, -1, -1, -1, -1, -1,  9, 10, 11, 12])"
            ]
          },
          "metadata": {},
          "execution_count": 33
        }
      ],
      "source": [
        "arr15 = np.arange(13)\n",
        "arr15[(arr15 > 3) & (arr15 <= 8)] = -1\n",
        "arr15"
      ]
    },
    {
      "cell_type": "markdown",
      "metadata": {
        "id": "N5pFmrXBIu8U"
      },
      "source": [
        "#### 26. What is the output of the following script? (★☆☆) \n",
        "(**hint**: np.sum)"
      ]
    },
    {
      "cell_type": "markdown",
      "metadata": {
        "id": "7FTlocOIIu8V"
      },
      "source": [
        "```python\n",
        "# Author: Jake VanderPlas\n",
        "\n",
        "print(sum(range(5),-1))\n",
        "from numpy import *\n",
        "print(sum(range(5),-1))\n",
        "```"
      ]
    },
    {
      "cell_type": "code",
      "execution_count": null,
      "metadata": {
        "id": "veJIM3QFIu8V",
        "colab": {
          "base_uri": "https://localhost:8080/"
        },
        "outputId": "be01915d-dd1b-4ada-ea28-2a90525f6bbf"
      },
      "outputs": [
        {
          "output_type": "stream",
          "name": "stdout",
          "text": [
            "9\n",
            "10\n"
          ]
        }
      ],
      "source": [
        "print(sum(range(5),-1))\n",
        "from numpy import *\n",
        "print(sum(range(5),-1))"
      ]
    },
    {
      "cell_type": "markdown",
      "metadata": {
        "id": "KpjaeTC6Iu8W"
      },
      "source": [
        "#### 27. Consider an integer vector Z, which of these expressions are legal? (★☆☆)"
      ]
    },
    {
      "cell_type": "markdown",
      "metadata": {
        "id": "wVJl9PCEIu8W"
      },
      "source": [
        "```python\n",
        "Z**Z\n",
        "2 << Z >> 2\n",
        "Z <- Z\n",
        "1j*Z\n",
        "Z/1/1\n",
        "Z<Z>Z\n",
        "```"
      ]
    },
    {
      "cell_type": "code",
      "execution_count": null,
      "metadata": {
        "id": "UKFNqILfIu8X",
        "colab": {
          "base_uri": "https://localhost:8080/",
          "height": 304
        },
        "outputId": "4344ee15-27b6-43da-9b8f-d4707fdccc1b"
      },
      "outputs": [
        {
          "output_type": "stream",
          "name": "stdout",
          "text": [
            "[0 1 2 3 4 5]\n",
            "[   1    1    4   27  256 3125]\n",
            "[ 0  1  2  4  8 16]\n",
            "[False False False False False False]\n",
            "[0.+0.j 0.+1.j 0.+2.j 0.+3.j 0.+4.j 0.+5.j]\n",
            "[0. 1. 2. 3. 4. 5.]\n"
          ]
        },
        {
          "output_type": "error",
          "ename": "ValueError",
          "evalue": "ignored",
          "traceback": [
            "\u001b[0;31m---------------------------------------------------------------------------\u001b[0m",
            "\u001b[0;31mValueError\u001b[0m                                Traceback (most recent call last)",
            "\u001b[0;32m<ipython-input-32-b3e24c7aaa8d>\u001b[0m in \u001b[0;36m<module>\u001b[0;34m()\u001b[0m\n\u001b[1;32m      6\u001b[0m \u001b[0mprint\u001b[0m\u001b[0;34m(\u001b[0m\u001b[0;36m1j\u001b[0m \u001b[0;34m*\u001b[0m \u001b[0mZ\u001b[0m  \u001b[0;34m)\u001b[0m     \u001b[0;31m# = [0 + 0.j, 0 + 1.j, 0 + 2.j]\u001b[0m\u001b[0;34m\u001b[0m\u001b[0;34m\u001b[0m\u001b[0m\n\u001b[1;32m      7\u001b[0m \u001b[0mprint\u001b[0m\u001b[0;34m(\u001b[0m\u001b[0mZ\u001b[0m \u001b[0;34m/\u001b[0m \u001b[0;36m1\u001b[0m \u001b[0;34m/\u001b[0m \u001b[0;36m1\u001b[0m\u001b[0;34m)\u001b[0m    \u001b[0;31m# = [0, 1, 2]\u001b[0m\u001b[0;34m\u001b[0m\u001b[0;34m\u001b[0m\u001b[0m\n\u001b[0;32m----> 8\u001b[0;31m \u001b[0mprint\u001b[0m\u001b[0;34m(\u001b[0m\u001b[0mZ\u001b[0m \u001b[0;34m<\u001b[0m \u001b[0mZ\u001b[0m \u001b[0;34m>\u001b[0m \u001b[0mZ\u001b[0m  \u001b[0;34m)\u001b[0m\u001b[0;34m\u001b[0m\u001b[0;34m\u001b[0m\u001b[0m\n\u001b[0m",
            "\u001b[0;31mValueError\u001b[0m: The truth value of an array with more than one element is ambiguous. Use a.any() or a.all()"
          ]
        }
      ],
      "source": [
        "Z = np.arange(6) \n",
        "print(Z)\n",
        "print(Z ** Z)       # = [0^0, 1^1, 2^2, 4^4, 5^5] = [1, 1, 4, 27, 256, 3125]\n",
        "print(2 << Z >> 2)  # = [0, 1, 2, 4, 8, 16]\n",
        "print(Z < - Z )     # = [False, False, False,False, False, False]\n",
        "print(1j * Z  )     # = [0 + 0.j, 0 + 1.j, 0 + 2.j,v0.+3.j, 0.+4.j, 0.+5.j]\n",
        "print(Z / 1 / 1)    # = [0., 1., 2., 3., 4., 5.]\n",
        "print(Z < Z > Z  )"
      ]
    },
    {
      "cell_type": "markdown",
      "metadata": {
        "id": "k1-FKB4PIu8X"
      },
      "source": [
        "#### 28. What are the result of the following expressions?"
      ]
    },
    {
      "cell_type": "markdown",
      "metadata": {
        "id": "TAF7Yw9fIu8X"
      },
      "source": [
        "```python\n",
        "np.array(0) / np.array(0)\n",
        "np.array(0) // np.array(0)\n",
        "np.array([np.nan]).astype(int).astype(float)\n",
        "```"
      ]
    },
    {
      "cell_type": "code",
      "execution_count": null,
      "metadata": {
        "id": "KGHcLZ3FIu8Y",
        "colab": {
          "base_uri": "https://localhost:8080/"
        },
        "outputId": "a8d16e8d-f463-4360-bb82-1f18e40a4ae5"
      },
      "outputs": [
        {
          "output_type": "stream",
          "name": "stdout",
          "text": [
            "nan\n",
            "0\n"
          ]
        },
        {
          "output_type": "stream",
          "name": "stderr",
          "text": [
            "/usr/local/lib/python3.7/dist-packages/ipykernel_launcher.py:1: RuntimeWarning: invalid value encountered in true_divide\n",
            "  \"\"\"Entry point for launching an IPython kernel.\n",
            "/usr/local/lib/python3.7/dist-packages/ipykernel_launcher.py:2: RuntimeWarning: divide by zero encountered in floor_divide\n",
            "  \n"
          ]
        },
        {
          "output_type": "execute_result",
          "data": {
            "text/plain": [
              "array([-9.22337204e+18])"
            ]
          },
          "metadata": {},
          "execution_count": 35
        }
      ],
      "source": [
        "print(np.array(0) / np.array(0))\n",
        "print(np.array(0) // np.array(0))\n",
        "np.array([np.nan]).astype(int).astype(float)"
      ]
    },
    {
      "cell_type": "markdown",
      "metadata": {
        "id": "zEnWiDv3Iu8Y"
      },
      "source": [
        "#### 29. How to round away from zero a float array ? (★☆☆) \n",
        "(**hint**: np.uniform, np.copysign, np.ceil, np.abs)"
      ]
    },
    {
      "cell_type": "code",
      "execution_count": null,
      "metadata": {
        "id": "i3dsDa-MIu8Z",
        "colab": {
          "base_uri": "https://localhost:8080/"
        },
        "outputId": "1c3d3aa5-fd82-4c7a-d85b-9be3407030fd"
      },
      "outputs": [
        {
          "output_type": "execute_result",
          "data": {
            "text/plain": [
              "array([ 9., -5., -6., 10., -3., -1.,  7., -9., -2., -2.])"
            ]
          },
          "metadata": {},
          "execution_count": 38
        }
      ],
      "source": [
        "x = np.random.uniform(-10, +10, 10)\n",
        "np.copysign(np.ceil(np.abs(x)), x)"
      ]
    },
    {
      "cell_type": "markdown",
      "metadata": {
        "id": "iZiPKD2NIu8Z"
      },
      "source": [
        "#### 30. How to find common values between two arrays? (★☆☆) \n",
        "(**hint**: np.intersect1d)"
      ]
    },
    {
      "cell_type": "code",
      "execution_count": null,
      "metadata": {
        "id": "UdyHzQduIu8a",
        "colab": {
          "base_uri": "https://localhost:8080/"
        },
        "outputId": "6ef1d340-54cd-4c14-b994-dc04226af064"
      },
      "outputs": [
        {
          "output_type": "execute_result",
          "data": {
            "text/plain": [
              "array([ 7,  8,  9, 10, 11, 12, 13, 14, 15])"
            ]
          },
          "metadata": {},
          "execution_count": 39
        }
      ],
      "source": [
        "x = np.arange(1, 16)\n",
        "y = np.arange(7, 20)\n",
        "np.intersect1d(x,y)"
      ]
    },
    {
      "cell_type": "markdown",
      "metadata": {
        "id": "QQeJOQCSIu8a"
      },
      "source": [
        "#### 31. How to ignore all numpy warnings (not recommended)? (★☆☆) \n",
        "(**hint**: np.seterr, np.errstate)"
      ]
    },
    {
      "cell_type": "code",
      "execution_count": 5,
      "metadata": {
        "id": "daBAm9-LIu8b",
        "colab": {
          "base_uri": "https://localhost:8080/"
        },
        "outputId": "a95b925b-c27d-415e-9b4e-fdfcd75eb872"
      },
      "outputs": [
        {
          "output_type": "stream",
          "name": "stderr",
          "text": [
            "/usr/local/lib/python3.7/dist-packages/ipykernel_launcher.py:6: RuntimeWarning: divide by zero encountered in true_divide\n",
            "  \n"
          ]
        }
      ],
      "source": [
        "defaults = np.seterr(all=\"ignore\")\n",
        "Z = np.ones(1) / 0\n",
        "_ = np.seterr(**defaults)\n",
        "\n",
        "np.errstate(divide='ignore')\n",
        "Z = np.ones(1) / 0"
      ]
    },
    {
      "cell_type": "markdown",
      "metadata": {
        "id": "l_UFAC7qIu8b"
      },
      "source": [
        "#### 32. Is the following expressions true? (★☆☆) \n",
        "(**hint**: imaginary number)"
      ]
    },
    {
      "cell_type": "markdown",
      "metadata": {
        "id": "SHotZXGlIu8c"
      },
      "source": [
        "```python\n",
        "np.sqrt(-1) == np.emath.sqrt(-1)\n",
        "```"
      ]
    },
    {
      "cell_type": "code",
      "execution_count": 2,
      "metadata": {
        "id": "OVkXf8IeIu8c",
        "colab": {
          "base_uri": "https://localhost:8080/"
        },
        "outputId": "bf66e865-aea6-4ee6-f015-8319f2237041"
      },
      "outputs": [
        {
          "output_type": "stream",
          "name": "stderr",
          "text": [
            "/usr/local/lib/python3.7/dist-packages/ipykernel_launcher.py:1: RuntimeWarning: invalid value encountered in sqrt\n",
            "  \"\"\"Entry point for launching an IPython kernel.\n"
          ]
        },
        {
          "output_type": "execute_result",
          "data": {
            "text/plain": [
              "False"
            ]
          },
          "metadata": {},
          "execution_count": 2
        }
      ],
      "source": [
        "np.sqrt(-1) == np.emath.sqrt(-1)\n"
      ]
    },
    {
      "cell_type": "markdown",
      "metadata": {
        "id": "xLHx5IANIu8c"
      },
      "source": [
        "#### 33. How to get the dates of yesterday, today and tomorrow? (★☆☆) \n",
        "(**hint**: np.datetime64, np.timedelta64)"
      ]
    },
    {
      "cell_type": "code",
      "execution_count": 7,
      "metadata": {
        "collapsed": true,
        "id": "YD3re0c7Iu8d",
        "colab": {
          "base_uri": "https://localhost:8080/"
        },
        "outputId": "54b3f8d6-cdb3-4d87-db8d-63e70a395ef0"
      },
      "outputs": [
        {
          "output_type": "stream",
          "name": "stdout",
          "text": [
            "2022-02-07\n",
            "2022-02-06\n",
            "2022-02-08\n"
          ]
        }
      ],
      "source": [
        "today = np.datetime64('today', 'D')\n",
        "\n",
        "yesterday = np.datetime64('today', 'D') - np.timedelta64(1, 'D')\n",
        "\n",
        "tomorrow = np.datetime64('today', 'D') + np.timedelta64(1, 'D')\n",
        "\n",
        "print(today)\n",
        "print(yesterday)\n",
        "print(tomorrow)"
      ]
    },
    {
      "cell_type": "markdown",
      "metadata": {
        "id": "ScfnKiPqIu8d"
      },
      "source": [
        "#### 34. How to get all the dates corresponding to the month of July 2016? (★★☆) \n",
        "(**hint**: np.arange(dtype=datetime64\\['D'\\]))"
      ]
    },
    {
      "cell_type": "code",
      "execution_count": 8,
      "metadata": {
        "id": "ZO5_hWJIIu8e",
        "colab": {
          "base_uri": "https://localhost:8080/"
        },
        "outputId": "64685ea1-8eb2-443a-eb39-d09758bf7399"
      },
      "outputs": [
        {
          "output_type": "execute_result",
          "data": {
            "text/plain": [
              "array(['2016-07-01', '2016-07-02', '2016-07-03', '2016-07-04',\n",
              "       '2016-07-05', '2016-07-06', '2016-07-07', '2016-07-08',\n",
              "       '2016-07-09', '2016-07-10', '2016-07-11', '2016-07-12',\n",
              "       '2016-07-13', '2016-07-14', '2016-07-15', '2016-07-16',\n",
              "       '2016-07-17', '2016-07-18', '2016-07-19', '2016-07-20',\n",
              "       '2016-07-21', '2016-07-22', '2016-07-23', '2016-07-24',\n",
              "       '2016-07-25', '2016-07-26', '2016-07-27', '2016-07-28',\n",
              "       '2016-07-29', '2016-07-30', '2016-07-31'], dtype='datetime64[D]')"
            ]
          },
          "metadata": {},
          "execution_count": 8
        }
      ],
      "source": [
        "da = np.arange('2016-07', '2016-08', dtype='datetime64[D]')\n",
        "da"
      ]
    },
    {
      "cell_type": "markdown",
      "metadata": {
        "id": "L0ylASuYIu8e"
      },
      "source": [
        "#### 35. How to compute ((A+B)\\*(-A/2)) in place (without copy)? (★★☆) \n",
        "(**hint**: np.add(out=), np.negative(out=), np.multiply(out=), np.divide(out=))"
      ]
    },
    {
      "cell_type": "code",
      "execution_count": 10,
      "metadata": {
        "id": "xbeGkVeTIu8f",
        "colab": {
          "base_uri": "https://localhost:8080/"
        },
        "outputId": "4d4f06f5-e413-4946-e770-a53844742c39"
      },
      "outputs": [
        {
          "output_type": "execute_result",
          "data": {
            "text/plain": [
              "array([-5., -5., -5.])"
            ]
          },
          "metadata": {},
          "execution_count": 10
        }
      ],
      "source": [
        "A = np.ones(3) * 2\n",
        "B = np.ones(3) * 3\n",
        "C = np.ones(3) * 5\n",
        "np.add(A, B, out=B)\n",
        "np.divide(A, 2, out=A)\n",
        "np.negative(A, out=A)\n",
        "np.multiply(A, B, out=A)\n",
        "A"
      ]
    },
    {
      "cell_type": "markdown",
      "metadata": {
        "id": "y7X0lKyqIu8f"
      },
      "source": [
        "#### 36. Extract the integer part of a random array using 5 different methods (★★☆) \n",
        "(**hint**: %, np.floor, np.ceil, astype, np.trunc)"
      ]
    },
    {
      "cell_type": "code",
      "execution_count": 13,
      "metadata": {
        "id": "ICwyOVU4Iu8g",
        "colab": {
          "base_uri": "https://localhost:8080/"
        },
        "outputId": "21a526ec-7456-42c6-b9e4-19b87671cbde"
      },
      "outputs": [
        {
          "output_type": "stream",
          "name": "stdout",
          "text": [
            "[14.17451192  2.96217375  6.49478069 11.15214621 17.62412212  8.35074112\n",
            "  4.31199309 19.434509    0.53346127 16.33240732] \n",
            "\n",
            "[14.  2.  6. 11. 17.  8.  4. 19.  0. 16.]\n",
            "[14.  2.  6. 11. 17.  8.  4. 19.  0. 16.]\n",
            "[14.  2.  6. 11. 17.  8.  4. 19.  0. 16.]\n",
            "[14  2  6 11 17  8  4 19  0 16]\n",
            "[14.  2.  6. 11. 17.  8.  4. 19.  0. 16.]\n"
          ]
        }
      ],
      "source": [
        "a = np.random.uniform(0,20,10)\n",
        "print(a,\"\\n\")\n",
        "print(a - a%1)\n",
        "\n",
        "print(np.floor(a))\n",
        "\n",
        "print(np.ceil(a)-1)\n",
        "\n",
        "print(a.astype(int))\n",
        "\n",
        "print(np.trunc(a))"
      ]
    },
    {
      "cell_type": "markdown",
      "metadata": {
        "id": "gwnjbJEPIu8g"
      },
      "source": [
        "#### 37. Create a 5x5 matrix with row values ranging from 0 to 4 (★★☆) \n",
        "(**hint**: np.arange)"
      ]
    },
    {
      "cell_type": "code",
      "execution_count": 17,
      "metadata": {
        "id": "jBfGWDdqIu8g",
        "colab": {
          "base_uri": "https://localhost:8080/"
        },
        "outputId": "d1aca4cf-0978-4cf5-a48b-8bbaf66277b0"
      },
      "outputs": [
        {
          "output_type": "execute_result",
          "data": {
            "text/plain": [
              "array([[0, 1, 2, 3, 4],\n",
              "       [0, 1, 2, 3, 4],\n",
              "       [0, 1, 2, 3, 4],\n",
              "       [0, 1, 2, 3, 4],\n",
              "       [0, 1, 2, 3, 4]])"
            ]
          },
          "metadata": {},
          "execution_count": 17
        }
      ],
      "source": [
        "x = np.zeros((5, 5),dtype=int)\n",
        "x += np.arange(5)\n",
        "x"
      ]
    },
    {
      "cell_type": "markdown",
      "metadata": {
        "id": "8rmUQIXaIu8h"
      },
      "source": [
        "#### 38. Consider a generator function that generates 10 integers and use it to build an array (★☆☆) \n",
        "(**hint**: np.fromiter)"
      ]
    },
    {
      "cell_type": "code",
      "execution_count": 18,
      "metadata": {
        "id": "MsAyBteHIu8h",
        "colab": {
          "base_uri": "https://localhost:8080/"
        },
        "outputId": "0a6e7dca-ff93-416f-fcef-de088268f62d"
      },
      "outputs": [
        {
          "output_type": "execute_result",
          "data": {
            "text/plain": [
              "array([0., 1., 2., 3., 4., 5., 6., 7., 8., 9.], dtype=float32)"
            ]
          },
          "metadata": {},
          "execution_count": 18
        }
      ],
      "source": [
        "def generate_integers():\n",
        "    for i in range(10):\n",
        "        yield i\n",
        "x=np.fromiter(generate_integers(), dtype=np.float32, count=-1)\n",
        "x"
      ]
    },
    {
      "cell_type": "markdown",
      "metadata": {
        "id": "ZWJi9GTiIu8i"
      },
      "source": [
        "#### 39. Create a vector of size 10 with values ranging from 0 to 1, both excluded (★★☆) \n",
        "(**hint**: np.linspace)"
      ]
    },
    {
      "cell_type": "code",
      "execution_count": 21,
      "metadata": {
        "id": "MtT2R6UrIu8i",
        "colab": {
          "base_uri": "https://localhost:8080/"
        },
        "outputId": "4ce2afb9-933e-4e4b-e0b8-f9e59d9d8f4d"
      },
      "outputs": [
        {
          "output_type": "execute_result",
          "data": {
            "text/plain": [
              "array([0.09090909, 0.18181818, 0.27272727, 0.36363636, 0.45454545,\n",
              "       0.54545455, 0.63636364, 0.72727273, 0.81818182, 0.90909091])"
            ]
          },
          "metadata": {},
          "execution_count": 21
        }
      ],
      "source": [
        "y=np.linspace(0, 1,11, endpoint=False)[1:]\n",
        "y"
      ]
    },
    {
      "cell_type": "markdown",
      "metadata": {
        "id": "vP983KESIu8j"
      },
      "source": [
        "#### 40. Create a random vector of size 10 and sort it (★★☆) \n",
        "(**hint**: sort)"
      ]
    },
    {
      "cell_type": "code",
      "execution_count": 24,
      "metadata": {
        "id": "BrzE7wYZIu8j",
        "colab": {
          "base_uri": "https://localhost:8080/"
        },
        "outputId": "0b04dd74-ba78-4acb-a407-8c0950245488"
      },
      "outputs": [
        {
          "output_type": "stream",
          "name": "stdout",
          "text": [
            "Before Sorting:\n",
            "\t [31 44 33 29 24 34 26 43 44 24]\n",
            "After Sorting:\n",
            "\t [24 24 26 29 31 33 34 43 44 44]\n"
          ]
        }
      ],
      "source": [
        "x = np.random.randint(20,45,size=10)\n",
        "print(\"Before Sorting:\\n\\t\",x)\n",
        "x.sort()\n",
        "print(\"After Sorting:\\n\\t\",x)"
      ]
    },
    {
      "cell_type": "markdown",
      "metadata": {
        "id": "D2obXWkVIu8k"
      },
      "source": [
        "#### 41. How to sum a small array faster than np.sum? (★★☆) \n",
        "(**hint**: np.add.reduce)"
      ]
    },
    {
      "cell_type": "code",
      "execution_count": 25,
      "metadata": {
        "id": "Dfl5npGSIu8k",
        "colab": {
          "base_uri": "https://localhost:8080/"
        },
        "outputId": "9f361d4e-3fef-4f5c-a3eb-a3f2d68a2fdf"
      },
      "outputs": [
        {
          "output_type": "execute_result",
          "data": {
            "text/plain": [
              "45"
            ]
          },
          "metadata": {},
          "execution_count": 25
        }
      ],
      "source": [
        "a = np.arange(10)\n",
        "\n",
        "np.add.reduce(a)"
      ]
    },
    {
      "cell_type": "markdown",
      "metadata": {
        "id": "IycY43UcIu8l"
      },
      "source": [
        "#### 42. Consider two random array A and B, check if they are equal (★★☆) \n",
        "(**hint**: np.allclose, np.array\\_equal)"
      ]
    },
    {
      "cell_type": "code",
      "execution_count": 28,
      "metadata": {
        "id": "w9l-REf3Iu8l",
        "colab": {
          "base_uri": "https://localhost:8080/"
        },
        "outputId": "69f8286e-75ea-4e08-f370-259c93c7b1f1"
      },
      "outputs": [
        {
          "output_type": "stream",
          "name": "stdout",
          "text": [
            "True\n",
            "True\n"
          ]
        }
      ],
      "source": [
        "x = np.arange(20)\n",
        "y = np.arange(20)\n",
        "a1=np.array_equal(x, y)\n",
        "print(a1)\n",
        "a2= np.allclose(x,y)\n",
        "print(a2)"
      ]
    },
    {
      "cell_type": "markdown",
      "metadata": {
        "id": "3n6y5UW9Iu8l"
      },
      "source": [
        "#### 43. Make an array immutable (read-only) (★★☆) \n",
        "(**hint**: flags.writeable)"
      ]
    },
    {
      "cell_type": "code",
      "execution_count": 29,
      "metadata": {
        "id": "7BTx0lILIu8m",
        "colab": {
          "base_uri": "https://localhost:8080/",
          "height": 200
        },
        "outputId": "7bb88846-a86a-4f9b-8519-5887b321ed86"
      },
      "outputs": [
        {
          "output_type": "error",
          "ename": "ValueError",
          "evalue": "ignored",
          "traceback": [
            "\u001b[0;31m---------------------------------------------------------------------------\u001b[0m",
            "\u001b[0;31mValueError\u001b[0m                                Traceback (most recent call last)",
            "\u001b[0;32m<ipython-input-29-bfba8ecad774>\u001b[0m in \u001b[0;36m<module>\u001b[0;34m()\u001b[0m\n\u001b[1;32m      1\u001b[0m \u001b[0mx\u001b[0m \u001b[0;34m=\u001b[0m \u001b[0mnp\u001b[0m\u001b[0;34m.\u001b[0m\u001b[0marange\u001b[0m\u001b[0;34m(\u001b[0m\u001b[0;36m10\u001b[0m\u001b[0;34m)\u001b[0m\u001b[0;34m\u001b[0m\u001b[0;34m\u001b[0m\u001b[0m\n\u001b[1;32m      2\u001b[0m \u001b[0mx\u001b[0m\u001b[0;34m.\u001b[0m\u001b[0mflags\u001b[0m\u001b[0;34m.\u001b[0m\u001b[0mwriteable\u001b[0m \u001b[0;34m=\u001b[0m \u001b[0;32mFalse\u001b[0m\u001b[0;34m\u001b[0m\u001b[0;34m\u001b[0m\u001b[0m\n\u001b[0;32m----> 3\u001b[0;31m \u001b[0mx\u001b[0m\u001b[0;34m[\u001b[0m\u001b[0;36m1\u001b[0m\u001b[0;34m]\u001b[0m \u001b[0;34m=\u001b[0m \u001b[0;36m1\u001b[0m\u001b[0;34m\u001b[0m\u001b[0;34m\u001b[0m\u001b[0m\n\u001b[0m",
            "\u001b[0;31mValueError\u001b[0m: assignment destination is read-only"
          ]
        }
      ],
      "source": [
        "x = np.arange(10)\n",
        "x.flags.writeable = False\n",
        "x[1] = 1 "
      ]
    },
    {
      "cell_type": "markdown",
      "metadata": {
        "id": "PCx08fi4Iu8m"
      },
      "source": [
        "#### 44. Consider a random 10x2 matrix representing cartesian coordinates, convert them to polar coordinates (★★☆) \n",
        "(**hint**: np.sqrt, np.arctan2)"
      ]
    },
    {
      "cell_type": "code",
      "execution_count": 30,
      "metadata": {
        "id": "eg-UHaiGIu8n",
        "colab": {
          "base_uri": "https://localhost:8080/"
        },
        "outputId": "3c113dc5-9172-449b-c257-d77a92540f60"
      },
      "outputs": [
        {
          "output_type": "stream",
          "name": "stdout",
          "text": [
            "[0.83014446 0.7475338  0.71955416 0.5838383  0.36777921 0.86804098\n",
            " 0.78770593 0.94657301 0.31714566 0.95304298]\n",
            "[0.79291873 0.79385931 0.74663596 0.90781163 1.09683215 0.98190763\n",
            " 1.19814205 1.21478962 0.56280368 0.04378072]\n"
          ]
        }
      ],
      "source": [
        "\n",
        "arr = np.random.random((10, 2))\n",
        "x, y = arr[:, 0], arr[:, 1]\n",
        "r = np.sqrt(x ** 2 + y ** 2)\n",
        "o = np.arctan2(y, x) #Array of angles in radians\n",
        "print(r)\n",
        "print(o)"
      ]
    },
    {
      "cell_type": "markdown",
      "metadata": {
        "id": "w7yOxMdGIu8n"
      },
      "source": [
        "#### 45. Create random vector of size 10 and replace the maximum value by 0 (★★☆) \n",
        "(**hint**: argmax)"
      ]
    },
    {
      "cell_type": "code",
      "execution_count": 35,
      "metadata": {
        "id": "S8fyP3ngIu8o",
        "colab": {
          "base_uri": "https://localhost:8080/"
        },
        "outputId": "66b11159-9c02-4039-c270-4e6e0278a4c5"
      },
      "outputs": [
        {
          "output_type": "stream",
          "name": "stdout",
          "text": [
            "Before Replacement:\n",
            "\t [0.98478661 0.45871709 0.35880685 0.58754879 0.95621084 0.48169367\n",
            " 0.46887213 0.05033201 0.74720038 0.88077649]\n",
            "\n",
            "After Replacement:\n",
            "\t [0.         0.45871709 0.35880685 0.58754879 0.95621084 0.48169367\n",
            " 0.46887213 0.05033201 0.74720038 0.88077649]\n"
          ]
        }
      ],
      "source": [
        "x = np.random.random(10)\n",
        "print(\"Before Replacement:\\n\\t\",x)\n",
        "x[np.argmax(x)]=0\n",
        "print(\"\\nAfter Replacement:\\n\\t\",x)"
      ]
    },
    {
      "cell_type": "markdown",
      "metadata": {
        "id": "2HkP3TQ8Iu8o"
      },
      "source": [
        "#### 46. Create a structured array with `x` and `y` coordinates covering the \\[0,1\\]x\\[0,1\\] area (★★☆) \n",
        "(**hint**: np.meshgrid)"
      ]
    },
    {
      "cell_type": "code",
      "execution_count": 37,
      "metadata": {
        "id": "WYQVhFZiIu8p",
        "colab": {
          "base_uri": "https://localhost:8080/"
        },
        "outputId": "38e956e6-d6e9-4785-b096-a5f2e5353496"
      },
      "outputs": [
        {
          "output_type": "stream",
          "name": "stdout",
          "text": [
            "[[(0.  , 0.  ) (0.25, 0.  ) (0.5 , 0.  ) (0.75, 0.  ) (1.  , 0.  )]\n",
            " [(0.  , 0.25) (0.25, 0.25) (0.5 , 0.25) (0.75, 0.25) (1.  , 0.25)]\n",
            " [(0.  , 0.5 ) (0.25, 0.5 ) (0.5 , 0.5 ) (0.75, 0.5 ) (1.  , 0.5 )]\n",
            " [(0.  , 0.75) (0.25, 0.75) (0.5 , 0.75) (0.75, 0.75) (1.  , 0.75)]\n",
            " [(0.  , 1.  ) (0.25, 1.  ) (0.5 , 1.  ) (0.75, 1.  ) (1.  , 1.  )]]\n"
          ]
        }
      ],
      "source": [
        "z = np.zeros((5, 5), [('x', float), ('y', float)])\n",
        "z['x'], z['y'] = np.meshgrid(np.linspace(0, 1, 5), np.linspace(0, 1, 5))\n",
        "print(z)"
      ]
    },
    {
      "cell_type": "markdown",
      "metadata": {
        "id": "HtXSi34DIu8p"
      },
      "source": [
        "####  47. Given two arrays, X and Y, construct the Cauchy matrix C (Cij =1/(xi - yj)) \n",
        "(**hint**: np.subtract.outer)"
      ]
    },
    {
      "cell_type": "code",
      "execution_count": 41,
      "metadata": {
        "id": "iSRYHBggIu8q",
        "colab": {
          "base_uri": "https://localhost:8080/"
        },
        "outputId": "9cecc553-d9cf-4ff4-c77d-78bc28406087"
      },
      "outputs": [
        {
          "output_type": "execute_result",
          "data": {
            "text/plain": [
              "array([[-1.66586341e+03,  2.46963841e+04,  1.25069459e+04,\n",
              "        -6.87631034e+06, -2.92660407e+04],\n",
              "       [ 7.25629306e+03,  2.26404482e+05, -2.05569454e+03,\n",
              "        -5.11485665e+05,  2.33971195e+04],\n",
              "       [-3.52231128e+04,  8.48377110e+04, -8.30044938e+04,\n",
              "         3.65069038e+04,  1.99740804e+05],\n",
              "       [-6.54710256e+05, -2.68158874e+03,  1.39498278e+05,\n",
              "        -3.87901972e+04, -2.37143405e+04],\n",
              "       [ 9.66823658e+04, -7.12207329e+05,  1.86954387e+05,\n",
              "         6.54047342e+03, -1.59992033e+05]])"
            ]
          },
          "metadata": {},
          "execution_count": 41
        }
      ],
      "source": [
        "x = np.random.random((5, 5))\n",
        "y = np.random.random((5, 5))\n",
        "\n",
        "c = 1 / np.subtract.outer(x, y)\n",
        "\n",
        "np.linalg.det(c)"
      ]
    },
    {
      "cell_type": "markdown",
      "metadata": {
        "id": "c6tOmV3mIu8q"
      },
      "source": [
        "#### 48. Print the minimum and maximum representable value for each numpy scalar type (★★☆) \n",
        "(**hint**: np.iinfo, np.finfo, eps)"
      ]
    },
    {
      "cell_type": "code",
      "execution_count": 44,
      "metadata": {
        "id": "0E75A3aNIu8r",
        "colab": {
          "base_uri": "https://localhost:8080/"
        },
        "outputId": "e9bc19b5-b053-4714-d2ba-36c13daf61b4"
      },
      "outputs": [
        {
          "output_type": "stream",
          "name": "stdout",
          "text": [
            "-128\n",
            "127 \n",
            "\n",
            "-2147483648\n",
            "2147483647 \n",
            "\n",
            "-9223372036854775808\n",
            "9223372036854775807 \n",
            "\n",
            "-3.4028235e+38\n",
            "3.4028235e+38\n",
            "1.1920929e-07 \n",
            "\n",
            "-1.7976931348623157e+308\n",
            "1.7976931348623157e+308\n",
            "2.220446049250313e-16 \n",
            "\n"
          ]
        }
      ],
      "source": [
        "for dtype in [np.int8, np.int32, np.int64]:\n",
        "\n",
        "  print(np.iinfo(dtype).min)\n",
        "  print(np.iinfo(dtype).max,\"\\n\")\n",
        "\n",
        "for dtype in [np.float32, np.float64]:\n",
        "\n",
        "  print(np.finfo(dtype).min)\n",
        "  print(np.finfo(dtype).max)\n",
        "  print(np.finfo(dtype).eps,\"\\n\")\n"
      ]
    },
    {
      "cell_type": "markdown",
      "metadata": {
        "id": "GRsURMdKIu8r"
      },
      "source": [
        "#### 49. How to print all the values of an array? (★★☆) \n",
        "(**hint**: np.set\\_printoptions)"
      ]
    },
    {
      "cell_type": "code",
      "execution_count": 45,
      "metadata": {
        "id": "tEYp61NOIu8s",
        "colab": {
          "base_uri": "https://localhost:8080/"
        },
        "outputId": "036ecaf7-28aa-4eb5-e54f-eaf3ba1f49b3"
      },
      "outputs": [
        {
          "output_type": "stream",
          "name": "stdout",
          "text": [
            "[[0. 0. 0. 0. 0. 0. 0. 0. 0. 0. 0. 0. 0. 0. 0. 0.]\n",
            " [0. 0. 0. 0. 0. 0. 0. 0. 0. 0. 0. 0. 0. 0. 0. 0.]\n",
            " [0. 0. 0. 0. 0. 0. 0. 0. 0. 0. 0. 0. 0. 0. 0. 0.]\n",
            " [0. 0. 0. 0. 0. 0. 0. 0. 0. 0. 0. 0. 0. 0. 0. 0.]\n",
            " [0. 0. 0. 0. 0. 0. 0. 0. 0. 0. 0. 0. 0. 0. 0. 0.]\n",
            " [0. 0. 0. 0. 0. 0. 0. 0. 0. 0. 0. 0. 0. 0. 0. 0.]\n",
            " [0. 0. 0. 0. 0. 0. 0. 0. 0. 0. 0. 0. 0. 0. 0. 0.]\n",
            " [0. 0. 0. 0. 0. 0. 0. 0. 0. 0. 0. 0. 0. 0. 0. 0.]\n",
            " [0. 0. 0. 0. 0. 0. 0. 0. 0. 0. 0. 0. 0. 0. 0. 0.]\n",
            " [0. 0. 0. 0. 0. 0. 0. 0. 0. 0. 0. 0. 0. 0. 0. 0.]\n",
            " [0. 0. 0. 0. 0. 0. 0. 0. 0. 0. 0. 0. 0. 0. 0. 0.]\n",
            " [0. 0. 0. 0. 0. 0. 0. 0. 0. 0. 0. 0. 0. 0. 0. 0.]\n",
            " [0. 0. 0. 0. 0. 0. 0. 0. 0. 0. 0. 0. 0. 0. 0. 0.]\n",
            " [0. 0. 0. 0. 0. 0. 0. 0. 0. 0. 0. 0. 0. 0. 0. 0.]\n",
            " [0. 0. 0. 0. 0. 0. 0. 0. 0. 0. 0. 0. 0. 0. 0. 0.]\n",
            " [0. 0. 0. 0. 0. 0. 0. 0. 0. 0. 0. 0. 0. 0. 0. 0.]]\n"
          ]
        }
      ],
      "source": [
        "np.set_printoptions()\n",
        "\n",
        "d = np.zeros((16,16))\n",
        "\n",
        "print(d)"
      ]
    },
    {
      "cell_type": "markdown",
      "metadata": {
        "id": "W1LRYSfNIu8s"
      },
      "source": [
        "#### 50. How to find the closest value (to a given scalar) in a vector? (★★☆) \n",
        "(**hint**: argmin)"
      ]
    },
    {
      "cell_type": "code",
      "execution_count": 46,
      "metadata": {
        "id": "7mdwZg2kIu8t",
        "colab": {
          "base_uri": "https://localhost:8080/"
        },
        "outputId": "0776a656-ce90-4313-8d96-3e34cdceef85"
      },
      "outputs": [
        {
          "output_type": "stream",
          "name": "stdout",
          "text": [
            "[ 0  1  2  3  4  5  6  7  8  9 10 11 12 13 14 15 16 17 18 19 20 21 22 23\n",
            " 24 25 26 27 28 29 30 31 32 33 34 35 36 37 38 39 40 41 42 43 44 45 46 47\n",
            " 48 49 50 51 52 53 54 55 56 57 58 59 60 61 62 63 64 65 66 67 68 69 70 71\n",
            " 72 73 74 75 76 77 78 79 80 81 82 83 84 85 86 87 88 89 90 91 92 93 94 95\n",
            " 96 97 98 99] \n",
            "\n",
            "24.468200677998908 \n",
            "\n",
            "24\n"
          ]
        }
      ],
      "source": [
        "x = np.arange(100)\n",
        "print(x,\"\\n\")\n",
        "v = np.random.uniform(0,100)\n",
        "print(v,\"\\n\")\n",
        "index = (np.abs(x-v)).argmin()\n",
        "\n",
        "print(x[index])"
      ]
    },
    {
      "cell_type": "markdown",
      "metadata": {
        "id": "Jn-IoxSCIu8t"
      },
      "source": [
        "#### 51. Create a structured array representing a position (x,y) and a color (r,g,b) (★★☆) \n",
        "(**hint**: dtype)"
      ]
    },
    {
      "cell_type": "code",
      "execution_count": 47,
      "metadata": {
        "id": "1UzStNu-Iu8u",
        "colab": {
          "base_uri": "https://localhost:8080/"
        },
        "outputId": "c8832ee1-04dc-4797-9cc8-b3a8178136d7"
      },
      "outputs": [
        {
          "output_type": "stream",
          "name": "stdout",
          "text": [
            "[((0., 0.), (0., 0., 0.)) ((0., 0.), (0., 0., 0.))\n",
            " ((0., 0.), (0., 0., 0.)) ((0., 0.), (0., 0., 0.))\n",
            " ((0., 0.), (0., 0., 0.)) ((0., 0.), (0., 0., 0.))\n",
            " ((0., 0.), (0., 0., 0.)) ((0., 0.), (0., 0., 0.))\n",
            " ((0., 0.), (0., 0., 0.)) ((0., 0.), (0., 0., 0.))]\n"
          ]
        },
        {
          "output_type": "stream",
          "name": "stderr",
          "text": [
            "/usr/local/lib/python3.7/dist-packages/ipykernel_launcher.py:1: FutureWarning: Passing (type, 1) or '1type' as a synonym of type is deprecated; in a future version of numpy, it will be understood as (type, (1,)) / '(1,)type'.\n",
            "  \"\"\"Entry point for launching an IPython kernel.\n"
          ]
        }
      ],
      "source": [
        "m = np.zeros(10, [ ( 'position', [('x', float, 1),('y', float, 1)] ),('color', [ ('r', float, 1),('g', float, 1),('b', float, 1)])])\n",
        "\n",
        "print(m)"
      ]
    },
    {
      "cell_type": "markdown",
      "metadata": {
        "id": "W_vFZnqxIu8u"
      },
      "source": [
        "#### 52. Consider a random vector with shape (100,2) representing coordinates, find point by point distances (★★☆) \n",
        "(**hint**: np.atleast\\_2d, T, np.sqrt)"
      ]
    },
    {
      "cell_type": "code",
      "execution_count": 48,
      "metadata": {
        "id": "t8f1Q3R8Iu8v",
        "colab": {
          "base_uri": "https://localhost:8080/"
        },
        "outputId": "bef3d567-41c6-47bb-9a75-a222378d69b2"
      },
      "outputs": [
        {
          "output_type": "stream",
          "name": "stdout",
          "text": [
            "[[0.         0.84710302 0.67080973 0.9538176  0.39483142 0.09038574\n",
            "  0.6273624  0.31761027 0.14760933 0.64997223]\n",
            " [0.84710302 0.         0.69539062 0.48198219 0.50595593 0.93473793\n",
            "  1.01939079 0.75924987 0.98906344 0.23767062]\n",
            " [0.67080973 0.69539062 0.         0.42319108 0.68867116 0.70977413\n",
            "  0.37231959 0.36274674 0.7952572  0.48158213]\n",
            " [0.9538176  0.48198219 0.42319108 0.         0.78206689 1.01951122\n",
            "  0.79417786 0.70872081 1.09809791 0.40919844]\n",
            " [0.39483142 0.50595593 0.68867116 0.78206689 0.         0.48455097\n",
            "  0.84176648 0.48866523 0.51690286 0.38383114]\n",
            " [0.09038574 0.93473793 0.70977413 1.01951122 0.48455097 0.\n",
            "  0.6165066  0.34757895 0.08578214 0.73278649]\n",
            " [0.6273624  1.01939079 0.37231959 0.79417786 0.84176648 0.6165066\n",
            "  0.         0.35664772 0.69429997 0.78528917]\n",
            " [0.31761027 0.75924987 0.36274674 0.70872081 0.48866523 0.34757895\n",
            "  0.35664772 0.         0.4332813  0.5243208 ]\n",
            " [0.14760933 0.98906344 0.7952572  1.09809791 0.51690286 0.08578214\n",
            "  0.69429997 0.4332813  0.         0.79669673]\n",
            " [0.64997223 0.23767062 0.48158213 0.40919844 0.38383114 0.73278649\n",
            "  0.78528917 0.5243208  0.79669673 0.        ]]\n"
          ]
        }
      ],
      "source": [
        "m = np.random.random((10,2))\n",
        "\n",
        "x,y = np.atleast_2d(m[:,0], m[:,1])\n",
        "\n",
        "d = np.sqrt( (x-x.T)**2 + (y-y.T)**2)\n",
        "\n",
        "print(d)"
      ]
    },
    {
      "cell_type": "markdown",
      "metadata": {
        "id": "Vi2c0zcDIu8v"
      },
      "source": [
        "#### 53. How to convert a float (32 bits) array into an integer (32 bits) in place? \n",
        "(**hint**: astype(copy=False))"
      ]
    },
    {
      "cell_type": "code",
      "execution_count": 49,
      "metadata": {
        "id": "D8mhi0DlIu8w",
        "colab": {
          "base_uri": "https://localhost:8080/"
        },
        "outputId": "aca01c89-77d5-4317-a9cc-1ba18c53da82"
      },
      "outputs": [
        {
          "output_type": "stream",
          "name": "stdout",
          "text": [
            "[0. 1. 2. 3. 4. 5. 6. 7. 8. 9.]\n"
          ]
        }
      ],
      "source": [
        "a = np.arange(10, dtype=np.int32)\n",
        "\n",
        "a = a.astype(np.float32, copy=False)\n",
        "\n",
        "print(a)"
      ]
    },
    {
      "cell_type": "markdown",
      "metadata": {
        "id": "Y-XIguirIu8w"
      },
      "source": [
        "#### 54. How to read the following file? (★★☆) \n",
        "(**hint**: np.genfromtxt)"
      ]
    },
    {
      "cell_type": "markdown",
      "metadata": {
        "id": "XP1MpOcWIu8x"
      },
      "source": [
        "```\n",
        "1, 2, 3, 4, 5\n",
        "6,  ,  , 7, 8\n",
        " ,  , 9,10,11\n",
        "```"
      ]
    },
    {
      "cell_type": "code",
      "execution_count": 50,
      "metadata": {
        "id": "Twi9a849Iu8x",
        "colab": {
          "base_uri": "https://localhost:8080/"
        },
        "outputId": "5a933113-b163-45a6-8eb1-87924df1930d"
      },
      "outputs": [
        {
          "output_type": "stream",
          "name": "stdout",
          "text": [
            "[[ 1  2  3  4  5]\n",
            " [ 6 -1 -1  7  8]\n",
            " [-1 -1  9 10 11]]\n"
          ]
        }
      ],
      "source": [
        "from io import StringIO\n",
        "\n",
        "s = StringIO(\"\"\"1, 2, 3, 4, 5\\n\n",
        "\n",
        "6, , , 7, 8\\n\n",
        "\n",
        ", , 9,10,11\\n\"\"\")\n",
        "\n",
        "Z = np.genfromtxt(s, delimiter=\",\", dtype=np.int)\n",
        "print(Z)"
      ]
    },
    {
      "cell_type": "markdown",
      "metadata": {
        "id": "dOSvX8JTIu8x"
      },
      "source": [
        "#### 55. What is the equivalent of enumerate for numpy arrays? (★★☆) \n",
        "(**hint**: np.ndenumerate, np.ndindex)"
      ]
    },
    {
      "cell_type": "code",
      "execution_count": 52,
      "metadata": {
        "id": "-lIc3RcbIu8y",
        "colab": {
          "base_uri": "https://localhost:8080/"
        },
        "outputId": "5ea07168-a3ba-4c03-cb42-40ba778c3ae9"
      },
      "outputs": [
        {
          "output_type": "stream",
          "name": "stdout",
          "text": [
            "(0, 0) 0\n",
            "(0, 1) 1\n",
            "(0, 2) 2\n",
            "(1, 0) 3\n",
            "(1, 1) 4\n",
            "(1, 2) 5\n",
            "(2, 0) 6\n",
            "(2, 1) 7\n",
            "(2, 2) 8\n",
            "\n",
            "(0, 0) 0\n",
            "(0, 1) 1\n",
            "(0, 2) 2\n",
            "(1, 0) 3\n",
            "(1, 1) 4\n",
            "(1, 2) 5\n",
            "(2, 0) 6\n",
            "(2, 1) 7\n",
            "(2, 2) 8\n"
          ]
        }
      ],
      "source": [
        "a = np.arange(9).reshape(3,3)\n",
        "\n",
        "for index, value in np.ndenumerate(a):\n",
        "  print(index, value)\n",
        "  \n",
        "print()\n",
        "\n",
        "for index in np.ndindex(a.shape):\n",
        "  print(index, a[index])"
      ]
    },
    {
      "cell_type": "markdown",
      "metadata": {
        "id": "EJsN4te4Iu8y"
      },
      "source": [
        "#### 56. Generate a generic 2D Gaussian-like array (★★☆) \n",
        "(**hint**: np.meshgrid, np.exp)"
      ]
    },
    {
      "cell_type": "code",
      "execution_count": 53,
      "metadata": {
        "id": "Ndiuq352Iu8z",
        "colab": {
          "base_uri": "https://localhost:8080/"
        },
        "outputId": "e269e60f-9e4a-41aa-f6ed-91e0c25262f3"
      },
      "outputs": [
        {
          "output_type": "stream",
          "name": "stdout",
          "text": [
            "[[0.36787944 0.44822088 0.51979489 0.57375342 0.60279818 0.60279818\n",
            "  0.57375342 0.51979489 0.44822088 0.36787944]\n",
            " [0.44822088 0.54610814 0.63331324 0.69905581 0.73444367 0.73444367\n",
            "  0.69905581 0.63331324 0.54610814 0.44822088]\n",
            " [0.51979489 0.63331324 0.73444367 0.81068432 0.85172308 0.85172308\n",
            "  0.81068432 0.73444367 0.63331324 0.51979489]\n",
            " [0.57375342 0.69905581 0.81068432 0.89483932 0.9401382  0.9401382\n",
            "  0.89483932 0.81068432 0.69905581 0.57375342]\n",
            " [0.60279818 0.73444367 0.85172308 0.9401382  0.98773022 0.98773022\n",
            "  0.9401382  0.85172308 0.73444367 0.60279818]\n",
            " [0.60279818 0.73444367 0.85172308 0.9401382  0.98773022 0.98773022\n",
            "  0.9401382  0.85172308 0.73444367 0.60279818]\n",
            " [0.57375342 0.69905581 0.81068432 0.89483932 0.9401382  0.9401382\n",
            "  0.89483932 0.81068432 0.69905581 0.57375342]\n",
            " [0.51979489 0.63331324 0.73444367 0.81068432 0.85172308 0.85172308\n",
            "  0.81068432 0.73444367 0.63331324 0.51979489]\n",
            " [0.44822088 0.54610814 0.63331324 0.69905581 0.73444367 0.73444367\n",
            "  0.69905581 0.63331324 0.54610814 0.44822088]\n",
            " [0.36787944 0.44822088 0.51979489 0.57375342 0.60279818 0.60279818\n",
            "  0.57375342 0.51979489 0.44822088 0.36787944]]\n"
          ]
        }
      ],
      "source": [
        "x, y = np.meshgrid(np.linspace(-1,1,10), np.linspace(-1,1,10))\n",
        "d = np.sqrt(x*x+y*y)\n",
        "std, mean = 1.0, 0.0\n",
        "g = np.exp(-( (d-mean)**2 / ( 2.0 * std**2 ) ) )\n",
        "print(g)"
      ]
    },
    {
      "cell_type": "markdown",
      "metadata": {
        "id": "a5B_gylcIu8z"
      },
      "source": [
        "#### 57. How to randomly place p elements in a 2D array? (★★☆) \n",
        "(**hint**: np.put, np.random.choice)"
      ]
    },
    {
      "cell_type": "code",
      "execution_count": 54,
      "metadata": {
        "id": "r6Vwl6GwIu80",
        "colab": {
          "base_uri": "https://localhost:8080/"
        },
        "outputId": "feafa92a-ee85-473b-a74d-045323954800"
      },
      "outputs": [
        {
          "output_type": "stream",
          "name": "stdout",
          "text": [
            "[[0. 0. 0. 0. 0. 0. 1. 1. 0. 0.]\n",
            " [0. 0. 0. 0. 0. 0. 0. 0. 0. 0.]\n",
            " [0. 0. 1. 0. 0. 0. 0. 0. 0. 0.]\n",
            " [0. 0. 0. 0. 0. 0. 0. 0. 0. 0.]\n",
            " [0. 0. 0. 0. 0. 0. 0. 0. 0. 0.]\n",
            " [0. 0. 0. 0. 0. 0. 0. 0. 0. 0.]\n",
            " [0. 0. 0. 0. 0. 0. 0. 0. 0. 0.]\n",
            " [0. 0. 0. 0. 0. 0. 0. 0. 0. 0.]\n",
            " [0. 0. 0. 0. 0. 0. 0. 0. 0. 0.]\n",
            " [0. 1. 0. 0. 0. 0. 0. 0. 1. 0.]]\n"
          ]
        }
      ],
      "source": [
        "p = 5\n",
        "arr = np.zeros((10,10))\n",
        "np.put(arr, np.random.choice(range(10*10), p, replace=False),1)\n",
        "print(arr)"
      ]
    },
    {
      "cell_type": "markdown",
      "metadata": {
        "id": "QhV5jAJkIu80"
      },
      "source": [
        "#### 58. Subtract the mean of each row of a matrix (★★☆) \n",
        "(**hint**: mean(axis=,keepdims=))"
      ]
    },
    {
      "cell_type": "code",
      "execution_count": 56,
      "metadata": {
        "id": "FRBgr_gEIu80",
        "colab": {
          "base_uri": "https://localhost:8080/"
        },
        "outputId": "a25b8753-4e41-416d-a01a-eb570ca0bee7"
      },
      "outputs": [
        {
          "output_type": "stream",
          "name": "stdout",
          "text": [
            "[[0.99911429 0.77252008 0.9515087  0.51164893 0.22601512 0.24877767\n",
            "  0.29635169 0.81817272 0.03690635 0.94135822]\n",
            " [0.46120137 0.62418094 0.94164963 0.01019367 0.95213567 0.65961033\n",
            "  0.41769109 0.25248658 0.24068712 0.49382896]\n",
            " [0.37267387 0.36824069 0.45093599 0.02558875 0.49620978 0.57543616\n",
            "  0.82162937 0.75833253 0.70785458 0.11968949]\n",
            " [0.54644577 0.70927861 0.35398898 0.40594452 0.67009128 0.18095259\n",
            "  0.70551954 0.31626237 0.9310901  0.62769729]\n",
            " [0.06050864 0.13868013 0.05157487 0.42799529 0.29167126 0.07918896\n",
            "  0.00778529 0.75489951 0.74465558 0.00322219]] \n",
            "\n",
            "[[ 0.41887691  0.1922827   0.37127133 -0.06858845 -0.35422226 -0.33145971\n",
            "  -0.28388568  0.23793534 -0.54333103  0.36112084]\n",
            " [-0.04416516  0.1188144   0.43628309 -0.49517286  0.44676914  0.15424379\n",
            "  -0.08767545 -0.25287996 -0.26467941 -0.01153758]\n",
            " [-0.09698525 -0.10141843 -0.01872313 -0.44407037  0.02655066  0.10577704\n",
            "   0.35197024  0.28867341  0.23819546 -0.34996963]\n",
            " [ 0.00171867  0.16455151 -0.19073812 -0.13878259  0.12536417 -0.36377452\n",
            "   0.16079243 -0.22846473  0.38636299  0.08297018]\n",
            " [-0.19550954 -0.11733804 -0.2044433   0.17197712  0.03565309 -0.17682921\n",
            "  -0.24823288  0.49888134  0.48863741 -0.25279598]]\n"
          ]
        }
      ],
      "source": [
        "arr1 = np.random.rand(5, 10)\n",
        "print(arr1,\"\\n\")\n",
        "#axis = 0 means along the column and axis = 1 means working along the row.\n",
        "result = arr1 - arr1.mean(axis=1, keepdims=True)\n",
        "print(result)\n"
      ]
    },
    {
      "cell_type": "markdown",
      "metadata": {
        "id": "rR0QVDWEIu81"
      },
      "source": [
        "#### 59. How to sort an array by the nth column? (★★☆) \n",
        "(**hint**: argsort)"
      ]
    },
    {
      "cell_type": "code",
      "execution_count": 57,
      "metadata": {
        "id": "fa5VYwFcIu81",
        "colab": {
          "base_uri": "https://localhost:8080/"
        },
        "outputId": "ad07ce0a-73b3-400f-86dc-6eec11462a41"
      },
      "outputs": [
        {
          "output_type": "stream",
          "name": "stdout",
          "text": [
            "[[ 4  8  4]\n",
            " [ 3 10 12]\n",
            " [ 8 11  3]\n",
            " [12 11 13]\n",
            " [ 4 12 13]] \n",
            "\n",
            "[[ 4  8  4]\n",
            " [ 3 10 12]\n",
            " [ 8 11  3]\n",
            " [12 11 13]\n",
            " [ 4 12 13]]\n"
          ]
        }
      ],
      "source": [
        "arr2 = np.random.randint(1,15,(5,3))\n",
        "print(arr2,\"\\n\")\n",
        "\n",
        "print(arr2[arr2[:,1].argsort()])"
      ]
    },
    {
      "cell_type": "markdown",
      "metadata": {
        "id": "Bq8R9hC3Iu82"
      },
      "source": [
        "#### 60. How to tell if a given 2D array has null columns? (★★☆) \n",
        "(**hint**: any, ~)"
      ]
    },
    {
      "cell_type": "code",
      "execution_count": 59,
      "metadata": {
        "id": "PW9mChuAIu82",
        "colab": {
          "base_uri": "https://localhost:8080/"
        },
        "outputId": "04af095f-1a39-49ab-f619-45adbe2d3b59"
      },
      "outputs": [
        {
          "output_type": "stream",
          "name": "stdout",
          "text": [
            "[[3 1 2 3 0]\n",
            " [2 3 4 4 0]\n",
            " [2 2 4 3 3]\n",
            " [2 0 3 2 0]\n",
            " [1 1 4 2 0]] \n",
            "\n",
            "Does the 2D array have null columns?\n",
            "False\n"
          ]
        }
      ],
      "source": [
        "arr2 = np.random.randint(0,5,(5,5))\n",
        "print(arr2,\"\\n\")\n",
        "print(\"Does the 2D array have null columns?\")\n",
        "print((~arr2.any(axis=0)).any())"
      ]
    },
    {
      "cell_type": "markdown",
      "metadata": {
        "id": "cmm6RQDPIu82"
      },
      "source": [
        "#### 61. Find the nearest value from a given value in an array (★★☆) \n",
        "(**hint**: np.abs, argmin, flat)"
      ]
    },
    {
      "cell_type": "code",
      "execution_count": 60,
      "metadata": {
        "id": "aGWWU1l4Iu83",
        "colab": {
          "base_uri": "https://localhost:8080/"
        },
        "outputId": "11de4c7d-0600-4a59-a83e-5daf2ec9d416"
      },
      "outputs": [
        {
          "output_type": "stream",
          "name": "stdout",
          "text": [
            "[0.29070925 0.85037866 0.0699196  0.80262962 0.2461276  0.08440609\n",
            " 0.5417372  0.43011469 0.96546606 0.87528561] \n",
            "\n",
            "0.541737195437996\n"
          ]
        }
      ],
      "source": [
        "m = np.random.uniform(0,1,10)\n",
        "print(m,\"\\n\")\n",
        "n = 0.5\n",
        "z=np.abs(m - n).argmin()\n",
        "k = m.flat[z]\n",
        "print(k)"
      ]
    },
    {
      "cell_type": "markdown",
      "metadata": {
        "id": "-rJSC9v0Iu83"
      },
      "source": [
        "#### 62. Considering two arrays with shape (1,3) and (3,1), how to compute their sum using an iterator? (★★☆) \n",
        "(**hint**: np.nditer)"
      ]
    },
    {
      "cell_type": "code",
      "execution_count": 61,
      "metadata": {
        "id": "kqDR9KxSIu84",
        "colab": {
          "base_uri": "https://localhost:8080/"
        },
        "outputId": "99de758d-2295-43c2-f9ac-c7e6602e8382"
      },
      "outputs": [
        {
          "output_type": "stream",
          "name": "stdout",
          "text": [
            "[[0 1 2]\n",
            " [1 2 3]\n",
            " [2 3 4]]\n"
          ]
        }
      ],
      "source": [
        "a = np.arange(3).reshape(3,1)\n",
        "b = np.arange(3).reshape(1,3)\n",
        "\n",
        "it = np.nditer([a,b,None])\n",
        "for x,y,z in it:\n",
        "  z[...] = x + y\n",
        "print(it.operands[2])"
      ]
    },
    {
      "cell_type": "markdown",
      "metadata": {
        "id": "lDE6SPFVIu84"
      },
      "source": [
        "#### 63. Create an array class that has a name attribute (★★☆) \n",
        "(**hint**: class method)"
      ]
    },
    {
      "cell_type": "code",
      "execution_count": null,
      "metadata": {
        "id": "CUrg54u-Iu85"
      },
      "outputs": [],
      "source": [
        ""
      ]
    },
    {
      "cell_type": "markdown",
      "metadata": {
        "id": "-uimn-nSIu85"
      },
      "source": [
        "#### 64. Consider a given vector, how to add 1 to each element indexed by a second vector (be careful with repeated indices)? (★★★) \n",
        "(**hint**: np.bincount | np.add.at)"
      ]
    },
    {
      "cell_type": "code",
      "execution_count": 63,
      "metadata": {
        "id": "2R48cmfiIu85",
        "colab": {
          "base_uri": "https://localhost:8080/"
        },
        "outputId": "b1e70f8e-5efb-4579-eef0-1427c9d47aa0"
      },
      "outputs": [
        {
          "output_type": "stream",
          "name": "stdout",
          "text": [
            "[4. 4. 2. 3. 2. 2. 2. 3. 3. 5.]\n"
          ]
        }
      ],
      "source": [
        "x = np.ones(10)\n",
        "i = np.random.randint(0,len(x),20)\n",
        "x += np.bincount(i, minlength=len(x))\n",
        "print(x)"
      ]
    },
    {
      "cell_type": "code",
      "source": [
        "np.add.at(x, i, 1)\n",
        "print(x)"
      ],
      "metadata": {
        "colab": {
          "base_uri": "https://localhost:8080/"
        },
        "id": "65LiSFduiU8K",
        "outputId": "8bd8bc27-357c-4857-cbea-ae1624f14eb2"
      },
      "execution_count": 64,
      "outputs": [
        {
          "output_type": "stream",
          "name": "stdout",
          "text": [
            "[7. 7. 3. 5. 3. 3. 3. 5. 5. 9.]\n"
          ]
        }
      ]
    },
    {
      "cell_type": "markdown",
      "metadata": {
        "id": "-daArucJIu86"
      },
      "source": [
        "#### 65. How to accumulate elements of a vector (X) to an array (F) based on an index list (I)? (★★★) \n",
        "(**hint**: np.bincount)"
      ]
    },
    {
      "cell_type": "code",
      "execution_count": 65,
      "metadata": {
        "id": "tbBM4B7bIu86",
        "colab": {
          "base_uri": "https://localhost:8080/"
        },
        "outputId": "4dfb8153-d05d-436c-d54f-461d2081174d"
      },
      "outputs": [
        {
          "output_type": "stream",
          "name": "stdout",
          "text": [
            "[0. 7. 0. 6. 5. 0. 0. 0. 0. 3.]\n"
          ]
        }
      ],
      "source": [
        "X = [1,2,3,4,5,6]\n",
        "I = [1,3,9,3,4,1]\n",
        "F = np.bincount(I,X)\n",
        "print(F)"
      ]
    },
    {
      "cell_type": "markdown",
      "metadata": {
        "id": "gqWrjtaFIu87"
      },
      "source": [
        "#### 66. Considering a (w,h,3) image of (dtype=ubyte), compute the number of unique colors (★★★) \n",
        "(**hint**: np.unique)"
      ]
    },
    {
      "cell_type": "code",
      "execution_count": 66,
      "metadata": {
        "id": "hUHOQV2XIu87",
        "colab": {
          "base_uri": "https://localhost:8080/"
        },
        "outputId": "99a3b5b1-8c87-46c6-c3b3-3d87b0a7e839"
      },
      "outputs": [
        {
          "output_type": "stream",
          "name": "stdout",
          "text": [
            "[0 1]\n"
          ]
        }
      ],
      "source": [
        "w,h = 16,16\n",
        "I = np.random.randint(0,2,(h,w,3)).astype(np.ubyte)\n",
        "F = I[...,0]*256*256 + I[...,1]*256 +I[...,2]\n",
        "n = len(np.unique(F))\n",
        "print(np.unique(I))"
      ]
    },
    {
      "cell_type": "markdown",
      "metadata": {
        "id": "Yx8WBU5RIu88"
      },
      "source": [
        "#### 67. Considering a four dimensions array, how to get sum over the last two axis at once? (★★★) \n",
        "(**hint**: sum(axis=(-2,-1)))"
      ]
    },
    {
      "cell_type": "code",
      "execution_count": 69,
      "metadata": {
        "id": "k0KoMGIGIu88",
        "colab": {
          "base_uri": "https://localhost:8080/"
        },
        "outputId": "134bfc9a-102a-4df9-8bbd-6f4a69473f7c"
      },
      "outputs": [
        {
          "output_type": "stream",
          "name": "stdout",
          "text": [
            "[[50 73 69 61]\n",
            " [47 67 40 59]\n",
            " [50 66 59 55]] \n",
            "\n",
            "[[50 73 69 61]\n",
            " [47 67 40 59]\n",
            " [50 66 59 55]]\n"
          ]
        }
      ],
      "source": [
        "x = np.random.randint(0,10,(3,4,3,4))\n",
        "sum = x.sum(axis=(-2,-1))\n",
        "print(sum,\"\\n\")\n",
        "sum = x.reshape(x.shape[:-2] + (-1,)).sum(axis=-1)\n",
        "print(sum)"
      ]
    },
    {
      "cell_type": "markdown",
      "metadata": {
        "id": "WQ5TQzy0Iu88"
      },
      "source": [
        "#### 68. Considering a one-dimensional vector D, how to compute means of subsets of D using a vector S of same size describing subset  indices? (★★★) \n",
        "(**hint**: np.bincount)"
      ]
    },
    {
      "cell_type": "code",
      "execution_count": 70,
      "metadata": {
        "id": "ejeR1W1wIu89",
        "colab": {
          "base_uri": "https://localhost:8080/"
        },
        "outputId": "9e77dbbe-c479-4624-e0aa-2d12db8f6309"
      },
      "outputs": [
        {
          "output_type": "stream",
          "name": "stdout",
          "text": [
            "[0.5422902  0.60186416 0.50462632 0.59120892 0.59828246 0.49683707\n",
            " 0.52016266 0.59395587 0.44527742 0.46958675]\n"
          ]
        }
      ],
      "source": [
        "D = np.random.uniform(0,1,100)\n",
        "S = np.random.randint(0,10,100)\n",
        "D_sums = np.bincount(S, weights=D)\n",
        "D_counts = np.bincount(S)\n",
        "D_means = D_sums / D_counts\n",
        "print(D_means)"
      ]
    },
    {
      "cell_type": "markdown",
      "metadata": {
        "id": "rzhiAtr_Iu89"
      },
      "source": [
        "#### 69. How to get the diagonal of a dot product? (★★★) \n",
        "(**hint**: np.diag)"
      ]
    },
    {
      "cell_type": "code",
      "execution_count": 71,
      "metadata": {
        "id": "To-qRfibIu8-",
        "colab": {
          "base_uri": "https://localhost:8080/"
        },
        "outputId": "32379492-5751-4ba5-fc73-df04da2a382e"
      },
      "outputs": [
        {
          "output_type": "execute_result",
          "data": {
            "text/plain": [
              "array([ 6.09680156, 15.47556937,  5.39542954,  7.14127999,  5.60903172])"
            ]
          },
          "metadata": {},
          "execution_count": 71
        }
      ],
      "source": [
        "x = np.random.uniform(0,3,(5,5))\n",
        "y = np.random.uniform(0,3,(5,5))\n",
        "np.diag(np.dot(x, y))"
      ]
    },
    {
      "cell_type": "markdown",
      "metadata": {
        "id": "xzxgqXi6Iu8-"
      },
      "source": [
        "#### 70. Consider the vector \\[1, 2, 3, 4, 5\\], how to build a new vector with 3 consecutive zeros interleaved between each value? (★★★) \n",
        "(**hint**: array\\[::4\\])"
      ]
    },
    {
      "cell_type": "code",
      "execution_count": 72,
      "metadata": {
        "id": "HcjbnZ3fIu8_",
        "colab": {
          "base_uri": "https://localhost:8080/"
        },
        "outputId": "c6d73d59-2ae2-4af6-80fc-e829a9d9872b"
      },
      "outputs": [
        {
          "output_type": "stream",
          "name": "stdout",
          "text": [
            "[1. 0. 0. 0. 2. 0. 0. 0. 3. 0. 0. 0. 4. 0. 0. 0. 5.]\n"
          ]
        }
      ],
      "source": [
        "arr = np.array([1,2,3,4,5])\n",
        "num_zer = 3\n",
        "arr1 = np.zeros(len(arr) + (len(arr)-1)*(num_zer))\n",
        "arr1[ : : num_zer+1 ] = arr\n",
        "print(arr1)"
      ]
    },
    {
      "cell_type": "markdown",
      "metadata": {
        "id": "uE_uVTWIIu8_"
      },
      "source": [
        "#### 71. Consider an array of dimension (5,5,3), how to mulitply it by an array with dimensions (5,5)? (★★★) \n",
        "(**hint**: array\\[:, :, None\\])"
      ]
    },
    {
      "cell_type": "code",
      "execution_count": 73,
      "metadata": {
        "collapsed": true,
        "id": "-0RQdWrEIu9A",
        "colab": {
          "base_uri": "https://localhost:8080/"
        },
        "outputId": "036666fe-4ada-4c08-85d3-c042b118ba5e"
      },
      "outputs": [
        {
          "output_type": "stream",
          "name": "stdout",
          "text": [
            "[[[8. 8. 8.]\n",
            "  [8. 8. 8.]\n",
            "  [8. 8. 8.]\n",
            "  [8. 8. 8.]\n",
            "  [8. 8. 8.]]\n",
            "\n",
            " [[8. 8. 8.]\n",
            "  [8. 8. 8.]\n",
            "  [8. 8. 8.]\n",
            "  [8. 8. 8.]\n",
            "  [8. 8. 8.]]\n",
            "\n",
            " [[8. 8. 8.]\n",
            "  [8. 8. 8.]\n",
            "  [8. 8. 8.]\n",
            "  [8. 8. 8.]\n",
            "  [8. 8. 8.]]\n",
            "\n",
            " [[8. 8. 8.]\n",
            "  [8. 8. 8.]\n",
            "  [8. 8. 8.]\n",
            "  [8. 8. 8.]\n",
            "  [8. 8. 8.]]\n",
            "\n",
            " [[8. 8. 8.]\n",
            "  [8. 8. 8.]\n",
            "  [8. 8. 8.]\n",
            "  [8. 8. 8.]\n",
            "  [8. 8. 8.]]]\n"
          ]
        }
      ],
      "source": [
        "x = 4*np.ones((5,5,3))\n",
        "y = 2*np.ones((5,5))\n",
        "print(x * y[:,:,None])"
      ]
    },
    {
      "cell_type": "markdown",
      "metadata": {
        "id": "vX6sx4MeIu9A"
      },
      "source": [
        "#### 72. How to swap two rows of an array? (★★★) \n",
        "(**hint**: array\\[\\[\\]\\] = array\\[\\[\\]\\])"
      ]
    },
    {
      "cell_type": "code",
      "execution_count": 76,
      "metadata": {
        "id": "OoLst-LiIu9B",
        "colab": {
          "base_uri": "https://localhost:8080/"
        },
        "outputId": "157ec7b7-3bf8-4ded-dfbd-0521e61dc27f"
      },
      "outputs": [
        {
          "output_type": "stream",
          "name": "stdout",
          "text": [
            "Before Swapping:\n",
            "\n",
            "[[ 0  1  2  3  4  5]\n",
            " [ 6  7  8  9 10 11]\n",
            " [12 13 14 15 16 17]\n",
            " [18 19 20 21 22 23]\n",
            " [24 25 26 27 28 29]]\n",
            "\n",
            "After Swapping:\n",
            "\n",
            "[[ 6  7  8  9 10 11]\n",
            " [ 0  1  2  3  4  5]\n",
            " [12 13 14 15 16 17]\n",
            " [18 19 20 21 22 23]\n",
            " [24 25 26 27 28 29]]\n"
          ]
        }
      ],
      "source": [
        "ar = np.arange(30).reshape(5,6)\n",
        "print(\"Before Swapping:\\n\")\n",
        "print(ar)\n",
        "ar[[0,1]] = ar[[1,0]]\n",
        "print(\"\\nAfter Swapping:\\n\")\n",
        "print(ar)"
      ]
    },
    {
      "cell_type": "markdown",
      "metadata": {
        "id": "UdLh_BEJIu9B"
      },
      "source": [
        "#### 73. Consider a set of 10 triplets describing 10 triangles (with shared vertices), find the set of unique line segments composing all the  triangles (★★★) \n",
        "(**hint**: repeat, np.roll, np.sort, view, np.unique)"
      ]
    },
    {
      "cell_type": "code",
      "execution_count": null,
      "metadata": {
        "id": "ZNPYOSPzIu9B"
      },
      "outputs": [],
      "source": [
        ""
      ]
    },
    {
      "cell_type": "markdown",
      "metadata": {
        "id": "U96SWMXyIu9C"
      },
      "source": [
        "#### 74. Given an array C that is a bincount, how to produce an array A such that np.bincount(A) == C? (★★★) \n",
        "(**hint**: np.repeat)"
      ]
    },
    {
      "cell_type": "code",
      "execution_count": 77,
      "metadata": {
        "id": "8xMW04QlIu9C",
        "colab": {
          "base_uri": "https://localhost:8080/"
        },
        "outputId": "0f721ebc-96e5-4087-9c03-312b74b60c50"
      },
      "outputs": [
        {
          "output_type": "stream",
          "name": "stdout",
          "text": [
            "[1 1 2 3 4 4 6]\n"
          ]
        }
      ],
      "source": [
        "C = np.bincount([1,1,2,3,4,4,6])\n",
        "\n",
        "A = np.repeat(np.arange(len(C)), C)\n",
        "\n",
        "print(A)\n"
      ]
    },
    {
      "cell_type": "markdown",
      "metadata": {
        "id": "twgxm3cTIu9D"
      },
      "source": [
        "#### 75. How to compute averages using a sliding window over an array? (★★★) \n",
        "(**hint**: np.cumsum)"
      ]
    },
    {
      "cell_type": "code",
      "execution_count": 78,
      "metadata": {
        "id": "0GDwom23Iu9D",
        "colab": {
          "base_uri": "https://localhost:8080/"
        },
        "outputId": "736957f2-b63f-43e3-83e2-db51d86b2775"
      },
      "outputs": [
        {
          "output_type": "stream",
          "name": "stdout",
          "text": [
            "[ 1.  2.  3.  4.  5.  6.  7.  8.  9. 10. 11. 12. 13. 14. 15. 16. 17. 18.]\n"
          ]
        }
      ],
      "source": [
        "def moving_average(a, n=3) :\n",
        "\n",
        "  ret = np.cumsum(a, dtype=float)\n",
        "\n",
        "  ret[n:] = ret[n:] - ret[:-n]\n",
        "\n",
        "  return ret[n - 1:] / n\n",
        "\n",
        "ar = np.arange(20)\n",
        "\n",
        "print(moving_average(ar, n=3))"
      ]
    },
    {
      "cell_type": "markdown",
      "metadata": {
        "id": "jdjqiIvXIu9E"
      },
      "source": [
        "#### 76. Consider a one-dimensional array Z, build a two-dimensional array whose first row is (Z\\[0\\],Z\\[1\\],Z\\[2\\]) and each subsequent row is  shifted by 1 (last row should be (Z\\[-3\\],Z\\[-2\\],Z\\[-1\\]) (★★★) \n",
        "(**hint**: from numpy.lib import stride_tricks)"
      ]
    },
    {
      "cell_type": "code",
      "execution_count": 79,
      "metadata": {
        "id": "iuFTaSkdIu9E",
        "colab": {
          "base_uri": "https://localhost:8080/"
        },
        "outputId": "88263224-f51b-45e4-8b3f-45eca110a997"
      },
      "outputs": [
        {
          "output_type": "stream",
          "name": "stdout",
          "text": [
            "[[0 1 2]\n",
            " [1 2 3]\n",
            " [2 3 4]\n",
            " [3 4 5]\n",
            " [4 5 6]\n",
            " [5 6 7]\n",
            " [6 7 8]\n",
            " [7 8 9]]\n"
          ]
        }
      ],
      "source": [
        "from numpy.lib import stride_tricks\n",
        "\n",
        "def rolling(a, window):\n",
        "\n",
        "  shape = (a.size - window + 1, window)\n",
        "\n",
        "  strides = (a.itemsize, a.itemsize)\n",
        "\n",
        "  return stride_tricks.as_strided(a, shape=shape, strides=strides)\n",
        "\n",
        "Z = rolling(np.arange(10), 3)\n",
        "\n",
        "print(Z)"
      ]
    },
    {
      "cell_type": "markdown",
      "metadata": {
        "id": "aBsL9_L2Iu9E"
      },
      "source": [
        "#### 77. How to negate a boolean, or to change the sign of a float inplace? (★★★) \n",
        "(**hint**: np.logical_not, np.negative)"
      ]
    },
    {
      "cell_type": "code",
      "execution_count": 80,
      "metadata": {
        "id": "Ei8Tsi4fIu9F",
        "colab": {
          "base_uri": "https://localhost:8080/"
        },
        "outputId": "09ae424a-f500-4436-8ae3-d567970b0a29"
      },
      "outputs": [
        {
          "output_type": "execute_result",
          "data": {
            "text/plain": [
              "array([ 0.72590587,  0.50833053, -0.61627608,  0.17236407,  0.37052773,\n",
              "       -0.50819285,  0.47110172, -0.09622261,  0.87441612,  0.26605958,\n",
              "       -0.17470505,  0.17362164, -0.62834508,  0.50677304,  0.51122165,\n",
              "       -0.32436088,  0.19794881, -0.97983058, -0.34250852,  0.1004316 ,\n",
              "        0.69954795,  0.03725707,  0.02180975, -0.53811689,  0.93031425,\n",
              "        0.71217851,  0.24364129, -0.3933507 , -0.42838967, -0.93305403,\n",
              "        0.71826885, -0.61048824, -0.8745637 , -0.69601304,  0.64232656,\n",
              "        0.24725243,  0.64763671, -0.05376361,  0.11845839,  0.41923888,\n",
              "       -0.89645622,  0.1244464 ,  0.91803277, -0.35125582,  0.27501657,\n",
              "        0.0465194 ,  0.03753113,  0.66269269,  0.64317517,  0.021598  ,\n",
              "       -0.30427376, -0.44871929, -0.71149226, -0.27569403,  0.03818379,\n",
              "        0.53732248,  0.94388822,  0.97358417, -0.76348039, -0.92868466,\n",
              "        0.63282332,  0.77950246,  0.98485469, -0.74656725,  0.21340997,\n",
              "        0.47210323, -0.07109708, -0.05643687, -0.71765726,  0.51411949,\n",
              "       -0.92188538,  0.30184566,  0.18548087,  0.88814518, -0.45075925,\n",
              "       -0.79789802, -0.87552729, -0.31580564,  0.85462808, -0.65983558,\n",
              "       -0.82070232, -0.74970031,  0.48596142,  0.33415998,  0.20515254,\n",
              "       -0.12018289, -0.32438452, -0.66193165,  0.3745953 , -0.08127067,\n",
              "       -0.92131401, -0.66029095,  0.18012168,  0.78681297, -0.5279143 ,\n",
              "        0.6163255 ,  0.75077662, -0.78585097, -0.90096167, -0.61316256])"
            ]
          },
          "metadata": {},
          "execution_count": 80
        }
      ],
      "source": [
        "Z = np.random.randint(0,2,100)\n",
        "\n",
        "np.logical_not(Z, out=Z)\n",
        "\n",
        "Z = np.random.uniform(-1.0,1.0,100)\n",
        "\n",
        "np.negative(Z, out=Z)"
      ]
    },
    {
      "cell_type": "markdown",
      "metadata": {
        "id": "2yFWaMdaIu9G"
      },
      "source": [
        "#### 78. Consider 2 sets of points P0,P1 describing lines (2d) and a point p, how to compute distance from p to each line i  (P0\\[i\\],P1\\[i\\])? (★★★)"
      ]
    },
    {
      "cell_type": "code",
      "execution_count": 81,
      "metadata": {
        "id": "SksdzA6HIu9G",
        "colab": {
          "base_uri": "https://localhost:8080/"
        },
        "outputId": "d2b862db-51e1-4ec8-d18f-7f1d06ec36c1"
      },
      "outputs": [
        {
          "output_type": "stream",
          "name": "stdout",
          "text": [
            "[8.25566172 8.38185093 3.40874982 2.96133735 4.43013977 4.57361945\n",
            " 4.00247083 1.44476489 2.98201135 9.89634287]\n"
          ]
        }
      ],
      "source": [
        "def distance(P0, P1, p):\n",
        "\n",
        "  T = P1 - P0\n",
        "  L = (T**2).sum(axis=1)\n",
        "  U = -((P0[:,0]-p[...,0])*T[:,0] + (P0[:,1]-p[...,1])*T[:,1]) / L\n",
        "  U = U.reshape(len(U),1)\n",
        "  D = P0 + U*T - p\n",
        "  return np.sqrt((D**2).sum(axis=1))\n",
        "\n",
        "P0 = np.random.uniform(-10,10,(10,2))\n",
        "P1 = np.random.uniform(-10,10,(10,2))\n",
        "p = np.random.uniform(-10,10,( 1,2))\n",
        "print(distance(P0, P1, p))"
      ]
    },
    {
      "cell_type": "markdown",
      "metadata": {
        "id": "RLROOryuIu9H"
      },
      "source": [
        "#### 79. Consider 2 sets of points P0,P1 describing lines (2d) and a set of points P, how to compute distance from each point j (P\\[j\\]) to each line i (P0\\[i\\],P1\\[i\\])? (★★★)"
      ]
    },
    {
      "cell_type": "code",
      "execution_count": 82,
      "metadata": {
        "id": "UqXtvwWsIu9H",
        "colab": {
          "base_uri": "https://localhost:8080/"
        },
        "outputId": "7d83dcab-ad32-4708-fc8d-89efc98f0499"
      },
      "outputs": [
        {
          "output_type": "stream",
          "name": "stdout",
          "text": [
            "[[ 0.298421    4.80039647  2.53731382  6.53110496  1.02467551  5.85387966\n",
            "   3.40371316  2.30568981  5.57138049  9.50688659]\n",
            " [ 4.56668749  0.78445876  6.09119476  0.25726063  1.83003326  9.49019108\n",
            "   0.13464925  5.86277671  3.53537916 11.41255098]\n",
            " [ 9.01868413  2.99217169  9.6779473   1.20212397  0.89177595  7.10600282\n",
            "   4.22479842  6.48413474  6.23661934  8.32335101]\n",
            " [14.60748848  5.902717   14.06285531  2.55110567  4.4325315   3.97869261\n",
            "   9.71807288  7.0923908   9.47979747  4.33492918]\n",
            " [16.65511103 15.47297335  8.47281489 13.00133598 13.30689534  5.37917662\n",
            "  12.99323325  3.18576657  1.63101792  3.87585606]\n",
            " [ 5.57388933  2.19631193  6.13052071  1.53920855  0.40130885  8.06972085\n",
            "   0.98707333  4.87668897  3.17690892  9.98950278]\n",
            " [ 4.26906374  6.19484565  1.14787132  6.70113423  2.94025471  4.28232005\n",
            "   0.39908396  1.04201491  2.55161683  7.20772301]\n",
            " [ 5.49831549 12.48123632  2.66589264 13.60819168  8.74991172  1.85800166\n",
            "   2.44559498  7.88044884  7.83847143  1.8490893 ]\n",
            " [10.36098647 14.10003886  1.92243942 13.71231784 11.01660983  3.69675469\n",
            "   7.08951157  6.22308198  4.04580789  0.89602111]\n",
            " [ 3.13365076 11.56806851  4.790552   13.41008594  7.53540704  0.84219657\n",
            "   0.16860717  8.53086534  9.54894483  3.28398225]]\n"
          ]
        }
      ],
      "source": [
        "P0 = np.random.uniform(-10, 10, (10,2))\n",
        "P1 = np.random.uniform(-10,10,(10,2))\n",
        "p = np.random.uniform(-10, 10, (10,2))\n",
        "print(np.array([distance(P0,P1,p_i) for p_i in p]))"
      ]
    },
    {
      "cell_type": "markdown",
      "metadata": {
        "id": "P94x-YEbIu9I"
      },
      "source": [
        "#### 80. Consider an arbitrary array, write a function that extract a subpart with a fixed shape and centered on a given element (pad with a `fill` value when necessary) (★★★) \n",
        "(**hint**: minimum, maximum)"
      ]
    },
    {
      "cell_type": "code",
      "execution_count": null,
      "metadata": {
        "id": "4dolKP7nIu9I"
      },
      "outputs": [],
      "source": [
        ""
      ]
    },
    {
      "cell_type": "markdown",
      "metadata": {
        "id": "a4f9RRW4Iu9J"
      },
      "source": [
        "#### 81. Consider an array Z = \\[1,2,3,4,5,6,7,8,9,10,11,12,13,14\\], how to generate an array R = \\[\\[1,2,3,4\\], \\[2,3,4,5\\], \\[3,4,5,6\\], ..., \\[11,12,13,14\\]\\]? (★★★) \n",
        "(**hint**: stride\\_tricks.as\\_strided)"
      ]
    },
    {
      "cell_type": "code",
      "execution_count": 83,
      "metadata": {
        "id": "6luufkgoIu9J",
        "colab": {
          "base_uri": "https://localhost:8080/"
        },
        "outputId": "3f29dd86-e553-4232-81bf-f28d481a2e20"
      },
      "outputs": [
        {
          "output_type": "stream",
          "name": "stdout",
          "text": [
            "[[ 1  2  3  4]\n",
            " [ 2  3  4  5]\n",
            " [ 3  4  5  6]\n",
            " [ 4  5  6  7]\n",
            " [ 5  6  7  8]\n",
            " [ 6  7  8  9]\n",
            " [ 7  8  9 10]\n",
            " [ 8  9 10 11]\n",
            " [ 9 10 11 12]\n",
            " [10 11 12 13]\n",
            " [11 12 13 14]]\n"
          ]
        }
      ],
      "source": [
        "Z = np.arange(1,15,dtype=np.uint32)\n",
        "R = stride_tricks.as_strided(Z,(11,4),(4,4))\n",
        "print(R)"
      ]
    },
    {
      "cell_type": "markdown",
      "metadata": {
        "id": "SMyby0i6Iu9K"
      },
      "source": [
        "#### 82. Compute a matrix rank (★★★) \n",
        "(**hint**: np.linalg.svd) (suggestion: np.linalg.svd)"
      ]
    },
    {
      "cell_type": "code",
      "execution_count": 84,
      "metadata": {
        "id": "CIg0JeytIu9K",
        "colab": {
          "base_uri": "https://localhost:8080/"
        },
        "outputId": "ec09955b-c29d-482f-92b7-cd8d64c721f7"
      },
      "outputs": [
        {
          "output_type": "stream",
          "name": "stdout",
          "text": [
            "10\n"
          ]
        }
      ],
      "source": [
        "arr = np.random.uniform(0,1,(10,10))\n",
        "x, y, z = np.linalg.svd(arr) # Singular Value Decomposition\n",
        "rank = np.sum(y > 1e-10)\n",
        "print(rank)"
      ]
    },
    {
      "cell_type": "markdown",
      "metadata": {
        "id": "nl5XOzwsIu9L"
      },
      "source": [
        "#### 83. How to find the most frequent value in an array? \n",
        "(**hint**: np.bincount, argmax)"
      ]
    },
    {
      "cell_type": "code",
      "execution_count": 85,
      "metadata": {
        "id": "_KepKiY5Iu9L",
        "colab": {
          "base_uri": "https://localhost:8080/"
        },
        "outputId": "ff6856e1-991b-4228-b5c6-f51fa27229a9"
      },
      "outputs": [
        {
          "output_type": "stream",
          "name": "stdout",
          "text": [
            "[0 8 1 1 5 7 5 8 0 1 6 9 0 2 6 4 7 7 1 5 4 0 2 0 2 1 1 5 4 5 4 0 1 8 8 7 7\n",
            " 8 7 9 7 8 4 1 3 9 8 7 1 5] \n",
            "\n",
            "1\n"
          ]
        }
      ],
      "source": [
        "arr = np.random.randint(0,10,50)\n",
        "print(arr,\"\\n\")\n",
        "print(np.bincount(arr).argmax())"
      ]
    },
    {
      "cell_type": "markdown",
      "metadata": {
        "id": "_ktV_r3SIu9M"
      },
      "source": [
        "#### 84. Extract all the contiguous 3x3 blocks from a random 10x10 matrix (★★★) \n",
        "(**hint**: stride\\_tricks.as\\_strided)"
      ]
    },
    {
      "cell_type": "code",
      "execution_count": 86,
      "metadata": {
        "id": "k-3NWB5NIu9M",
        "colab": {
          "base_uri": "https://localhost:8080/"
        },
        "outputId": "f0a054c7-8c66-424d-b3e5-76326ec81385"
      },
      "outputs": [
        {
          "output_type": "stream",
          "name": "stdout",
          "text": [
            "[[3 1 3 1 2 3 2 4 3 2]\n",
            " [2 2 0 0 2 3 3 1 1 0]\n",
            " [1 2 3 4 0 0 4 1 4 0]\n",
            " [4 4 2 4 4 4 0 4 2 3]\n",
            " [2 3 3 2 3 0 4 4 1 1]\n",
            " [1 0 3 2 4 1 0 3 4 0]\n",
            " [2 2 2 4 4 0 4 0 1 4]\n",
            " [0 0 1 2 2 0 1 3 2 3]\n",
            " [1 2 1 2 2 0 2 4 0 1]\n",
            " [0 4 3 4 4 3 3 2 2 4]] \n",
            "\n",
            "[[[[3 1 3]\n",
            "   [2 2 0]\n",
            "   [1 2 3]]\n",
            "\n",
            "  [[1 3 1]\n",
            "   [2 0 0]\n",
            "   [2 3 4]]\n",
            "\n",
            "  [[3 1 2]\n",
            "   [0 0 2]\n",
            "   [3 4 0]]\n",
            "\n",
            "  [[1 2 3]\n",
            "   [0 2 3]\n",
            "   [4 0 0]]\n",
            "\n",
            "  [[2 3 2]\n",
            "   [2 3 3]\n",
            "   [0 0 4]]\n",
            "\n",
            "  [[3 2 4]\n",
            "   [3 3 1]\n",
            "   [0 4 1]]\n",
            "\n",
            "  [[2 4 3]\n",
            "   [3 1 1]\n",
            "   [4 1 4]]\n",
            "\n",
            "  [[4 3 2]\n",
            "   [1 1 0]\n",
            "   [1 4 0]]]\n",
            "\n",
            "\n",
            " [[[2 2 0]\n",
            "   [1 2 3]\n",
            "   [4 4 2]]\n",
            "\n",
            "  [[2 0 0]\n",
            "   [2 3 4]\n",
            "   [4 2 4]]\n",
            "\n",
            "  [[0 0 2]\n",
            "   [3 4 0]\n",
            "   [2 4 4]]\n",
            "\n",
            "  [[0 2 3]\n",
            "   [4 0 0]\n",
            "   [4 4 4]]\n",
            "\n",
            "  [[2 3 3]\n",
            "   [0 0 4]\n",
            "   [4 4 0]]\n",
            "\n",
            "  [[3 3 1]\n",
            "   [0 4 1]\n",
            "   [4 0 4]]\n",
            "\n",
            "  [[3 1 1]\n",
            "   [4 1 4]\n",
            "   [0 4 2]]\n",
            "\n",
            "  [[1 1 0]\n",
            "   [1 4 0]\n",
            "   [4 2 3]]]\n",
            "\n",
            "\n",
            " [[[1 2 3]\n",
            "   [4 4 2]\n",
            "   [2 3 3]]\n",
            "\n",
            "  [[2 3 4]\n",
            "   [4 2 4]\n",
            "   [3 3 2]]\n",
            "\n",
            "  [[3 4 0]\n",
            "   [2 4 4]\n",
            "   [3 2 3]]\n",
            "\n",
            "  [[4 0 0]\n",
            "   [4 4 4]\n",
            "   [2 3 0]]\n",
            "\n",
            "  [[0 0 4]\n",
            "   [4 4 0]\n",
            "   [3 0 4]]\n",
            "\n",
            "  [[0 4 1]\n",
            "   [4 0 4]\n",
            "   [0 4 4]]\n",
            "\n",
            "  [[4 1 4]\n",
            "   [0 4 2]\n",
            "   [4 4 1]]\n",
            "\n",
            "  [[1 4 0]\n",
            "   [4 2 3]\n",
            "   [4 1 1]]]\n",
            "\n",
            "\n",
            " [[[4 4 2]\n",
            "   [2 3 3]\n",
            "   [1 0 3]]\n",
            "\n",
            "  [[4 2 4]\n",
            "   [3 3 2]\n",
            "   [0 3 2]]\n",
            "\n",
            "  [[2 4 4]\n",
            "   [3 2 3]\n",
            "   [3 2 4]]\n",
            "\n",
            "  [[4 4 4]\n",
            "   [2 3 0]\n",
            "   [2 4 1]]\n",
            "\n",
            "  [[4 4 0]\n",
            "   [3 0 4]\n",
            "   [4 1 0]]\n",
            "\n",
            "  [[4 0 4]\n",
            "   [0 4 4]\n",
            "   [1 0 3]]\n",
            "\n",
            "  [[0 4 2]\n",
            "   [4 4 1]\n",
            "   [0 3 4]]\n",
            "\n",
            "  [[4 2 3]\n",
            "   [4 1 1]\n",
            "   [3 4 0]]]\n",
            "\n",
            "\n",
            " [[[2 3 3]\n",
            "   [1 0 3]\n",
            "   [2 2 2]]\n",
            "\n",
            "  [[3 3 2]\n",
            "   [0 3 2]\n",
            "   [2 2 4]]\n",
            "\n",
            "  [[3 2 3]\n",
            "   [3 2 4]\n",
            "   [2 4 4]]\n",
            "\n",
            "  [[2 3 0]\n",
            "   [2 4 1]\n",
            "   [4 4 0]]\n",
            "\n",
            "  [[3 0 4]\n",
            "   [4 1 0]\n",
            "   [4 0 4]]\n",
            "\n",
            "  [[0 4 4]\n",
            "   [1 0 3]\n",
            "   [0 4 0]]\n",
            "\n",
            "  [[4 4 1]\n",
            "   [0 3 4]\n",
            "   [4 0 1]]\n",
            "\n",
            "  [[4 1 1]\n",
            "   [3 4 0]\n",
            "   [0 1 4]]]\n",
            "\n",
            "\n",
            " [[[1 0 3]\n",
            "   [2 2 2]\n",
            "   [0 0 1]]\n",
            "\n",
            "  [[0 3 2]\n",
            "   [2 2 4]\n",
            "   [0 1 2]]\n",
            "\n",
            "  [[3 2 4]\n",
            "   [2 4 4]\n",
            "   [1 2 2]]\n",
            "\n",
            "  [[2 4 1]\n",
            "   [4 4 0]\n",
            "   [2 2 0]]\n",
            "\n",
            "  [[4 1 0]\n",
            "   [4 0 4]\n",
            "   [2 0 1]]\n",
            "\n",
            "  [[1 0 3]\n",
            "   [0 4 0]\n",
            "   [0 1 3]]\n",
            "\n",
            "  [[0 3 4]\n",
            "   [4 0 1]\n",
            "   [1 3 2]]\n",
            "\n",
            "  [[3 4 0]\n",
            "   [0 1 4]\n",
            "   [3 2 3]]]\n",
            "\n",
            "\n",
            " [[[2 2 2]\n",
            "   [0 0 1]\n",
            "   [1 2 1]]\n",
            "\n",
            "  [[2 2 4]\n",
            "   [0 1 2]\n",
            "   [2 1 2]]\n",
            "\n",
            "  [[2 4 4]\n",
            "   [1 2 2]\n",
            "   [1 2 2]]\n",
            "\n",
            "  [[4 4 0]\n",
            "   [2 2 0]\n",
            "   [2 2 0]]\n",
            "\n",
            "  [[4 0 4]\n",
            "   [2 0 1]\n",
            "   [2 0 2]]\n",
            "\n",
            "  [[0 4 0]\n",
            "   [0 1 3]\n",
            "   [0 2 4]]\n",
            "\n",
            "  [[4 0 1]\n",
            "   [1 3 2]\n",
            "   [2 4 0]]\n",
            "\n",
            "  [[0 1 4]\n",
            "   [3 2 3]\n",
            "   [4 0 1]]]\n",
            "\n",
            "\n",
            " [[[0 0 1]\n",
            "   [1 2 1]\n",
            "   [0 4 3]]\n",
            "\n",
            "  [[0 1 2]\n",
            "   [2 1 2]\n",
            "   [4 3 4]]\n",
            "\n",
            "  [[1 2 2]\n",
            "   [1 2 2]\n",
            "   [3 4 4]]\n",
            "\n",
            "  [[2 2 0]\n",
            "   [2 2 0]\n",
            "   [4 4 3]]\n",
            "\n",
            "  [[2 0 1]\n",
            "   [2 0 2]\n",
            "   [4 3 3]]\n",
            "\n",
            "  [[0 1 3]\n",
            "   [0 2 4]\n",
            "   [3 3 2]]\n",
            "\n",
            "  [[1 3 2]\n",
            "   [2 4 0]\n",
            "   [3 2 2]]\n",
            "\n",
            "  [[3 2 3]\n",
            "   [4 0 1]\n",
            "   [2 2 4]]]]\n"
          ]
        }
      ],
      "source": [
        "arr = np.random.randint(0,5,(10,10))\n",
        "print(arr,\"\\n\")\n",
        "n = 3\n",
        "i = 1 + (arr.shape[0]-3)\n",
        "j = 1 + (arr.shape[1]-3)\n",
        "result = stride_tricks.as_strided(arr, shape=(i, j, n, n), strides=arr.strides + arr.strides)\n",
        "print(result)"
      ]
    },
    {
      "cell_type": "markdown",
      "metadata": {
        "id": "f5cXO3UxIu9M"
      },
      "source": [
        "#### 85. Create a 2D array subclass such that Z\\[i,j\\] == Z\\[j,i\\] (★★★) \n",
        "(**hint**: class method)"
      ]
    },
    {
      "cell_type": "code",
      "execution_count": 92,
      "metadata": {
        "id": "VX7y4pkcIu9N",
        "colab": {
          "base_uri": "https://localhost:8080/"
        },
        "outputId": "a02ccbec-dce7-4c26-bdf4-db9ba7118363"
      },
      "outputs": [
        {
          "output_type": "stream",
          "name": "stdout",
          "text": [
            "[[ 2  9 16  9 10]\n",
            " [ 9  5 12  8 13]\n",
            " [16 12  5 42  2]\n",
            " [ 9  8 42  4  8]\n",
            " [10 13  2  8  1]]\n"
          ]
        }
      ],
      "source": [
        "class Symetric(np.ndarray):\n",
        "    def __setitem__(self, index, value):\n",
        "        i,j = index\n",
        "        super(Symetric, self).__setitem__((i,j), value)\n",
        "        super(Symetric, self).__setitem__((j,i), value)\n",
        "\n",
        "def symetric(Z):\n",
        "    return np.asarray(Z + Z.T - np.diag(Z.diagonal())).view(Symetric)\n",
        "\n",
        "S = symetric(np.random.randint(0,10,(5,5)))\n",
        "S[2,3] = 42\n",
        "print(S)"
      ]
    },
    {
      "cell_type": "markdown",
      "metadata": {
        "id": "0telc4USIu9N"
      },
      "source": [
        "#### 86. Consider a set of p matrices wich shape (n,n) and a set of p vectors with shape (n,1). How to compute the sum of of the p matrix products at once? (result has shape (n,1)) (★★★) \n",
        "(**hint**: np.tensordot)"
      ]
    },
    {
      "cell_type": "code",
      "execution_count": 87,
      "metadata": {
        "id": "GaOXD4ytIu9O",
        "colab": {
          "base_uri": "https://localhost:8080/"
        },
        "outputId": "1bf932b5-c094-4b6f-b0d0-80951f2ea29c"
      },
      "outputs": [
        {
          "output_type": "stream",
          "name": "stdout",
          "text": [
            "[[200.]\n",
            " [200.]\n",
            " [200.]\n",
            " [200.]\n",
            " [200.]\n",
            " [200.]\n",
            " [200.]\n",
            " [200.]\n",
            " [200.]\n",
            " [200.]\n",
            " [200.]\n",
            " [200.]\n",
            " [200.]\n",
            " [200.]\n",
            " [200.]\n",
            " [200.]\n",
            " [200.]\n",
            " [200.]\n",
            " [200.]\n",
            " [200.]]\n"
          ]
        }
      ],
      "source": [
        "p, n = 10, 20\n",
        "M = np.ones((p,n,n))\n",
        "V = np.ones((p,n,1))\n",
        "S = np.tensordot(M, V, axes=[[0, 2], [0, 1]])\n",
        "print(S)"
      ]
    },
    {
      "cell_type": "markdown",
      "metadata": {
        "id": "K9sNIO5jIu9O"
      },
      "source": [
        "#### 87. Consider a 16x16 array, how to get the block-sum (block size is 4x4)? (★★★) \n",
        "(**hint**: np.add.reduceat)"
      ]
    },
    {
      "cell_type": "code",
      "execution_count": 88,
      "metadata": {
        "id": "M_XKn3G1Iu9P",
        "colab": {
          "base_uri": "https://localhost:8080/"
        },
        "outputId": "5c461fd9-6f59-4633-fe7f-9a00e90da1df"
      },
      "outputs": [
        {
          "output_type": "stream",
          "name": "stdout",
          "text": [
            "[[16. 16. 16. 16.]\n",
            " [16. 16. 16. 16.]\n",
            " [16. 16. 16. 16.]\n",
            " [16. 16. 16. 16.]]\n"
          ]
        }
      ],
      "source": [
        "arr = np.ones((16,16))\n",
        "n = 4\n",
        "s = np.add.reduceat(np.add.reduceat(arr, np.arange(0, arr.shape[0], n), axis=0),np.arange(0, arr.shape[1], n), axis=1)\n",
        "print(s)"
      ]
    },
    {
      "cell_type": "markdown",
      "metadata": {
        "id": "f-pYo1_qIu9Q"
      },
      "source": [
        "#### 88. How to implement the Game of Life using numpy arrays? (★★★)"
      ]
    },
    {
      "cell_type": "code",
      "execution_count": null,
      "metadata": {
        "id": "pIpa5zZUIu9Q"
      },
      "outputs": [],
      "source": [
        ""
      ]
    },
    {
      "cell_type": "markdown",
      "metadata": {
        "id": "Q-XO1GQuIu9Q"
      },
      "source": [
        "#### 89. How to get the n largest values of an array (★★★) \n",
        "(**hint**: np.argsort | np.argpartition)"
      ]
    },
    {
      "cell_type": "code",
      "execution_count": 89,
      "metadata": {
        "id": "qkNOW4ngIu9R",
        "colab": {
          "base_uri": "https://localhost:8080/"
        },
        "outputId": "468a5c19-efa5-4b09-e955-33e9af4d6b10"
      },
      "outputs": [
        {
          "output_type": "stream",
          "name": "stdout",
          "text": [
            "[9995 9996 9997 9998 9999]\n"
          ]
        }
      ],
      "source": [
        "arr = np.arange(10000)\n",
        "np.random.shuffle(arr)\n",
        "n = 5\n",
        "\n",
        "# Slow\n",
        "print (arr[np.argsort(arr)[-n:]])"
      ]
    },
    {
      "cell_type": "code",
      "source": [
        "# Fast\n",
        "print (arr[np.argpartition(-arr,n)[:n]])"
      ],
      "metadata": {
        "colab": {
          "base_uri": "https://localhost:8080/"
        },
        "id": "vsfJ4-ecs4lH",
        "outputId": "0cd3194e-58ad-4b04-cb20-379c3b8b237b"
      },
      "execution_count": null,
      "outputs": [
        {
          "output_type": "stream",
          "name": "stdout",
          "text": [
            "[9996 9999 9997 9998 9995]\n"
          ]
        }
      ]
    },
    {
      "cell_type": "markdown",
      "metadata": {
        "id": "qLUTmYsjIu9S"
      },
      "source": [
        "#### 90. Given an arbitrary number of vectors, build the cartesian product (every combinations of every item) (★★★) \n",
        "(**hint**: np.indices)"
      ]
    },
    {
      "cell_type": "code",
      "execution_count": 91,
      "metadata": {
        "scrolled": true,
        "id": "umLTo7xiIu9S",
        "colab": {
          "base_uri": "https://localhost:8080/"
        },
        "outputId": "a52fc7e2-65ac-4812-be82-2da2d96c31c1"
      },
      "outputs": [
        {
          "output_type": "stream",
          "name": "stdout",
          "text": [
            "[[1 4 6]\n",
            " [1 4 7]\n",
            " [1 5 6]\n",
            " [1 5 7]\n",
            " [2 4 6]\n",
            " [2 4 7]\n",
            " [2 5 6]\n",
            " [2 5 7]\n",
            " [3 4 6]\n",
            " [3 4 7]\n",
            " [3 5 6]\n",
            " [3 5 7]]\n"
          ]
        }
      ],
      "source": [
        "def cartesian(arrays):\n",
        "\n",
        "  arrays = [np.asarray(a) for a in arrays]\n",
        "  shape = (len(x) for x in arrays)\n",
        "  ix = np.indices(shape, dtype=int)\n",
        "  ix = ix.reshape(len(arrays), -1).T\n",
        "  for n, arr in enumerate(arrays):\n",
        "    ix[:, n] = arrays[n][ix[:, n]]\n",
        "  return ix\n",
        "\n",
        "print (cartesian(([1, 2, 3], [4, 5], [6, 7])))"
      ]
    },
    {
      "cell_type": "markdown",
      "metadata": {
        "id": "ZJi1l2bFIu9T"
      },
      "source": [
        "#### 91. How to create a record array from a regular array? (★★★) \n",
        "(**hint**: np.core.records.fromarrays)"
      ]
    },
    {
      "cell_type": "code",
      "execution_count": 90,
      "metadata": {
        "id": "2FFKwdfSIu9U",
        "colab": {
          "base_uri": "https://localhost:8080/"
        },
        "outputId": "d6077a26-82cb-4ea7-db0d-5bbcbff80dd0"
      },
      "outputs": [
        {
          "output_type": "stream",
          "name": "stdout",
          "text": [
            "[(b'Hello', 2.5, 3) (b'World', 3.6, 2)]\n"
          ]
        }
      ],
      "source": [
        "Z = np.array([(\"Hello\", 2.5, 3),(\"World\", 3.6, 2)])\n",
        "R = np.core.records.fromarrays(Z.T,\n",
        "names='col1, col2, col3',\n",
        "formats = 'S8, f8, i8')\n",
        "print(R)"
      ]
    },
    {
      "cell_type": "markdown",
      "metadata": {
        "id": "TQTqoMF1Iu9U"
      },
      "source": [
        "#### 92. Consider a large vector Z, compute Z to the power of 3 using 3 different methods (★★★) \n",
        "(**hint**: np.power, \\*, np.einsum)"
      ]
    },
    {
      "cell_type": "code",
      "execution_count": 93,
      "metadata": {
        "id": "6n6MLuYsIu9V",
        "colab": {
          "base_uri": "https://localhost:8080/"
        },
        "outputId": "8231a005-a314-437b-b50f-cceb9710ec61"
      },
      "outputs": [
        {
          "output_type": "stream",
          "name": "stdout",
          "text": [
            "1 loop, best of 5: 3.58 s per loop\n",
            "10 loops, best of 5: 141 ms per loop\n",
            "10 loops, best of 5: 117 ms per loop\n"
          ]
        }
      ],
      "source": [
        "x = np.random.rand(int(5e7))\n",
        "\n",
        "%timeit np.power(x,3)\n",
        "%timeit x*x*x\n",
        "%timeit np.einsum('i,i,i->i',x,x,x)"
      ]
    },
    {
      "cell_type": "markdown",
      "metadata": {
        "id": "P198v8_AIu9V"
      },
      "source": [
        "#### 93. Consider two arrays A and B of shape (8,3) and (2,2). How to find rows of A that contain elements of each row of B regardless of the order of the elements in B? (★★★) \n",
        "(**hint**: np.where)"
      ]
    },
    {
      "cell_type": "code",
      "execution_count": 94,
      "metadata": {
        "id": "RWpfdlUSIu9V",
        "colab": {
          "base_uri": "https://localhost:8080/"
        },
        "outputId": "7faf6ed4-ad1e-4d4f-98d3-cb97ec3cd6d6"
      },
      "outputs": [
        {
          "output_type": "stream",
          "name": "stdout",
          "text": [
            "[0 1 4 5 6 7]\n"
          ]
        }
      ],
      "source": [
        "A = np.random.randint(0,5,(8,3))\n",
        "B = np.random.randint(0,5,(2,2))\n",
        "\n",
        "C = (A[..., np.newaxis, np.newaxis] == B)\n",
        "rows = np.where(C.any((3,1)).all(1))[0]\n",
        "print(rows)\n"
      ]
    },
    {
      "cell_type": "markdown",
      "metadata": {
        "id": "giwKHO9kIu9W"
      },
      "source": [
        "#### 94. Considering a 10x3 matrix, extract rows with unequal values (e.g. \\[2,2,3\\]) (★★★)"
      ]
    },
    {
      "cell_type": "code",
      "execution_count": null,
      "metadata": {
        "id": "r9hkVPG8Iu9W"
      },
      "outputs": [],
      "source": [
        ""
      ]
    },
    {
      "cell_type": "markdown",
      "metadata": {
        "id": "TN7q07efIu9W"
      },
      "source": [
        "#### 95. Convert a vector of ints into a matrix binary representation (★★★) \n",
        "(**hint**: np.unpackbits)"
      ]
    },
    {
      "cell_type": "code",
      "execution_count": 98,
      "metadata": {
        "id": "sNK-S3FnIu9X",
        "colab": {
          "base_uri": "https://localhost:8080/"
        },
        "outputId": "e870bac9-7785-4cd2-83ba-7c92846dfa2d"
      },
      "outputs": [
        {
          "output_type": "stream",
          "name": "stdout",
          "text": [
            "[[0 0 0 0 0 0 0 0]\n",
            " [0 0 0 0 0 0 0 1]\n",
            " [0 0 0 0 0 0 1 0]\n",
            " [0 0 0 0 0 0 1 1]\n",
            " [0 0 0 0 1 1 1 1]\n",
            " [0 0 0 1 0 0 0 0]\n",
            " [0 0 1 0 0 0 0 0]\n",
            " [0 1 0 0 0 0 0 0]\n",
            " [1 0 0 0 0 0 0 0]] \n",
            "\n",
            "[[0 0 0 0 0 0 0 0]\n",
            " [0 0 0 0 0 0 0 1]\n",
            " [0 0 0 0 0 0 1 0]\n",
            " [0 0 0 0 0 0 1 1]\n",
            " [0 0 0 0 1 1 1 1]\n",
            " [0 0 0 1 0 0 0 0]\n",
            " [0 0 1 0 0 0 0 0]\n",
            " [0 1 0 0 0 0 0 0]\n",
            " [1 0 0 0 0 0 0 0]]\n"
          ]
        }
      ],
      "source": [
        "arr1 = np.array([0, 1, 2, 3, 15, 16, 32, 64, 128])\n",
        "binary = ((arr1.reshape(-1,1) & (2**np.arange(8))) != 0).astype(int)\n",
        "print(binary[:,::-1],\"\\n\")\n",
        "\n",
        "arr2 = np.array([0, 1, 2, 3, 15, 16, 32, 64, 128], dtype=np.uint8)\n",
        "print(np.unpackbits(arr2[:, np.newaxis], axis=1))"
      ]
    },
    {
      "cell_type": "markdown",
      "metadata": {
        "id": "FbuwQlO_Iu9X"
      },
      "source": [
        "#### 96. Given a two dimensional array, how to extract unique rows? (★★★) \n",
        "(**hint**: np.ascontiguousarray)"
      ]
    },
    {
      "cell_type": "code",
      "execution_count": 100,
      "metadata": {
        "id": "IFUJEP0LIu9Y",
        "colab": {
          "base_uri": "https://localhost:8080/"
        },
        "outputId": "2b1efdbd-d1d5-4283-8ad7-120cda62b529"
      },
      "outputs": [
        {
          "output_type": "stream",
          "name": "stdout",
          "text": [
            "[[0 0 0]\n",
            " [0 1 1]\n",
            " [1 0 1]\n",
            " [1 1 0]\n",
            " [1 1 1]] \n",
            "\n",
            "[[0 0 0]\n",
            " [0 1 1]\n",
            " [1 0 1]\n",
            " [1 1 0]\n",
            " [1 1 1]]\n"
          ]
        }
      ],
      "source": [
        "Z = np.random.randint(0,2,(6,3))\n",
        "T = np.ascontiguousarray(Z).view(np.dtype((np.void, Z.dtype.itemsize * Z.shape[1])))\n",
        "_, idx = np.unique(T, return_index=True)\n",
        "uZ = Z[idx]\n",
        "print(uZ,\"\\n\")\n",
        "uZ = np.unique(Z, axis=0)\n",
        "print(uZ)"
      ]
    },
    {
      "cell_type": "markdown",
      "metadata": {
        "id": "bFQGrPd4Iu9Y"
      },
      "source": [
        "#### 97. Considering 2 vectors A & B, write the einsum equivalent of inner, outer, sum, and mul function (★★★) \n",
        "(**hint**: np.einsum)"
      ]
    },
    {
      "cell_type": "code",
      "execution_count": 105,
      "metadata": {
        "id": "XCeQJtAWIu9Y",
        "colab": {
          "base_uri": "https://localhost:8080/"
        },
        "outputId": "f07c9670-bac1-4229-ace7-e0b59a94eb96"
      },
      "outputs": [
        {
          "output_type": "execute_result",
          "data": {
            "text/plain": [
              "array([[ 0.39616993,  2.41033565,  6.31820296,  6.6409399 ,  9.13102518,\n",
              "        11.47785665, 15.55428024,  2.18607669,  3.81850214,  6.06483372],\n",
              "       [ 0.29714695,  1.80787037,  4.73896318,  4.98103177,  6.84871828,\n",
              "         8.60895739, 11.66647571,  1.63966511,  2.86406454,  4.54892378],\n",
              "       [ 0.0594092 ,  0.36145122,  0.94747059,  0.99586786,  1.36927824,\n",
              "         1.72120644,  2.33250232,  0.32782159,  0.57261827,  0.90947562],\n",
              "       [ 0.15298995,  0.93080544,  2.43991649,  2.56454863,  3.52615119,\n",
              "         4.43243306,  6.00663592,  0.84420279,  1.47460067,  2.34207225],\n",
              "       [ 0.17449152,  1.06162303,  2.78282811,  2.92497635,  4.0217248 ,\n",
              "         5.05537766,  6.8508227 ,  0.96284904,  1.68184453,  2.67123261],\n",
              "       [ 0.50081   ,  3.04697584,  7.98702527,  8.39500648, 11.54279616,\n",
              "        14.5094945 , 19.66262086,  2.76348352,  4.82708031,  7.6667338 ],\n",
              "       [ 0.29359613,  1.78626687,  4.68233402,  4.92150996,  6.76687819,\n",
              "         8.50608297, 11.52706488,  1.62007161,  2.82983984,  4.49456553],\n",
              "       [ 0.33253141,  2.02315284,  5.30328224,  5.57417652,  7.66426846,\n",
              "         9.63411807, 13.05572781,  1.83491758,  3.20511935,  5.09061281],\n",
              "       [ 0.2881822 ,  1.75332799,  4.59599147,  4.83075699,  6.6420965 ,\n",
              "         8.34923023, 11.31450504,  1.59019738,  2.77765741,  4.41168544],\n",
              "       [ 0.59208766,  3.60231782,  9.44274093,  9.92508082, 13.64658681,\n",
              "        17.15399575, 23.2463312 ,  3.26715618,  5.70686423,  9.06407311]])"
            ]
          },
          "metadata": {},
          "execution_count": 105
        }
      ],
      "source": [
        "arr1 = np.random.uniform(0,5,10)\n",
        "arr2 = np.random.uniform(0,5,10)\n",
        "\n",
        "np.einsum('i->', arr1)    \n",
        "np.einsum('i,i->i', arr1, arr2) \n",
        "np.einsum('i,i',arr1, arr2)   \n",
        "np.einsum('i,j->ij',arr1, arr2)    "
      ]
    },
    {
      "cell_type": "markdown",
      "metadata": {
        "id": "aVKo1K8cIu9Z"
      },
      "source": [
        "#### 98. Considering a path described by two vectors (X,Y), how to sample it using equidistant samples (★★★)? \n",
        "(**hint**: np.cumsum, np.interp)"
      ]
    },
    {
      "cell_type": "code",
      "execution_count": null,
      "metadata": {
        "collapsed": true,
        "id": "MyOkkAQcIu9Z"
      },
      "outputs": [],
      "source": [
        ""
      ]
    },
    {
      "cell_type": "markdown",
      "metadata": {
        "id": "lpAZrb5yIu9a"
      },
      "source": [
        "#### 99. Given an integer n and a 2D array X, select from X the rows which can be interpreted as draws from a multinomial distribution with n degrees, i.e., the rows which only contain integers and which sum to n. (★★★) \n",
        "(**hint**: np.logical\\_and.reduce, np.mod)"
      ]
    },
    {
      "cell_type": "code",
      "execution_count": 106,
      "metadata": {
        "id": "M5rZ65C6Iu9a",
        "colab": {
          "base_uri": "https://localhost:8080/"
        },
        "outputId": "c4259613-201b-4874-e4f5-5a7c772c4e0a"
      },
      "outputs": [
        {
          "output_type": "stream",
          "name": "stdout",
          "text": [
            "[[2. 0. 1. 1.]]\n"
          ]
        }
      ],
      "source": [
        "X = np.asarray([[1.0, 0.0, 3.0, 8.0],\n",
        "                [2.0, 0.0, 1.0, 1.0],\n",
        "                [1.5, 2.5, 1.0, 0.0]])\n",
        "n = 4\n",
        "M = np.logical_and.reduce(np.mod(X, 1) == 0, axis=-1)\n",
        "M &= (X.sum(axis=-1) == n)\n",
        "print(X[M])"
      ]
    },
    {
      "cell_type": "markdown",
      "metadata": {
        "id": "6sakVjKbIu9a"
      },
      "source": [
        "#### 100. Compute bootstrapped 95% confidence intervals for the mean of a 1D array X (i.e., resample the elements of an array with replacement N times, compute the mean of each sample, and then compute percentiles over the means). (★★★) \n",
        "(**hint**: np.percentile)"
      ]
    },
    {
      "cell_type": "code",
      "execution_count": 107,
      "metadata": {
        "id": "U9qtf1iXIu9b",
        "colab": {
          "base_uri": "https://localhost:8080/"
        },
        "outputId": "63fb05b7-64e4-40fe-fdcd-7629cf5d27f4"
      },
      "outputs": [
        {
          "output_type": "stream",
          "name": "stdout",
          "text": [
            "[-0.30089287  0.08389643]\n"
          ]
        }
      ],
      "source": [
        "X = np.random.randn(100)\n",
        "N = 1000 \n",
        "idx = np.random.randint(0, X.size, (N, X.size))\n",
        "means = X[idx].mean(axis=1)\n",
        "confint = np.percentile(means, [2.5, 97.5])\n",
        "print(confint)"
      ]
    }
  ],
  "metadata": {
    "kernelspec": {
      "display_name": "Python 3",
      "language": "python",
      "name": "python3"
    },
    "language_info": {
      "codemirror_mode": {
        "name": "ipython",
        "version": 3
      },
      "file_extension": ".py",
      "mimetype": "text/x-python",
      "name": "python",
      "nbconvert_exporter": "python",
      "pygments_lexer": "ipython3",
      "version": "3.8.3"
    },
    "colab": {
      "name": "Task 2_Numpy_tasks.ipynb",
      "provenance": [],
      "collapsed_sections": []
    }
  },
  "nbformat": 4,
  "nbformat_minor": 0
}