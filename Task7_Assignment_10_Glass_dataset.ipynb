{
  "nbformat": 4,
  "nbformat_minor": 0,
  "metadata": {
    "colab": {
      "name": "Task7_Assignment 10_Glass dataset",
      "provenance": [],
      "authorship_tag": "ABX9TyMd71w5l8ScQsQURgDs70iy",
      "include_colab_link": true
    },
    "kernelspec": {
      "name": "python3",
      "display_name": "Python 3"
    },
    "language_info": {
      "name": "python"
    }
  },
  "cells": [
    {
      "cell_type": "markdown",
      "metadata": {
        "id": "view-in-github",
        "colab_type": "text"
      },
      "source": [
        "<a href=\"https://colab.research.google.com/github/MSGanga/MSGanga/blob/main/Task7_Assignment_10_Glass_dataset.ipynb\" target=\"_parent\"><img src=\"https://colab.research.google.com/assets/colab-badge.svg\" alt=\"Open In Colab\"/></a>"
      ]
    },
    {
      "cell_type": "markdown",
      "source": [
        "## `Attribute Information:`\n",
        "\n",
        "1. Id number: 1 to 214\n",
        "2. RI: refractive index\n",
        "3. Na: Sodium (unit measurement: weight percent in corresponding oxide, as are attributes 4-10)\n",
        "4. Mg: Magnesium\n",
        "5. Al: Aluminum\n",
        "6. Si: Silicon\n",
        "7. K: Potassium\n",
        "8. Ca: Calcium\n",
        "9. Ba: Barium\n",
        "10. Fe: Iron\n",
        "11. Type of glass: (class attribute)\n",
        "  * 1 building_windows_float_processed\n",
        "  * 2 building_windows_non_float_processed\n",
        "  * 3 vehicle_windows_float_processed\n",
        "  * 4 vehicle_windows_non_float_processed (none in this database)\n",
        "  * 5 containers\n",
        "  * 6 tableware\n",
        "  * 7 headlamps"
      ],
      "metadata": {
        "id": "Bf5DpjVbcYlS"
      }
    },
    {
      "cell_type": "code",
      "execution_count": 161,
      "metadata": {
        "id": "mZhrgqBgcG5Q"
      },
      "outputs": [],
      "source": [
        "# Importing the necessary Modules.\n",
        "import pandas as pd\n",
        "import matplotlib.pyplot as plt\n",
        "import seaborn as sns\n",
        "import numpy as np\n",
        "from sklearn.preprocessing import StandardScaler\n",
        "from imblearn.combine import SMOTETomek \n",
        "from collections import Counter\n",
        "from sklearn.neighbors import KNeighborsClassifier\n",
        "from sklearn.metrics import classification_report, confusion_matrix, roc_auc_score,accuracy_score\n",
        "import warnings\n",
        "warnings.filterwarnings('ignore')"
      ]
    },
    {
      "cell_type": "code",
      "source": [
        "# Loading the training dataset.\n",
        "train_df = pd.read_csv(\"/content/trainKNN.txt\", header=None, \n",
        "                 names=[\"Id\", \"RI\", \"Na\", \"Mg\", \"Al\", \"Si\", \"K\", \"Ca\", \"Ba\", \"Fe\", \"Glass_Type\"])\n",
        "train_df.head()"
      ],
      "metadata": {
        "colab": {
          "base_uri": "https://localhost:8080/",
          "height": 206
        },
        "id": "v6buMJtqe40J",
        "outputId": "b676c81c-8eb3-46d9-a5cd-ad70bf2f202f"
      },
      "execution_count": 162,
      "outputs": [
        {
          "output_type": "execute_result",
          "data": {
            "text/plain": [
              "   Id       RI     Na    Mg    Al     Si     K    Ca   Ba   Fe  Glass_Type\n",
              "0   1  1.52101  13.64  4.49  1.10  71.78  0.06  8.75  0.0  0.0           1\n",
              "1   2  1.51761  13.89  3.60  1.36  72.73  0.48  7.83  0.0  0.0           1\n",
              "2   3  1.51618  13.53  3.55  1.54  72.99  0.39  7.78  0.0  0.0           1\n",
              "3   4  1.51766  13.21  3.69  1.29  72.61  0.57  8.22  0.0  0.0           1\n",
              "4   5  1.51742  13.27  3.62  1.24  73.08  0.55  8.07  0.0  0.0           1"
            ],
            "text/html": [
              "\n",
              "  <div id=\"df-4d3e80dc-e1cb-434a-a416-663970051a53\">\n",
              "    <div class=\"colab-df-container\">\n",
              "      <div>\n",
              "<style scoped>\n",
              "    .dataframe tbody tr th:only-of-type {\n",
              "        vertical-align: middle;\n",
              "    }\n",
              "\n",
              "    .dataframe tbody tr th {\n",
              "        vertical-align: top;\n",
              "    }\n",
              "\n",
              "    .dataframe thead th {\n",
              "        text-align: right;\n",
              "    }\n",
              "</style>\n",
              "<table border=\"1\" class=\"dataframe\">\n",
              "  <thead>\n",
              "    <tr style=\"text-align: right;\">\n",
              "      <th></th>\n",
              "      <th>Id</th>\n",
              "      <th>RI</th>\n",
              "      <th>Na</th>\n",
              "      <th>Mg</th>\n",
              "      <th>Al</th>\n",
              "      <th>Si</th>\n",
              "      <th>K</th>\n",
              "      <th>Ca</th>\n",
              "      <th>Ba</th>\n",
              "      <th>Fe</th>\n",
              "      <th>Glass_Type</th>\n",
              "    </tr>\n",
              "  </thead>\n",
              "  <tbody>\n",
              "    <tr>\n",
              "      <th>0</th>\n",
              "      <td>1</td>\n",
              "      <td>1.52101</td>\n",
              "      <td>13.64</td>\n",
              "      <td>4.49</td>\n",
              "      <td>1.10</td>\n",
              "      <td>71.78</td>\n",
              "      <td>0.06</td>\n",
              "      <td>8.75</td>\n",
              "      <td>0.0</td>\n",
              "      <td>0.0</td>\n",
              "      <td>1</td>\n",
              "    </tr>\n",
              "    <tr>\n",
              "      <th>1</th>\n",
              "      <td>2</td>\n",
              "      <td>1.51761</td>\n",
              "      <td>13.89</td>\n",
              "      <td>3.60</td>\n",
              "      <td>1.36</td>\n",
              "      <td>72.73</td>\n",
              "      <td>0.48</td>\n",
              "      <td>7.83</td>\n",
              "      <td>0.0</td>\n",
              "      <td>0.0</td>\n",
              "      <td>1</td>\n",
              "    </tr>\n",
              "    <tr>\n",
              "      <th>2</th>\n",
              "      <td>3</td>\n",
              "      <td>1.51618</td>\n",
              "      <td>13.53</td>\n",
              "      <td>3.55</td>\n",
              "      <td>1.54</td>\n",
              "      <td>72.99</td>\n",
              "      <td>0.39</td>\n",
              "      <td>7.78</td>\n",
              "      <td>0.0</td>\n",
              "      <td>0.0</td>\n",
              "      <td>1</td>\n",
              "    </tr>\n",
              "    <tr>\n",
              "      <th>3</th>\n",
              "      <td>4</td>\n",
              "      <td>1.51766</td>\n",
              "      <td>13.21</td>\n",
              "      <td>3.69</td>\n",
              "      <td>1.29</td>\n",
              "      <td>72.61</td>\n",
              "      <td>0.57</td>\n",
              "      <td>8.22</td>\n",
              "      <td>0.0</td>\n",
              "      <td>0.0</td>\n",
              "      <td>1</td>\n",
              "    </tr>\n",
              "    <tr>\n",
              "      <th>4</th>\n",
              "      <td>5</td>\n",
              "      <td>1.51742</td>\n",
              "      <td>13.27</td>\n",
              "      <td>3.62</td>\n",
              "      <td>1.24</td>\n",
              "      <td>73.08</td>\n",
              "      <td>0.55</td>\n",
              "      <td>8.07</td>\n",
              "      <td>0.0</td>\n",
              "      <td>0.0</td>\n",
              "      <td>1</td>\n",
              "    </tr>\n",
              "  </tbody>\n",
              "</table>\n",
              "</div>\n",
              "      <button class=\"colab-df-convert\" onclick=\"convertToInteractive('df-4d3e80dc-e1cb-434a-a416-663970051a53')\"\n",
              "              title=\"Convert this dataframe to an interactive table.\"\n",
              "              style=\"display:none;\">\n",
              "        \n",
              "  <svg xmlns=\"http://www.w3.org/2000/svg\" height=\"24px\"viewBox=\"0 0 24 24\"\n",
              "       width=\"24px\">\n",
              "    <path d=\"M0 0h24v24H0V0z\" fill=\"none\"/>\n",
              "    <path d=\"M18.56 5.44l.94 2.06.94-2.06 2.06-.94-2.06-.94-.94-2.06-.94 2.06-2.06.94zm-11 1L8.5 8.5l.94-2.06 2.06-.94-2.06-.94L8.5 2.5l-.94 2.06-2.06.94zm10 10l.94 2.06.94-2.06 2.06-.94-2.06-.94-.94-2.06-.94 2.06-2.06.94z\"/><path d=\"M17.41 7.96l-1.37-1.37c-.4-.4-.92-.59-1.43-.59-.52 0-1.04.2-1.43.59L10.3 9.45l-7.72 7.72c-.78.78-.78 2.05 0 2.83L4 21.41c.39.39.9.59 1.41.59.51 0 1.02-.2 1.41-.59l7.78-7.78 2.81-2.81c.8-.78.8-2.07 0-2.86zM5.41 20L4 18.59l7.72-7.72 1.47 1.35L5.41 20z\"/>\n",
              "  </svg>\n",
              "      </button>\n",
              "      \n",
              "  <style>\n",
              "    .colab-df-container {\n",
              "      display:flex;\n",
              "      flex-wrap:wrap;\n",
              "      gap: 12px;\n",
              "    }\n",
              "\n",
              "    .colab-df-convert {\n",
              "      background-color: #E8F0FE;\n",
              "      border: none;\n",
              "      border-radius: 50%;\n",
              "      cursor: pointer;\n",
              "      display: none;\n",
              "      fill: #1967D2;\n",
              "      height: 32px;\n",
              "      padding: 0 0 0 0;\n",
              "      width: 32px;\n",
              "    }\n",
              "\n",
              "    .colab-df-convert:hover {\n",
              "      background-color: #E2EBFA;\n",
              "      box-shadow: 0px 1px 2px rgba(60, 64, 67, 0.3), 0px 1px 3px 1px rgba(60, 64, 67, 0.15);\n",
              "      fill: #174EA6;\n",
              "    }\n",
              "\n",
              "    [theme=dark] .colab-df-convert {\n",
              "      background-color: #3B4455;\n",
              "      fill: #D2E3FC;\n",
              "    }\n",
              "\n",
              "    [theme=dark] .colab-df-convert:hover {\n",
              "      background-color: #434B5C;\n",
              "      box-shadow: 0px 1px 3px 1px rgba(0, 0, 0, 0.15);\n",
              "      filter: drop-shadow(0px 1px 2px rgba(0, 0, 0, 0.3));\n",
              "      fill: #FFFFFF;\n",
              "    }\n",
              "  </style>\n",
              "\n",
              "      <script>\n",
              "        const buttonEl =\n",
              "          document.querySelector('#df-4d3e80dc-e1cb-434a-a416-663970051a53 button.colab-df-convert');\n",
              "        buttonEl.style.display =\n",
              "          google.colab.kernel.accessAllowed ? 'block' : 'none';\n",
              "\n",
              "        async function convertToInteractive(key) {\n",
              "          const element = document.querySelector('#df-4d3e80dc-e1cb-434a-a416-663970051a53');\n",
              "          const dataTable =\n",
              "            await google.colab.kernel.invokeFunction('convertToInteractive',\n",
              "                                                     [key], {});\n",
              "          if (!dataTable) return;\n",
              "\n",
              "          const docLinkHtml = 'Like what you see? Visit the ' +\n",
              "            '<a target=\"_blank\" href=https://colab.research.google.com/notebooks/data_table.ipynb>data table notebook</a>'\n",
              "            + ' to learn more about interactive tables.';\n",
              "          element.innerHTML = '';\n",
              "          dataTable['output_type'] = 'display_data';\n",
              "          await google.colab.output.renderOutput(dataTable, element);\n",
              "          const docLink = document.createElement('div');\n",
              "          docLink.innerHTML = docLinkHtml;\n",
              "          element.appendChild(docLink);\n",
              "        }\n",
              "      </script>\n",
              "    </div>\n",
              "  </div>\n",
              "  "
            ]
          },
          "metadata": {},
          "execution_count": 162
        }
      ]
    },
    {
      "cell_type": "code",
      "source": [
        "# Loading the testing dataset.\n",
        "test_df = pd.read_csv(\"/content/testKNN.txt\", header=None, \n",
        "                 names=[\"Id\", \"RI\", \"Na\", \"Mg\", \"Al\", \"Si\", \"K\", \"Ca\", \"Ba\", \"Fe\", \"Glass_Type\"])\n",
        "test_df.head()"
      ],
      "metadata": {
        "colab": {
          "base_uri": "https://localhost:8080/",
          "height": 206
        },
        "id": "odTPu3Daf1pi",
        "outputId": "d2cbe1d6-8271-4ebe-e4f7-e5cd15fb40a0"
      },
      "execution_count": 163,
      "outputs": [
        {
          "output_type": "execute_result",
          "data": {
            "text/plain": [
              "    Id       RI     Na    Mg    Al     Si     K     Ca   Ba    Fe  Glass_Type\n",
              "0   68  1.52152  13.05  3.65  0.87  72.32  0.19   9.85  0.0  0.17           1\n",
              "1   69  1.52152  13.12  3.58  0.90  72.20  0.23   9.82  0.0  0.16           1\n",
              "2   70  1.52300  13.31  3.58  0.82  71.99  0.12  10.17  0.0  0.03           1\n",
              "3  144  1.51709  13.00  3.47  1.79  72.72  0.66   8.18  0.0  0.00           2\n",
              "4  145  1.51660  12.99  3.18  1.23  72.97  0.58   8.81  0.0  0.24           2"
            ],
            "text/html": [
              "\n",
              "  <div id=\"df-6b2de015-aff1-4cfe-a936-3505ef9c731b\">\n",
              "    <div class=\"colab-df-container\">\n",
              "      <div>\n",
              "<style scoped>\n",
              "    .dataframe tbody tr th:only-of-type {\n",
              "        vertical-align: middle;\n",
              "    }\n",
              "\n",
              "    .dataframe tbody tr th {\n",
              "        vertical-align: top;\n",
              "    }\n",
              "\n",
              "    .dataframe thead th {\n",
              "        text-align: right;\n",
              "    }\n",
              "</style>\n",
              "<table border=\"1\" class=\"dataframe\">\n",
              "  <thead>\n",
              "    <tr style=\"text-align: right;\">\n",
              "      <th></th>\n",
              "      <th>Id</th>\n",
              "      <th>RI</th>\n",
              "      <th>Na</th>\n",
              "      <th>Mg</th>\n",
              "      <th>Al</th>\n",
              "      <th>Si</th>\n",
              "      <th>K</th>\n",
              "      <th>Ca</th>\n",
              "      <th>Ba</th>\n",
              "      <th>Fe</th>\n",
              "      <th>Glass_Type</th>\n",
              "    </tr>\n",
              "  </thead>\n",
              "  <tbody>\n",
              "    <tr>\n",
              "      <th>0</th>\n",
              "      <td>68</td>\n",
              "      <td>1.52152</td>\n",
              "      <td>13.05</td>\n",
              "      <td>3.65</td>\n",
              "      <td>0.87</td>\n",
              "      <td>72.32</td>\n",
              "      <td>0.19</td>\n",
              "      <td>9.85</td>\n",
              "      <td>0.0</td>\n",
              "      <td>0.17</td>\n",
              "      <td>1</td>\n",
              "    </tr>\n",
              "    <tr>\n",
              "      <th>1</th>\n",
              "      <td>69</td>\n",
              "      <td>1.52152</td>\n",
              "      <td>13.12</td>\n",
              "      <td>3.58</td>\n",
              "      <td>0.90</td>\n",
              "      <td>72.20</td>\n",
              "      <td>0.23</td>\n",
              "      <td>9.82</td>\n",
              "      <td>0.0</td>\n",
              "      <td>0.16</td>\n",
              "      <td>1</td>\n",
              "    </tr>\n",
              "    <tr>\n",
              "      <th>2</th>\n",
              "      <td>70</td>\n",
              "      <td>1.52300</td>\n",
              "      <td>13.31</td>\n",
              "      <td>3.58</td>\n",
              "      <td>0.82</td>\n",
              "      <td>71.99</td>\n",
              "      <td>0.12</td>\n",
              "      <td>10.17</td>\n",
              "      <td>0.0</td>\n",
              "      <td>0.03</td>\n",
              "      <td>1</td>\n",
              "    </tr>\n",
              "    <tr>\n",
              "      <th>3</th>\n",
              "      <td>144</td>\n",
              "      <td>1.51709</td>\n",
              "      <td>13.00</td>\n",
              "      <td>3.47</td>\n",
              "      <td>1.79</td>\n",
              "      <td>72.72</td>\n",
              "      <td>0.66</td>\n",
              "      <td>8.18</td>\n",
              "      <td>0.0</td>\n",
              "      <td>0.00</td>\n",
              "      <td>2</td>\n",
              "    </tr>\n",
              "    <tr>\n",
              "      <th>4</th>\n",
              "      <td>145</td>\n",
              "      <td>1.51660</td>\n",
              "      <td>12.99</td>\n",
              "      <td>3.18</td>\n",
              "      <td>1.23</td>\n",
              "      <td>72.97</td>\n",
              "      <td>0.58</td>\n",
              "      <td>8.81</td>\n",
              "      <td>0.0</td>\n",
              "      <td>0.24</td>\n",
              "      <td>2</td>\n",
              "    </tr>\n",
              "  </tbody>\n",
              "</table>\n",
              "</div>\n",
              "      <button class=\"colab-df-convert\" onclick=\"convertToInteractive('df-6b2de015-aff1-4cfe-a936-3505ef9c731b')\"\n",
              "              title=\"Convert this dataframe to an interactive table.\"\n",
              "              style=\"display:none;\">\n",
              "        \n",
              "  <svg xmlns=\"http://www.w3.org/2000/svg\" height=\"24px\"viewBox=\"0 0 24 24\"\n",
              "       width=\"24px\">\n",
              "    <path d=\"M0 0h24v24H0V0z\" fill=\"none\"/>\n",
              "    <path d=\"M18.56 5.44l.94 2.06.94-2.06 2.06-.94-2.06-.94-.94-2.06-.94 2.06-2.06.94zm-11 1L8.5 8.5l.94-2.06 2.06-.94-2.06-.94L8.5 2.5l-.94 2.06-2.06.94zm10 10l.94 2.06.94-2.06 2.06-.94-2.06-.94-.94-2.06-.94 2.06-2.06.94z\"/><path d=\"M17.41 7.96l-1.37-1.37c-.4-.4-.92-.59-1.43-.59-.52 0-1.04.2-1.43.59L10.3 9.45l-7.72 7.72c-.78.78-.78 2.05 0 2.83L4 21.41c.39.39.9.59 1.41.59.51 0 1.02-.2 1.41-.59l7.78-7.78 2.81-2.81c.8-.78.8-2.07 0-2.86zM5.41 20L4 18.59l7.72-7.72 1.47 1.35L5.41 20z\"/>\n",
              "  </svg>\n",
              "      </button>\n",
              "      \n",
              "  <style>\n",
              "    .colab-df-container {\n",
              "      display:flex;\n",
              "      flex-wrap:wrap;\n",
              "      gap: 12px;\n",
              "    }\n",
              "\n",
              "    .colab-df-convert {\n",
              "      background-color: #E8F0FE;\n",
              "      border: none;\n",
              "      border-radius: 50%;\n",
              "      cursor: pointer;\n",
              "      display: none;\n",
              "      fill: #1967D2;\n",
              "      height: 32px;\n",
              "      padding: 0 0 0 0;\n",
              "      width: 32px;\n",
              "    }\n",
              "\n",
              "    .colab-df-convert:hover {\n",
              "      background-color: #E2EBFA;\n",
              "      box-shadow: 0px 1px 2px rgba(60, 64, 67, 0.3), 0px 1px 3px 1px rgba(60, 64, 67, 0.15);\n",
              "      fill: #174EA6;\n",
              "    }\n",
              "\n",
              "    [theme=dark] .colab-df-convert {\n",
              "      background-color: #3B4455;\n",
              "      fill: #D2E3FC;\n",
              "    }\n",
              "\n",
              "    [theme=dark] .colab-df-convert:hover {\n",
              "      background-color: #434B5C;\n",
              "      box-shadow: 0px 1px 3px 1px rgba(0, 0, 0, 0.15);\n",
              "      filter: drop-shadow(0px 1px 2px rgba(0, 0, 0, 0.3));\n",
              "      fill: #FFFFFF;\n",
              "    }\n",
              "  </style>\n",
              "\n",
              "      <script>\n",
              "        const buttonEl =\n",
              "          document.querySelector('#df-6b2de015-aff1-4cfe-a936-3505ef9c731b button.colab-df-convert');\n",
              "        buttonEl.style.display =\n",
              "          google.colab.kernel.accessAllowed ? 'block' : 'none';\n",
              "\n",
              "        async function convertToInteractive(key) {\n",
              "          const element = document.querySelector('#df-6b2de015-aff1-4cfe-a936-3505ef9c731b');\n",
              "          const dataTable =\n",
              "            await google.colab.kernel.invokeFunction('convertToInteractive',\n",
              "                                                     [key], {});\n",
              "          if (!dataTable) return;\n",
              "\n",
              "          const docLinkHtml = 'Like what you see? Visit the ' +\n",
              "            '<a target=\"_blank\" href=https://colab.research.google.com/notebooks/data_table.ipynb>data table notebook</a>'\n",
              "            + ' to learn more about interactive tables.';\n",
              "          element.innerHTML = '';\n",
              "          dataTable['output_type'] = 'display_data';\n",
              "          await google.colab.output.renderOutput(dataTable, element);\n",
              "          const docLink = document.createElement('div');\n",
              "          docLink.innerHTML = docLinkHtml;\n",
              "          element.appendChild(docLink);\n",
              "        }\n",
              "      </script>\n",
              "    </div>\n",
              "  </div>\n",
              "  "
            ]
          },
          "metadata": {},
          "execution_count": 163
        }
      ]
    },
    {
      "cell_type": "code",
      "source": [
        "# Checking the configuration of the DataFrames.\n",
        "print(f\"Training DataFrame has {train_df.shape[0]} rows & {train_df.shape[1]} columns.\")\n",
        "print(f\"Testing DataFrame has {test_df.shape[0]} rows & {test_df.shape[1]} columns.\")"
      ],
      "metadata": {
        "colab": {
          "base_uri": "https://localhost:8080/"
        },
        "id": "wsJCGrNGgDWA",
        "outputId": "05167864-9ed3-4e6a-ba11-35f7c6c761e8"
      },
      "execution_count": 164,
      "outputs": [
        {
          "output_type": "stream",
          "name": "stdout",
          "text": [
            "Training DataFrame has 196 rows & 11 columns.\n",
            "Testing DataFrame has 18 rows & 11 columns.\n"
          ]
        }
      ]
    },
    {
      "cell_type": "code",
      "source": [
        "# Checking for missing values in training DataFrame\n",
        "train_df.isnull().sum()"
      ],
      "metadata": {
        "colab": {
          "base_uri": "https://localhost:8080/"
        },
        "id": "ZOYL_14kgqfY",
        "outputId": "2a9e34f5-142a-4560-9658-06f224915a17"
      },
      "execution_count": 165,
      "outputs": [
        {
          "output_type": "execute_result",
          "data": {
            "text/plain": [
              "Id            0\n",
              "RI            0\n",
              "Na            0\n",
              "Mg            0\n",
              "Al            0\n",
              "Si            0\n",
              "K             0\n",
              "Ca            0\n",
              "Ba            0\n",
              "Fe            0\n",
              "Glass_Type    0\n",
              "dtype: int64"
            ]
          },
          "metadata": {},
          "execution_count": 165
        }
      ]
    },
    {
      "cell_type": "code",
      "source": [
        "# Checking for missing values in testing DataFrame\n",
        "test_df.isnull().sum()"
      ],
      "metadata": {
        "colab": {
          "base_uri": "https://localhost:8080/"
        },
        "id": "lPl0_2fGg6wa",
        "outputId": "f8771485-4551-4184-f7dc-af5fa1e750c2"
      },
      "execution_count": 166,
      "outputs": [
        {
          "output_type": "execute_result",
          "data": {
            "text/plain": [
              "Id            0\n",
              "RI            0\n",
              "Na            0\n",
              "Mg            0\n",
              "Al            0\n",
              "Si            0\n",
              "K             0\n",
              "Ca            0\n",
              "Ba            0\n",
              "Fe            0\n",
              "Glass_Type    0\n",
              "dtype: int64"
            ]
          },
          "metadata": {},
          "execution_count": 166
        }
      ]
    },
    {
      "cell_type": "code",
      "source": [
        "# Id column\tnot required for our analysis. So, we can remove them from both training and testing DataFrame.\n",
        "train_df.drop(\"Id\", axis=1, inplace=True)\n",
        "test_df.drop(\"Id\", axis=1, inplace=True)"
      ],
      "metadata": {
        "id": "hG-Lj4CIK_Ln"
      },
      "execution_count": 167,
      "outputs": []
    },
    {
      "cell_type": "code",
      "source": [
        "# Getting Information of the training DataFrame.\n",
        "train_df.info()"
      ],
      "metadata": {
        "id": "kJoWsLOOhARp",
        "colab": {
          "base_uri": "https://localhost:8080/"
        },
        "outputId": "e8420b77-9414-4db7-85e0-ba75a218ddf4"
      },
      "execution_count": 168,
      "outputs": [
        {
          "output_type": "stream",
          "name": "stdout",
          "text": [
            "<class 'pandas.core.frame.DataFrame'>\n",
            "RangeIndex: 196 entries, 0 to 195\n",
            "Data columns (total 10 columns):\n",
            " #   Column      Non-Null Count  Dtype  \n",
            "---  ------      --------------  -----  \n",
            " 0   RI          196 non-null    float64\n",
            " 1   Na          196 non-null    float64\n",
            " 2   Mg          196 non-null    float64\n",
            " 3   Al          196 non-null    float64\n",
            " 4   Si          196 non-null    float64\n",
            " 5   K           196 non-null    float64\n",
            " 6   Ca          196 non-null    float64\n",
            " 7   Ba          196 non-null    float64\n",
            " 8   Fe          196 non-null    float64\n",
            " 9   Glass_Type  196 non-null    int64  \n",
            "dtypes: float64(9), int64(1)\n",
            "memory usage: 15.4 KB\n"
          ]
        }
      ]
    },
    {
      "cell_type": "code",
      "source": [
        "# Getting Information of the testing DataFrame.\n",
        "test_df.info()"
      ],
      "metadata": {
        "colab": {
          "base_uri": "https://localhost:8080/"
        },
        "id": "4fXY5zotLrj-",
        "outputId": "7235089a-e6d3-46b4-ded1-236452a72e0a"
      },
      "execution_count": 169,
      "outputs": [
        {
          "output_type": "stream",
          "name": "stdout",
          "text": [
            "<class 'pandas.core.frame.DataFrame'>\n",
            "RangeIndex: 18 entries, 0 to 17\n",
            "Data columns (total 10 columns):\n",
            " #   Column      Non-Null Count  Dtype  \n",
            "---  ------      --------------  -----  \n",
            " 0   RI          18 non-null     float64\n",
            " 1   Na          18 non-null     float64\n",
            " 2   Mg          18 non-null     float64\n",
            " 3   Al          18 non-null     float64\n",
            " 4   Si          18 non-null     float64\n",
            " 5   K           18 non-null     float64\n",
            " 6   Ca          18 non-null     float64\n",
            " 7   Ba          18 non-null     float64\n",
            " 8   Fe          18 non-null     float64\n",
            " 9   Glass_Type  18 non-null     int64  \n",
            "dtypes: float64(9), int64(1)\n",
            "memory usage: 1.5 KB\n"
          ]
        }
      ]
    },
    {
      "cell_type": "code",
      "source": [
        "# Checking for duplicate rows in training DataFrame.\n",
        "train_df[train_df.duplicated()]"
      ],
      "metadata": {
        "colab": {
          "base_uri": "https://localhost:8080/",
          "height": 80
        },
        "id": "gV2aqzt2MMDw",
        "outputId": "4543716d-9932-4a57-d259-4a3f9a334289"
      },
      "execution_count": 170,
      "outputs": [
        {
          "output_type": "execute_result",
          "data": {
            "text/plain": [
              "         RI     Na    Mg    Al     Si     K    Ca   Ba   Fe  Glass_Type\n",
              "39  1.52213  14.21  3.82  0.47  71.77  0.11  9.57  0.0  0.0           1"
            ],
            "text/html": [
              "\n",
              "  <div id=\"df-20c8bb3d-6781-4c4e-9314-128af908f74a\">\n",
              "    <div class=\"colab-df-container\">\n",
              "      <div>\n",
              "<style scoped>\n",
              "    .dataframe tbody tr th:only-of-type {\n",
              "        vertical-align: middle;\n",
              "    }\n",
              "\n",
              "    .dataframe tbody tr th {\n",
              "        vertical-align: top;\n",
              "    }\n",
              "\n",
              "    .dataframe thead th {\n",
              "        text-align: right;\n",
              "    }\n",
              "</style>\n",
              "<table border=\"1\" class=\"dataframe\">\n",
              "  <thead>\n",
              "    <tr style=\"text-align: right;\">\n",
              "      <th></th>\n",
              "      <th>RI</th>\n",
              "      <th>Na</th>\n",
              "      <th>Mg</th>\n",
              "      <th>Al</th>\n",
              "      <th>Si</th>\n",
              "      <th>K</th>\n",
              "      <th>Ca</th>\n",
              "      <th>Ba</th>\n",
              "      <th>Fe</th>\n",
              "      <th>Glass_Type</th>\n",
              "    </tr>\n",
              "  </thead>\n",
              "  <tbody>\n",
              "    <tr>\n",
              "      <th>39</th>\n",
              "      <td>1.52213</td>\n",
              "      <td>14.21</td>\n",
              "      <td>3.82</td>\n",
              "      <td>0.47</td>\n",
              "      <td>71.77</td>\n",
              "      <td>0.11</td>\n",
              "      <td>9.57</td>\n",
              "      <td>0.0</td>\n",
              "      <td>0.0</td>\n",
              "      <td>1</td>\n",
              "    </tr>\n",
              "  </tbody>\n",
              "</table>\n",
              "</div>\n",
              "      <button class=\"colab-df-convert\" onclick=\"convertToInteractive('df-20c8bb3d-6781-4c4e-9314-128af908f74a')\"\n",
              "              title=\"Convert this dataframe to an interactive table.\"\n",
              "              style=\"display:none;\">\n",
              "        \n",
              "  <svg xmlns=\"http://www.w3.org/2000/svg\" height=\"24px\"viewBox=\"0 0 24 24\"\n",
              "       width=\"24px\">\n",
              "    <path d=\"M0 0h24v24H0V0z\" fill=\"none\"/>\n",
              "    <path d=\"M18.56 5.44l.94 2.06.94-2.06 2.06-.94-2.06-.94-.94-2.06-.94 2.06-2.06.94zm-11 1L8.5 8.5l.94-2.06 2.06-.94-2.06-.94L8.5 2.5l-.94 2.06-2.06.94zm10 10l.94 2.06.94-2.06 2.06-.94-2.06-.94-.94-2.06-.94 2.06-2.06.94z\"/><path d=\"M17.41 7.96l-1.37-1.37c-.4-.4-.92-.59-1.43-.59-.52 0-1.04.2-1.43.59L10.3 9.45l-7.72 7.72c-.78.78-.78 2.05 0 2.83L4 21.41c.39.39.9.59 1.41.59.51 0 1.02-.2 1.41-.59l7.78-7.78 2.81-2.81c.8-.78.8-2.07 0-2.86zM5.41 20L4 18.59l7.72-7.72 1.47 1.35L5.41 20z\"/>\n",
              "  </svg>\n",
              "      </button>\n",
              "      \n",
              "  <style>\n",
              "    .colab-df-container {\n",
              "      display:flex;\n",
              "      flex-wrap:wrap;\n",
              "      gap: 12px;\n",
              "    }\n",
              "\n",
              "    .colab-df-convert {\n",
              "      background-color: #E8F0FE;\n",
              "      border: none;\n",
              "      border-radius: 50%;\n",
              "      cursor: pointer;\n",
              "      display: none;\n",
              "      fill: #1967D2;\n",
              "      height: 32px;\n",
              "      padding: 0 0 0 0;\n",
              "      width: 32px;\n",
              "    }\n",
              "\n",
              "    .colab-df-convert:hover {\n",
              "      background-color: #E2EBFA;\n",
              "      box-shadow: 0px 1px 2px rgba(60, 64, 67, 0.3), 0px 1px 3px 1px rgba(60, 64, 67, 0.15);\n",
              "      fill: #174EA6;\n",
              "    }\n",
              "\n",
              "    [theme=dark] .colab-df-convert {\n",
              "      background-color: #3B4455;\n",
              "      fill: #D2E3FC;\n",
              "    }\n",
              "\n",
              "    [theme=dark] .colab-df-convert:hover {\n",
              "      background-color: #434B5C;\n",
              "      box-shadow: 0px 1px 3px 1px rgba(0, 0, 0, 0.15);\n",
              "      filter: drop-shadow(0px 1px 2px rgba(0, 0, 0, 0.3));\n",
              "      fill: #FFFFFF;\n",
              "    }\n",
              "  </style>\n",
              "\n",
              "      <script>\n",
              "        const buttonEl =\n",
              "          document.querySelector('#df-20c8bb3d-6781-4c4e-9314-128af908f74a button.colab-df-convert');\n",
              "        buttonEl.style.display =\n",
              "          google.colab.kernel.accessAllowed ? 'block' : 'none';\n",
              "\n",
              "        async function convertToInteractive(key) {\n",
              "          const element = document.querySelector('#df-20c8bb3d-6781-4c4e-9314-128af908f74a');\n",
              "          const dataTable =\n",
              "            await google.colab.kernel.invokeFunction('convertToInteractive',\n",
              "                                                     [key], {});\n",
              "          if (!dataTable) return;\n",
              "\n",
              "          const docLinkHtml = 'Like what you see? Visit the ' +\n",
              "            '<a target=\"_blank\" href=https://colab.research.google.com/notebooks/data_table.ipynb>data table notebook</a>'\n",
              "            + ' to learn more about interactive tables.';\n",
              "          element.innerHTML = '';\n",
              "          dataTable['output_type'] = 'display_data';\n",
              "          await google.colab.output.renderOutput(dataTable, element);\n",
              "          const docLink = document.createElement('div');\n",
              "          docLink.innerHTML = docLinkHtml;\n",
              "          element.appendChild(docLink);\n",
              "        }\n",
              "      </script>\n",
              "    </div>\n",
              "  </div>\n",
              "  "
            ]
          },
          "metadata": {},
          "execution_count": 170
        }
      ]
    },
    {
      "cell_type": "code",
      "source": [
        "# Checking for duplicate rows in testing DataFrame.\n",
        "test_df[test_df.duplicated()]"
      ],
      "metadata": {
        "colab": {
          "base_uri": "https://localhost:8080/",
          "height": 49
        },
        "id": "gyDiwid7MR_-",
        "outputId": "46d68dd3-486a-4df5-92ca-7d6456e0c610"
      },
      "execution_count": 171,
      "outputs": [
        {
          "output_type": "execute_result",
          "data": {
            "text/plain": [
              "Empty DataFrame\n",
              "Columns: [RI, Na, Mg, Al, Si, K, Ca, Ba, Fe, Glass_Type]\n",
              "Index: []"
            ],
            "text/html": [
              "\n",
              "  <div id=\"df-197fd0b9-715a-4e7e-81e6-6af4ae233637\">\n",
              "    <div class=\"colab-df-container\">\n",
              "      <div>\n",
              "<style scoped>\n",
              "    .dataframe tbody tr th:only-of-type {\n",
              "        vertical-align: middle;\n",
              "    }\n",
              "\n",
              "    .dataframe tbody tr th {\n",
              "        vertical-align: top;\n",
              "    }\n",
              "\n",
              "    .dataframe thead th {\n",
              "        text-align: right;\n",
              "    }\n",
              "</style>\n",
              "<table border=\"1\" class=\"dataframe\">\n",
              "  <thead>\n",
              "    <tr style=\"text-align: right;\">\n",
              "      <th></th>\n",
              "      <th>RI</th>\n",
              "      <th>Na</th>\n",
              "      <th>Mg</th>\n",
              "      <th>Al</th>\n",
              "      <th>Si</th>\n",
              "      <th>K</th>\n",
              "      <th>Ca</th>\n",
              "      <th>Ba</th>\n",
              "      <th>Fe</th>\n",
              "      <th>Glass_Type</th>\n",
              "    </tr>\n",
              "  </thead>\n",
              "  <tbody>\n",
              "  </tbody>\n",
              "</table>\n",
              "</div>\n",
              "      <button class=\"colab-df-convert\" onclick=\"convertToInteractive('df-197fd0b9-715a-4e7e-81e6-6af4ae233637')\"\n",
              "              title=\"Convert this dataframe to an interactive table.\"\n",
              "              style=\"display:none;\">\n",
              "        \n",
              "  <svg xmlns=\"http://www.w3.org/2000/svg\" height=\"24px\"viewBox=\"0 0 24 24\"\n",
              "       width=\"24px\">\n",
              "    <path d=\"M0 0h24v24H0V0z\" fill=\"none\"/>\n",
              "    <path d=\"M18.56 5.44l.94 2.06.94-2.06 2.06-.94-2.06-.94-.94-2.06-.94 2.06-2.06.94zm-11 1L8.5 8.5l.94-2.06 2.06-.94-2.06-.94L8.5 2.5l-.94 2.06-2.06.94zm10 10l.94 2.06.94-2.06 2.06-.94-2.06-.94-.94-2.06-.94 2.06-2.06.94z\"/><path d=\"M17.41 7.96l-1.37-1.37c-.4-.4-.92-.59-1.43-.59-.52 0-1.04.2-1.43.59L10.3 9.45l-7.72 7.72c-.78.78-.78 2.05 0 2.83L4 21.41c.39.39.9.59 1.41.59.51 0 1.02-.2 1.41-.59l7.78-7.78 2.81-2.81c.8-.78.8-2.07 0-2.86zM5.41 20L4 18.59l7.72-7.72 1.47 1.35L5.41 20z\"/>\n",
              "  </svg>\n",
              "      </button>\n",
              "      \n",
              "  <style>\n",
              "    .colab-df-container {\n",
              "      display:flex;\n",
              "      flex-wrap:wrap;\n",
              "      gap: 12px;\n",
              "    }\n",
              "\n",
              "    .colab-df-convert {\n",
              "      background-color: #E8F0FE;\n",
              "      border: none;\n",
              "      border-radius: 50%;\n",
              "      cursor: pointer;\n",
              "      display: none;\n",
              "      fill: #1967D2;\n",
              "      height: 32px;\n",
              "      padding: 0 0 0 0;\n",
              "      width: 32px;\n",
              "    }\n",
              "\n",
              "    .colab-df-convert:hover {\n",
              "      background-color: #E2EBFA;\n",
              "      box-shadow: 0px 1px 2px rgba(60, 64, 67, 0.3), 0px 1px 3px 1px rgba(60, 64, 67, 0.15);\n",
              "      fill: #174EA6;\n",
              "    }\n",
              "\n",
              "    [theme=dark] .colab-df-convert {\n",
              "      background-color: #3B4455;\n",
              "      fill: #D2E3FC;\n",
              "    }\n",
              "\n",
              "    [theme=dark] .colab-df-convert:hover {\n",
              "      background-color: #434B5C;\n",
              "      box-shadow: 0px 1px 3px 1px rgba(0, 0, 0, 0.15);\n",
              "      filter: drop-shadow(0px 1px 2px rgba(0, 0, 0, 0.3));\n",
              "      fill: #FFFFFF;\n",
              "    }\n",
              "  </style>\n",
              "\n",
              "      <script>\n",
              "        const buttonEl =\n",
              "          document.querySelector('#df-197fd0b9-715a-4e7e-81e6-6af4ae233637 button.colab-df-convert');\n",
              "        buttonEl.style.display =\n",
              "          google.colab.kernel.accessAllowed ? 'block' : 'none';\n",
              "\n",
              "        async function convertToInteractive(key) {\n",
              "          const element = document.querySelector('#df-197fd0b9-715a-4e7e-81e6-6af4ae233637');\n",
              "          const dataTable =\n",
              "            await google.colab.kernel.invokeFunction('convertToInteractive',\n",
              "                                                     [key], {});\n",
              "          if (!dataTable) return;\n",
              "\n",
              "          const docLinkHtml = 'Like what you see? Visit the ' +\n",
              "            '<a target=\"_blank\" href=https://colab.research.google.com/notebooks/data_table.ipynb>data table notebook</a>'\n",
              "            + ' to learn more about interactive tables.';\n",
              "          element.innerHTML = '';\n",
              "          dataTable['output_type'] = 'display_data';\n",
              "          await google.colab.output.renderOutput(dataTable, element);\n",
              "          const docLink = document.createElement('div');\n",
              "          docLink.innerHTML = docLinkHtml;\n",
              "          element.appendChild(docLink);\n",
              "        }\n",
              "      </script>\n",
              "    </div>\n",
              "  </div>\n",
              "  "
            ]
          },
          "metadata": {},
          "execution_count": 171
        }
      ]
    },
    {
      "cell_type": "code",
      "source": [
        "# Removing the duplicate row from the training DataFrame.\n",
        "train_df.drop_duplicates(keep='last',inplace=True)"
      ],
      "metadata": {
        "id": "9zrl1gCBM3dk"
      },
      "execution_count": 172,
      "outputs": []
    },
    {
      "cell_type": "code",
      "source": [
        "# Checking the configuration of the DataFrames.\n",
        "print(f\"Training DataFrame has {train_df.shape[0]} rows & {train_df.shape[1]} columns.\")\n",
        "print(f\"Testing DataFrame has {test_df.shape[0]} rows & {test_df.shape[1]} columns.\")"
      ],
      "metadata": {
        "colab": {
          "base_uri": "https://localhost:8080/"
        },
        "id": "KNuDkAjeNEav",
        "outputId": "9ef7bfd5-e3fa-49fa-8db2-d9f4d7431057"
      },
      "execution_count": 173,
      "outputs": [
        {
          "output_type": "stream",
          "name": "stdout",
          "text": [
            "Training DataFrame has 195 rows & 10 columns.\n",
            "Testing DataFrame has 18 rows & 10 columns.\n"
          ]
        }
      ]
    },
    {
      "cell_type": "code",
      "source": [
        "# Concatenating the training and testing DataFrame into single DataFrame df.\n",
        "df = pd.concat([train_df, test_df])\n",
        "df.tail()"
      ],
      "metadata": {
        "colab": {
          "base_uri": "https://localhost:8080/",
          "height": 206
        },
        "id": "bYzsNeNCSbw3",
        "outputId": "ad4316b6-1bb6-428d-c59f-3e1fb671d2b5"
      },
      "execution_count": 174,
      "outputs": [
        {
          "output_type": "execute_result",
          "data": {
            "text/plain": [
              "         RI     Na   Mg    Al     Si    K     Ca    Ba   Fe  Glass_Type\n",
              "13  1.51969  14.56  0.0  0.56  73.48  0.0  11.22  0.00  0.0           6\n",
              "14  1.51115  17.38  0.0  0.34  75.41  0.0   6.65  0.00  0.0           6\n",
              "15  1.52065  14.36  0.0  2.02  73.42  0.0   8.44  1.64  0.0           7\n",
              "16  1.51651  14.38  0.0  1.94  73.61  0.0   8.48  1.57  0.0           7\n",
              "17  1.51711  14.23  0.0  2.08  73.36  0.0   8.62  1.67  0.0           7"
            ],
            "text/html": [
              "\n",
              "  <div id=\"df-62eac981-3f40-46ff-ba9d-f73206f785a2\">\n",
              "    <div class=\"colab-df-container\">\n",
              "      <div>\n",
              "<style scoped>\n",
              "    .dataframe tbody tr th:only-of-type {\n",
              "        vertical-align: middle;\n",
              "    }\n",
              "\n",
              "    .dataframe tbody tr th {\n",
              "        vertical-align: top;\n",
              "    }\n",
              "\n",
              "    .dataframe thead th {\n",
              "        text-align: right;\n",
              "    }\n",
              "</style>\n",
              "<table border=\"1\" class=\"dataframe\">\n",
              "  <thead>\n",
              "    <tr style=\"text-align: right;\">\n",
              "      <th></th>\n",
              "      <th>RI</th>\n",
              "      <th>Na</th>\n",
              "      <th>Mg</th>\n",
              "      <th>Al</th>\n",
              "      <th>Si</th>\n",
              "      <th>K</th>\n",
              "      <th>Ca</th>\n",
              "      <th>Ba</th>\n",
              "      <th>Fe</th>\n",
              "      <th>Glass_Type</th>\n",
              "    </tr>\n",
              "  </thead>\n",
              "  <tbody>\n",
              "    <tr>\n",
              "      <th>13</th>\n",
              "      <td>1.51969</td>\n",
              "      <td>14.56</td>\n",
              "      <td>0.0</td>\n",
              "      <td>0.56</td>\n",
              "      <td>73.48</td>\n",
              "      <td>0.0</td>\n",
              "      <td>11.22</td>\n",
              "      <td>0.00</td>\n",
              "      <td>0.0</td>\n",
              "      <td>6</td>\n",
              "    </tr>\n",
              "    <tr>\n",
              "      <th>14</th>\n",
              "      <td>1.51115</td>\n",
              "      <td>17.38</td>\n",
              "      <td>0.0</td>\n",
              "      <td>0.34</td>\n",
              "      <td>75.41</td>\n",
              "      <td>0.0</td>\n",
              "      <td>6.65</td>\n",
              "      <td>0.00</td>\n",
              "      <td>0.0</td>\n",
              "      <td>6</td>\n",
              "    </tr>\n",
              "    <tr>\n",
              "      <th>15</th>\n",
              "      <td>1.52065</td>\n",
              "      <td>14.36</td>\n",
              "      <td>0.0</td>\n",
              "      <td>2.02</td>\n",
              "      <td>73.42</td>\n",
              "      <td>0.0</td>\n",
              "      <td>8.44</td>\n",
              "      <td>1.64</td>\n",
              "      <td>0.0</td>\n",
              "      <td>7</td>\n",
              "    </tr>\n",
              "    <tr>\n",
              "      <th>16</th>\n",
              "      <td>1.51651</td>\n",
              "      <td>14.38</td>\n",
              "      <td>0.0</td>\n",
              "      <td>1.94</td>\n",
              "      <td>73.61</td>\n",
              "      <td>0.0</td>\n",
              "      <td>8.48</td>\n",
              "      <td>1.57</td>\n",
              "      <td>0.0</td>\n",
              "      <td>7</td>\n",
              "    </tr>\n",
              "    <tr>\n",
              "      <th>17</th>\n",
              "      <td>1.51711</td>\n",
              "      <td>14.23</td>\n",
              "      <td>0.0</td>\n",
              "      <td>2.08</td>\n",
              "      <td>73.36</td>\n",
              "      <td>0.0</td>\n",
              "      <td>8.62</td>\n",
              "      <td>1.67</td>\n",
              "      <td>0.0</td>\n",
              "      <td>7</td>\n",
              "    </tr>\n",
              "  </tbody>\n",
              "</table>\n",
              "</div>\n",
              "      <button class=\"colab-df-convert\" onclick=\"convertToInteractive('df-62eac981-3f40-46ff-ba9d-f73206f785a2')\"\n",
              "              title=\"Convert this dataframe to an interactive table.\"\n",
              "              style=\"display:none;\">\n",
              "        \n",
              "  <svg xmlns=\"http://www.w3.org/2000/svg\" height=\"24px\"viewBox=\"0 0 24 24\"\n",
              "       width=\"24px\">\n",
              "    <path d=\"M0 0h24v24H0V0z\" fill=\"none\"/>\n",
              "    <path d=\"M18.56 5.44l.94 2.06.94-2.06 2.06-.94-2.06-.94-.94-2.06-.94 2.06-2.06.94zm-11 1L8.5 8.5l.94-2.06 2.06-.94-2.06-.94L8.5 2.5l-.94 2.06-2.06.94zm10 10l.94 2.06.94-2.06 2.06-.94-2.06-.94-.94-2.06-.94 2.06-2.06.94z\"/><path d=\"M17.41 7.96l-1.37-1.37c-.4-.4-.92-.59-1.43-.59-.52 0-1.04.2-1.43.59L10.3 9.45l-7.72 7.72c-.78.78-.78 2.05 0 2.83L4 21.41c.39.39.9.59 1.41.59.51 0 1.02-.2 1.41-.59l7.78-7.78 2.81-2.81c.8-.78.8-2.07 0-2.86zM5.41 20L4 18.59l7.72-7.72 1.47 1.35L5.41 20z\"/>\n",
              "  </svg>\n",
              "      </button>\n",
              "      \n",
              "  <style>\n",
              "    .colab-df-container {\n",
              "      display:flex;\n",
              "      flex-wrap:wrap;\n",
              "      gap: 12px;\n",
              "    }\n",
              "\n",
              "    .colab-df-convert {\n",
              "      background-color: #E8F0FE;\n",
              "      border: none;\n",
              "      border-radius: 50%;\n",
              "      cursor: pointer;\n",
              "      display: none;\n",
              "      fill: #1967D2;\n",
              "      height: 32px;\n",
              "      padding: 0 0 0 0;\n",
              "      width: 32px;\n",
              "    }\n",
              "\n",
              "    .colab-df-convert:hover {\n",
              "      background-color: #E2EBFA;\n",
              "      box-shadow: 0px 1px 2px rgba(60, 64, 67, 0.3), 0px 1px 3px 1px rgba(60, 64, 67, 0.15);\n",
              "      fill: #174EA6;\n",
              "    }\n",
              "\n",
              "    [theme=dark] .colab-df-convert {\n",
              "      background-color: #3B4455;\n",
              "      fill: #D2E3FC;\n",
              "    }\n",
              "\n",
              "    [theme=dark] .colab-df-convert:hover {\n",
              "      background-color: #434B5C;\n",
              "      box-shadow: 0px 1px 3px 1px rgba(0, 0, 0, 0.15);\n",
              "      filter: drop-shadow(0px 1px 2px rgba(0, 0, 0, 0.3));\n",
              "      fill: #FFFFFF;\n",
              "    }\n",
              "  </style>\n",
              "\n",
              "      <script>\n",
              "        const buttonEl =\n",
              "          document.querySelector('#df-62eac981-3f40-46ff-ba9d-f73206f785a2 button.colab-df-convert');\n",
              "        buttonEl.style.display =\n",
              "          google.colab.kernel.accessAllowed ? 'block' : 'none';\n",
              "\n",
              "        async function convertToInteractive(key) {\n",
              "          const element = document.querySelector('#df-62eac981-3f40-46ff-ba9d-f73206f785a2');\n",
              "          const dataTable =\n",
              "            await google.colab.kernel.invokeFunction('convertToInteractive',\n",
              "                                                     [key], {});\n",
              "          if (!dataTable) return;\n",
              "\n",
              "          const docLinkHtml = 'Like what you see? Visit the ' +\n",
              "            '<a target=\"_blank\" href=https://colab.research.google.com/notebooks/data_table.ipynb>data table notebook</a>'\n",
              "            + ' to learn more about interactive tables.';\n",
              "          element.innerHTML = '';\n",
              "          dataTable['output_type'] = 'display_data';\n",
              "          await google.colab.output.renderOutput(dataTable, element);\n",
              "          const docLink = document.createElement('div');\n",
              "          docLink.innerHTML = docLinkHtml;\n",
              "          element.appendChild(docLink);\n",
              "        }\n",
              "      </script>\n",
              "    </div>\n",
              "  </div>\n",
              "  "
            ]
          },
          "metadata": {},
          "execution_count": 174
        }
      ]
    },
    {
      "cell_type": "code",
      "source": [
        "# Count of the target variable\n",
        "cp=sns.countplot(x='Glass_Type', data=df, palette= 'YlGnBu' )\n",
        "for i in cp.patches:\n",
        "  cp.annotate(str(i.get_height()),xy=(i.get_x() + i.get_width() / 2, i.get_height()),\n",
        "              ha='center', va='bottom')\n",
        "plt.show()"
      ],
      "metadata": {
        "colab": {
          "base_uri": "https://localhost:8080/",
          "height": 280
        },
        "id": "Oc7Z4d6dS6ev",
        "outputId": "81b98b7d-abd3-4a8a-91b9-1e1ac60f217e"
      },
      "execution_count": 175,
      "outputs": [
        {
          "output_type": "display_data",
          "data": {
            "text/plain": [
              "<Figure size 432x288 with 1 Axes>"
            ],
            "image/png": "[encoded data removed]"
          },
          "metadata": {
            "needs_background": "light"
          }
        }
      ]
    },
    {
      "cell_type": "code",
      "source": [
        "# Count of values present in target column of training DataFrame.\n",
        "target_count = Counter(train_df.Glass_Type)\n",
        "target_count"
      ],
      "metadata": {
        "colab": {
          "base_uri": "https://localhost:8080/"
        },
        "id": "9CUtmZgNP0qy",
        "outputId": "84144829-8618-409e-dcf5-ed743d79b483"
      },
      "execution_count": 176,
      "outputs": [
        {
          "output_type": "execute_result",
          "data": {
            "text/plain": [
              "Counter({1: 66, 2: 73, 3: 14, 5: 10, 6: 6, 7: 26})"
            ]
          },
          "metadata": {},
          "execution_count": 176
        }
      ]
    },
    {
      "cell_type": "code",
      "source": [
        "# Count of values present in target column of testing DataFrame.\n",
        "test_count =  Counter(test_df.Glass_Type)\n",
        "test_count"
      ],
      "metadata": {
        "colab": {
          "base_uri": "https://localhost:8080/"
        },
        "id": "9gTEpqj3Qy0s",
        "outputId": "79835f6e-6e84-4b20-c950-26c1f7bdffb9"
      },
      "execution_count": 177,
      "outputs": [
        {
          "output_type": "execute_result",
          "data": {
            "text/plain": [
              "Counter({1: 3, 2: 3, 3: 3, 5: 3, 6: 3, 7: 3})"
            ]
          },
          "metadata": {},
          "execution_count": 177
        }
      ]
    },
    {
      "cell_type": "code",
      "source": [
        "# Seperating the Feature and Target Variables.\n",
        "X_train = train_df.drop('Glass_Type',axis=1)\n",
        "y_train = train_df[\"Glass_Type\"]\n",
        "X_test = test_df.drop('Glass_Type',axis=1)\n",
        "y_test = test_df[\"Glass_Type\"]"
      ],
      "metadata": {
        "id": "w3zUe-rGPBi_"
      },
      "execution_count": 178,
      "outputs": []
    },
    {
      "cell_type": "code",
      "source": [
        "# Over-sampling using SMOTE and cleaning using Tomek links.\n",
        "smt = SMOTETomek(sampling_strategy='all',random_state=42)\n",
        "X_train_res, y_train_res = smt.fit_resample(X_train, y_train)\n",
        "print(f'Resampled dataset shape:\\n{Counter(y_train_res)}')"
      ],
      "metadata": {
        "colab": {
          "base_uri": "https://localhost:8080/"
        },
        "id": "Rhp7tME8n2Dt",
        "outputId": "50959c51-7cc9-41c2-beb8-5e62353ced23"
      },
      "execution_count": 179,
      "outputs": [
        {
          "output_type": "stream",
          "name": "stdout",
          "text": [
            "Resampled dataset shape:\n",
            "Counter({5: 73, 6: 73, 7: 73, 3: 70, 2: 68, 1: 67})\n"
          ]
        }
      ]
    },
    {
      "cell_type": "code",
      "source": [
        "# Standardize features\n",
        "scaler = StandardScaler()\n",
        "X_train_res = scaler.fit_transform(X_train_res)\n",
        "X_test = scaler.transform(X_test)"
      ],
      "metadata": {
        "id": "KbB1oRQCP6g-"
      },
      "execution_count": 180,
      "outputs": []
    },
    {
      "cell_type": "code",
      "source": [
        "# User-defined function for KNN Classifier.\n",
        "def knn_neighbours(n, p1):\n",
        "    knn = KNeighborsClassifier(n_neighbors=n, p=p1) \n",
        "\n",
        "    # Train the model using the training sets\n",
        "    knn.fit(X_train_res, y_train_res)\n",
        "\n",
        "    # Predict the response for test dataset\n",
        "    y_pred = knn.predict(X_test)\n",
        "\n",
        "    return accuracy_score(y_test, y_pred)"
      ],
      "metadata": {
        "id": "Yo375R5veksX"
      },
      "execution_count": 181,
      "outputs": []
    },
    {
      "cell_type": "code",
      "source": [
        "# Accuracy scores for different number of neighbours for KNN Classifier with manhattan distance.\n",
        "manhattan_dist = [knn_neighbours(i, 1) for i in range(3,14,2)]\n",
        "print(\"Manhattan Distance:\\n\")\n",
        "neighb = np.arange(3,14,2)\n",
        "for k,j in zip(neighb,manhattan_dist):\n",
        "  print(f\"\\tFor {k} neighbours, accuracy score = {j:.4f}\")"
      ],
      "metadata": {
        "colab": {
          "base_uri": "https://localhost:8080/"
        },
        "id": "yJJj9KKFfNpH",
        "outputId": "928d5959-2f4b-4289-c4de-f32ed0847420"
      },
      "execution_count": 182,
      "outputs": [
        {
          "output_type": "stream",
          "name": "stdout",
          "text": [
            "Manhattan Distance:\n",
            "\n",
            "\tFor 3 neighbours, accuracy score = 0.6667\n",
            "\tFor 5 neighbours, accuracy score = 0.6667\n",
            "\tFor 7 neighbours, accuracy score = 0.6667\n",
            "\tFor 9 neighbours, accuracy score = 0.7222\n",
            "\tFor 11 neighbours, accuracy score = 0.6111\n",
            "\tFor 13 neighbours, accuracy score = 0.6667\n"
          ]
        }
      ]
    },
    {
      "cell_type": "code",
      "source": [
        "# Accuracy scores for different number of neighbours for KNN Classifier with euclidean distance.\n",
        "euclidean_dist = [knn_neighbours(i, 2) for i in range(3,14,2)]\n",
        "print(\"Euclidean Distance:\\n\")\n",
        "for k,j in zip(neighb,euclidean_dist):\n",
        "  print(f\"\\tFor {k} neighbours, accuracy score = {j:.4f}\")"
      ],
      "metadata": {
        "colab": {
          "base_uri": "https://localhost:8080/"
        },
        "id": "0ZynUhhUfr8u",
        "outputId": "228185fa-8500-4a3b-dd7d-981c9667d0e3"
      },
      "execution_count": 183,
      "outputs": [
        {
          "output_type": "stream",
          "name": "stdout",
          "text": [
            "Euclidean Distance:\n",
            "\n",
            "\tFor 3 neighbours, accuracy score = 0.6667\n",
            "\tFor 5 neighbours, accuracy score = 0.7222\n",
            "\tFor 7 neighbours, accuracy score = 0.7222\n",
            "\tFor 9 neighbours, accuracy score = 0.7222\n",
            "\tFor 11 neighbours, accuracy score = 0.7222\n",
            "\tFor 13 neighbours, accuracy score = 0.6111\n"
          ]
        }
      ]
    },
    {
      "cell_type": "markdown",
      "source": [
        "\n",
        "\n",
        "---\n",
        "\n",
        "\n",
        "Maximum accuracy for KNN Classifier with Manhattan distance is achieved at number of neighbors=9. \n",
        "\n",
        "Maximum accuracy for KNN Classifier with Euclidean distance is achieved at number of neighbors=5,7,9,11.\n",
        "\n",
        "We shall take the common n_neighbors value for which accuracy is maximum.\n",
        "\n",
        "\n",
        "---\n",
        "\n"
      ],
      "metadata": {
        "id": "8DF9SjGOqtgY"
      }
    },
    {
      "cell_type": "code",
      "source": [
        "# Create KNN Classifier with manhattan distance (for n_neighbors=9).\n",
        "knn1 = KNeighborsClassifier(n_neighbors=9, p=1) # p=1 for manhattan distance\n",
        "\n",
        "# Train the model using the training sets\n",
        "knn1.fit(X_train_res, y_train_res)\n",
        "\n",
        "# Predict the response for test dataset\n",
        "y_pred1 = knn1.predict(X_test)"
      ],
      "metadata": {
        "id": "vLoWV-jvqo_5"
      },
      "execution_count": 184,
      "outputs": []
    },
    {
      "cell_type": "code",
      "source": [
        "# Create KNN Classifier with euclidean distance (for n_neighbors=9).\n",
        "knn2 = KNeighborsClassifier(n_neighbors=9, p=2) # p=2 for euclidean distance\n",
        "\n",
        "# Train the model using the training sets\n",
        "knn2.fit(X_train_res, y_train_res)\n",
        "\n",
        "# Predict the response for test dataset\n",
        "y_pred2 = knn2.predict(X_test)"
      ],
      "metadata": {
        "id": "Ga4r4o7-pS0K"
      },
      "execution_count": 185,
      "outputs": []
    },
    {
      "cell_type": "code",
      "source": [
        "# Confusion Matrix for KNN Classifier with manhattan distance(for n_neighbors=9).\n",
        "confusion_matrix(y_test, y_pred1)"
      ],
      "metadata": {
        "colab": {
          "base_uri": "https://localhost:8080/"
        },
        "id": "k6GkyAnmrM3G",
        "outputId": "553a87a4-23a6-4803-bbb5-a2f652f39068"
      },
      "execution_count": 186,
      "outputs": [
        {
          "output_type": "execute_result",
          "data": {
            "text/plain": [
              "array([[3, 0, 0, 0, 0, 0],\n",
              "       [1, 2, 0, 0, 0, 0],\n",
              "       [1, 1, 1, 0, 0, 0],\n",
              "       [0, 1, 0, 2, 0, 0],\n",
              "       [0, 0, 0, 1, 2, 0],\n",
              "       [0, 0, 0, 0, 0, 3]])"
            ]
          },
          "metadata": {},
          "execution_count": 186
        }
      ]
    },
    {
      "cell_type": "code",
      "source": [
        "# Confusion Matrix for KNN Classifier with euclidean distance(for n_neighbors=9).\n",
        "confusion_matrix(y_test, y_pred2)"
      ],
      "metadata": {
        "colab": {
          "base_uri": "https://localhost:8080/"
        },
        "id": "gU5YILexrvqV",
        "outputId": "90a5b77c-bdbb-4fb4-959c-1908652563a5"
      },
      "execution_count": 187,
      "outputs": [
        {
          "output_type": "execute_result",
          "data": {
            "text/plain": [
              "array([[3, 0, 0, 0, 0, 0],\n",
              "       [1, 2, 0, 0, 0, 0],\n",
              "       [0, 2, 1, 0, 0, 0],\n",
              "       [0, 2, 0, 1, 0, 0],\n",
              "       [0, 0, 0, 0, 3, 0],\n",
              "       [0, 0, 0, 0, 0, 3]])"
            ]
          },
          "metadata": {},
          "execution_count": 187
        }
      ]
    },
    {
      "cell_type": "code",
      "source": [
        "# Classification Report for KNN Classifier with manhattan distance(for n_neighbors=9).\n",
        "print(classification_report(y_test, y_pred1))"
      ],
      "metadata": {
        "colab": {
          "base_uri": "https://localhost:8080/"
        },
        "id": "J_CupT_yr9Ke",
        "outputId": "c94305a1-f715-44e8-83f8-0fc8bd68cc65"
      },
      "execution_count": 188,
      "outputs": [
        {
          "output_type": "stream",
          "name": "stdout",
          "text": [
            "              precision    recall  f1-score   support\n",
            "\n",
            "           1       0.60      1.00      0.75         3\n",
            "           2       0.50      0.67      0.57         3\n",
            "           3       1.00      0.33      0.50         3\n",
            "           5       0.67      0.67      0.67         3\n",
            "           6       1.00      0.67      0.80         3\n",
            "           7       1.00      1.00      1.00         3\n",
            "\n",
            "    accuracy                           0.72        18\n",
            "   macro avg       0.79      0.72      0.71        18\n",
            "weighted avg       0.79      0.72      0.71        18\n",
            "\n"
          ]
        }
      ]
    },
    {
      "cell_type": "code",
      "source": [
        "# Classification Report for KNN Classifier with euclidean distance(for n_neighbors=9).\n",
        "print(classification_report(y_test, y_pred2))"
      ],
      "metadata": {
        "colab": {
          "base_uri": "https://localhost:8080/"
        },
        "id": "JfdF5HFssDo_",
        "outputId": "2302754c-a983-4205-cc29-f4c76d4c2d7f"
      },
      "execution_count": 189,
      "outputs": [
        {
          "output_type": "stream",
          "name": "stdout",
          "text": [
            "              precision    recall  f1-score   support\n",
            "\n",
            "           1       0.75      1.00      0.86         3\n",
            "           2       0.33      0.67      0.44         3\n",
            "           3       1.00      0.33      0.50         3\n",
            "           5       1.00      0.33      0.50         3\n",
            "           6       1.00      1.00      1.00         3\n",
            "           7       1.00      1.00      1.00         3\n",
            "\n",
            "    accuracy                           0.72        18\n",
            "   macro avg       0.85      0.72      0.72        18\n",
            "weighted avg       0.85      0.72      0.72        18\n",
            "\n"
          ]
        }
      ]
    },
    {
      "cell_type": "code",
      "source": [
        "# Accuracy for KNN Classifier with manhattan distance(for n_neighbors=9).\n",
        "accuracy1 = accuracy_score(y_test, y_pred1)\n",
        "print(\"Accuracy: %.2f%%\" % (accuracy1 * 100.0))"
      ],
      "metadata": {
        "colab": {
          "base_uri": "https://localhost:8080/"
        },
        "id": "Nd_al4Jw4IFQ",
        "outputId": "2b678429-21cc-42b1-fe8d-f414585ee4ba"
      },
      "execution_count": 190,
      "outputs": [
        {
          "output_type": "stream",
          "name": "stdout",
          "text": [
            "Accuracy: 72.22%\n"
          ]
        }
      ]
    },
    {
      "cell_type": "code",
      "source": [
        "# Accuracy for KNN Classifier with euclidean distance(for n_neighbors=9).\n",
        "accuracy2 = accuracy_score(y_test, y_pred2)\n",
        "print(\"Accuracy: %.2f%%\" % (accuracy2 * 100.0))"
      ],
      "metadata": {
        "colab": {
          "base_uri": "https://localhost:8080/"
        },
        "id": "lB49JyLG4TEH",
        "outputId": "504c8109-d45f-44e1-98de-3ff25dc2ec38"
      },
      "execution_count": 191,
      "outputs": [
        {
          "output_type": "stream",
          "name": "stdout",
          "text": [
            "Accuracy: 72.22%\n"
          ]
        }
      ]
    },
    {
      "cell_type": "code",
      "source": [
        "# Accuracy score v/s Number of Neighbours for Manhattan & Euclidean Distance.\n",
        "plt.figure(figsize = (9,7))\n",
        "plt.plot(np.arange(3,14,2),manhattan_dist, color=\"purple\", label = \"Manhattan Distance\")\n",
        "plt.plot(np.arange(3,14,2),euclidean_dist, color=\"red\", label = \"Euclidean Distance\")\n",
        "plt.title(\"Accuracy Score v/s Number of Neighbours\")\n",
        "plt.xticks(ticks = np.arange(3,14,2))\n",
        "plt.axhline(max(manhattan_dist), color = \"yellow\",\n",
        "            label=f\"Max Accuracy Score = {max(manhattan_dist):.3f}\", linestyle = \"--\")\n",
        "plt.axhline(max(euclidean_dist), color = \"yellow\",\n",
        "            label=f\"Max Accuracy Score = {max(euclidean_dist):.3f}\", linestyle = \"--\")\n",
        "plt. legend()\n",
        "plt.grid()\n",
        "plt.show()"
      ],
      "metadata": {
        "colab": {
          "base_uri": "https://localhost:8080/",
          "height": 444
        },
        "id": "D8btLlKJf-dk",
        "outputId": "0f2e2342-6cb4-4fc3-8f57-fc83d8a21a95"
      },
      "execution_count": 192,
      "outputs": [
        {
          "output_type": "display_data",
          "data": {
            "text/plain": [
              "<Figure size 648x504 with 1 Axes>"
            ],
            "image/png": "[encoded data removed]"
          },
          "metadata": {
            "needs_background": "light"
          }
        }
      ]
    },
    {
      "cell_type": "markdown",
      "source": [
        "\n",
        "\n",
        "---\n",
        "\n",
        "\n",
        "# **Conclusion**\n",
        "\n",
        "From the Confusion Matrix, Classification Report and above plot, it's very clear that Euclidean Distance is giving better results. Even with number of neighbours = 5, KNN Classifier with Euclidean Distance was giving better results. But in case of KNN Classifier with Manhattan Distance, only when number of neighbours become 9, it's giving a better result. From the Confusion Matrix it is clear that, KNN Classifier with Euclidean Distance has overall more True Positives(TP) when compared to the other one. Also the f1-scores also seem to be comparitively better for KNN Classifier with Euclidean Distance.\n",
        "\n",
        "\n",
        "---\n",
        "\n"
      ],
      "metadata": {
        "id": "FKLV7kr5nGCw"
      }
    }
  ]
}