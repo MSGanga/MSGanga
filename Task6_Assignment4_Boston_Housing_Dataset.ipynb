{
  "nbformat": 4,
  "nbformat_minor": 0,
  "metadata": {
    "colab": {
      "name": "Task6_Assignment4_Boston Housing Dataset",
      "provenance": [],
      "collapsed_sections": [],
      "authorship_tag": "ABX9TyPou1sw4qhEoG/dncupspk6",
      "include_colab_link": true
    },
    "kernelspec": {
      "name": "python3",
      "display_name": "Python 3"
    },
    "language_info": {
      "name": "python"
    }
  },
  "cells": [
    {
      "cell_type": "markdown",
      "metadata": {
        "id": "view-in-github",
        "colab_type": "text"
      },
      "source": [
        "<a href=\"https://colab.research.google.com/github/MSGanga/MSGanga/blob/main/Task6_Assignment4_Boston_Housing_Dataset.ipynb\" target=\"_parent\"><img src=\"https://colab.research.google.com/assets/colab-badge.svg\" alt=\"Open In Colab\"/></a>"
      ]
    },
    {
      "cell_type": "markdown",
      "source": [
        "` Variables in order:`\n",
        "\n",
        "\n",
        "|Columns|Description|\n",
        "|-|-|\n",
        "|CRIM|per capita crime rate by town|\n",
        "|ZN| proportion of residential land zoned for lots over 25,000 sq.ft.|\n",
        "|INDUS|proportion of non-retail business acres per town|\n",
        "|CHAS| Charles River dummy variable (= 1 if tract bounds river; 0 otherwise)|\n",
        "|NOX|nitric oxides concentration (parts per 10 million)|\n",
        "|RM|average number of rooms per dwelling|\n",
        "|AGE|proportion of owner-occupied units built prior to 1940|\n",
        "|DIS|weighted distances to five Boston employment centres|\n",
        "|RAD|index of accessibility to radial highways|\n",
        "|TAX|full-value property-tax rate per \\$10,000|\n",
        "|PTRATIO|pupil-teacher ratio by town|\n",
        "|B|1000(Bk - 0.63)^2 where Bk is the proportion of blacks by town|\n",
        "|LSTAT|% lower status of the population|\n",
        "|MEDV|Median value of owner-occupied homes in $1000's|  "
      ],
      "metadata": {
        "id": "W5DdqpuxWZ-2"
      }
    },
    {
      "cell_type": "code",
      "execution_count": 3,
      "metadata": {
        "colab": {
          "base_uri": "https://localhost:8080/"
        },
        "id": "Bq796dUN-H5f",
        "outputId": "3bd5b7f9-364f-4dfe-cc52-e191971b714e"
      },
      "outputs": [
        {
          "output_type": "execute_result",
          "data": {
            "text/plain": [
              "(400, 13)"
            ]
          },
          "metadata": {},
          "execution_count": 3
        }
      ],
      "source": [
        "import numpy as np\n",
        "\n",
        "# Import phi from train data set\n",
        "phi = np.loadtxt('/content/housing_train.csv', dtype='float', delimiter=',', skiprows=1,\n",
        "                 usecols=tuple(range(1, 14)))\n",
        "np.shape(phi)"
      ]
    },
    {
      "cell_type": "code",
      "source": [
        "# Import y from train data set\n",
        "y = np.loadtxt('/content/housing_train.csv', dtype='float', delimiter=',', skiprows=1,\n",
        "               usecols=14, ndmin=2)\n",
        "np.shape(y)"
      ],
      "metadata": {
        "colab": {
          "base_uri": "https://localhost:8080/"
        },
        "id": "yIV9xt_4-Tbx",
        "outputId": "987f9516-7952-4e0b-fe78-a8b206e5286f"
      },
      "execution_count": 4,
      "outputs": [
        {
          "output_type": "execute_result",
          "data": {
            "text/plain": [
              "(400, 1)"
            ]
          },
          "metadata": {},
          "execution_count": 4
        }
      ]
    },
    {
      "cell_type": "code",
      "source": [
        "# Import phi_test from test data set\n",
        "phi_test = np.loadtxt('/content/housing_test.csv.txt', dtype='float', delimiter=',',\n",
        "                      skiprows=1, usecols=tuple(range(1, 14)))\n",
        "np.shape(phi_test)"
      ],
      "metadata": {
        "colab": {
          "base_uri": "https://localhost:8080/"
        },
        "id": "MTRfQwH0-Wd4",
        "outputId": "4644441f-fc11-4261-b2f8-e40b642458bf"
      },
      "execution_count": 5,
      "outputs": [
        {
          "output_type": "execute_result",
          "data": {
            "text/plain": [
              "(105, 13)"
            ]
          },
          "metadata": {},
          "execution_count": 5
        }
      ]
    },
    {
      "cell_type": "code",
      "source": [
        "# Add a column of 1s to right of phi and phi_test\n",
        "phi_test = np.concatenate((phi_test, np.ones((105, 1))), axis=1)\n",
        "phi = np.concatenate((phi, np.ones((400, 1))), axis=1)"
      ],
      "metadata": {
        "id": "yeLPfdrw-cl4"
      },
      "execution_count": 6,
      "outputs": []
    },
    {
      "cell_type": "code",
      "source": [
        "# Min Max scaling for phi and phi_test (Feature Engineering)\n",
        "for i in range(0, 13):\n",
        "    col_max = max(phi[:, i])\n",
        "    col_min = min(phi[:, i])\n",
        "    phi[:, i] = (phi[:, i] - col_min) / (col_max - col_min)\n",
        "    phi_test[:, i] = (phi_test[:, i] - col_min) / (col_max - col_min)"
      ],
      "metadata": {
        "id": "vVa5E3ds-dxy"
      },
      "execution_count": 7,
      "outputs": []
    },
    {
      "cell_type": "code",
      "source": [
        "# Log scaling on y\n",
        "y = np.log(y)"
      ],
      "metadata": {
        "id": "YLhBLMtz-dvw"
      },
      "execution_count": 8,
      "outputs": []
    },
    {
      "cell_type": "code",
      "source": [
        "# Function to calculate change in error function\n",
        "def delta_w(p, phi, w):\n",
        "    if p == 2:\n",
        "        deltaw = (2 * (np.dot(np.dot(np.transpose(phi), phi), w) -\n",
        "                       np.dot(np.transpose(phi), y)) +\n",
        "                  lam * p * np.power(np.absolute(w), (p - 1)))\n",
        "    if p < 2 and p > 1:\n",
        "        deltaw = (2 * (np.dot(np.dot(np.transpose(phi), phi), w) -\n",
        "                       np.dot(np.transpose(phi), y)) +\n",
        "                  lam * p * np.power(np.absolute(w), (p - 1)) * np.sign(w))\n",
        "    return deltaw"
      ],
      "metadata": {
        "id": "v8nsbTV4-dtH"
      },
      "execution_count": 9,
      "outputs": []
    },
    {
      "cell_type": "code",
      "source": [
        "# Dictionary containing filenames as keys and p as values\n",
        "filenames = {'output.csv': 2.0,\n",
        "             'output_p1.csv': 1.75,\n",
        "             'output_p2.csv': 1.5,\n",
        "             'output_p3.csv': 1.3\n",
        "             }"
      ],
      "metadata": {
        "id": "mfQc8Sba-dpg"
      },
      "execution_count": 10,
      "outputs": []
    },
    {
      "cell_type": "code",
      "source": [
        "# For each item in this dictionary\n",
        "for (fname, p) in filenames.items():\n",
        "    # Set initial w to zeros\n",
        "    w = np.zeros((14, 1))\n",
        "\n",
        "    # Hyperparameter lambda value\n",
        "    lam = 0.2\n",
        "\n",
        "    # Maximum step size\n",
        "    t = 0.00012\n",
        "\n",
        "    # Calculate new value of w\n",
        "    w_new = w - t * delta_w(p, phi, w)\n",
        "\n",
        "    i = 0\n",
        "    # Repeat steps until error between consecutive w is less than threshold\n",
        "    while(np.linalg.norm(w_new-w) > 10 ** -10):\n",
        "        w = w_new\n",
        "        w_new = w - t * delta_w(p, phi, w)\n",
        "        i = i + 1\n",
        "\n",
        "    # Load values of id\n",
        "    id_test = np.loadtxt('/content/housing_test.csv.txt', dtype='int', delimiter=',',\n",
        "                         skiprows=1, usecols=0, ndmin=2)\n",
        "\n",
        "    # Calculate y for test data\n",
        "    y_test = np.exp(np.dot(phi_test, w_new))\n",
        "\n",
        "    # Save the ids and y\n",
        "    np.savetxt(fname, np.concatenate((id_test, y_test), axis=1),\n",
        "               delimiter=',', fmt=['%d', '%f'], header='ID,MEDV', comments='')"
      ],
      "metadata": {
        "id": "xHkPbzKt-pOQ"
      },
      "execution_count": 11,
      "outputs": []
    }
  ]
}