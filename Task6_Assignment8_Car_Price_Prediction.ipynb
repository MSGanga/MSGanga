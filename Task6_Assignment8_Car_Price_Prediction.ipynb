{
  "cells": [
    {
      "cell_type": "markdown",
      "metadata": {
        "id": "view-in-github",
        "colab_type": "text"
      },
      "source": [
        "<a href=\"https://colab.research.google.com/github/MSGanga/MSGanga/blob/main/Task6_Assignment8_Car_Price_Prediction.ipynb\" target=\"_parent\"><img src=\"https://colab.research.google.com/assets/colab-badge.svg\" alt=\"Open In Colab\"/></a>"
      ]
    },
    {
      "cell_type": "markdown",
      "metadata": {
        "id": "vHMMNdH0OWjH"
      },
      "source": [
        "# Assignment8"
      ]
    },
    {
      "cell_type": "code",
      "execution_count": null,
      "metadata": {
        "collapsed": true,
        "id": "Ej6ErJLlOWjK"
      },
      "outputs": [],
      "source": [
        "# Import necessary modules\n",
        "import pandas as pd\n",
        "import seaborn as sns\n",
        "import matplotlib.pyplot as plt\n",
        "import numpy as np\n",
        "from sklearn import linear_model\n",
        "from sklearn.model_selection import train_test_split\n",
        "import statsmodels.api as sm\n",
        "import pandas.util.testing as tm\n",
        "from statsmodels.stats.outliers_influence import variance_inflation_factor\n",
        "from sklearn.metrics import r2_score, mean_squared_error, mean_absolute_error\n",
        "from sklearn.model_selection import cross_val_score\n",
        "from sklearn.svm import SVR\n",
        "from sklearn.feature_selection import RFE"
      ]
    },
    {
      "cell_type": "markdown",
      "metadata": {
        "id": "1D1wu26SOWjL"
      },
      "source": [
        "# How Much is Your Car Worth?\n",
        "\n",
        "Data about the retail price of 2005 General Motors cars can be found in `car_data.csv`.\n",
        "\n",
        "The columns are:\n",
        "\n",
        "1. Price: suggested retail price of the used 2005 GM car in excellent condition.\n",
        "2. Mileage: number of miles the car has been driven\n",
        "3. Make: manufacturer of the car such as Saturn, Pontiac, and Chevrolet\n",
        "4. Model: specific models for each car manufacturer such as Ion, Vibe, Cavalier\n",
        "5. Trim (of car): specific type of car model such as SE Sedan 4D, Quad Coupe 2D          \n",
        "6. Type: body type such as sedan, coupe, etc.      \n",
        "7. Cylinder: number of cylinders in the engine        \n",
        "8. Liter: a more specific measure of engine size     \n",
        "9. Doors: number of doors           \n",
        "10. Cruise: indicator variable representing whether the car has cruise control (1 = cruise)\n",
        "11. Sound: indicator variable representing whether the car has upgraded speakers (1 = upgraded)\n",
        "12. Leather: indicator variable representing whether the car has leather seats (1 = leather)\n",
        "\n",
        "## Tasks, Part 1\n",
        "\n",
        "1. Find the linear regression equation for mileage vs price.\n",
        "2. Chart the original data and the equation on the chart.\n",
        "3. Find the equation's $R^2$ score (use the `.score` method) to determine whether the\n",
        "equation is a good fit for this data. (0.8 and greater is considered a strong correlation.)\n",
        "\n",
        "## Tasks, Part 2\n",
        "\n",
        "1. Use mileage, cylinders, liters, doors, cruise, sound, and leather to find the linear regression equation.\n",
        "2. Find the equation's $R^2$ score (use the `.score` method) to determine whether the\n",
        "equation is a good fit for this data. (0.8 and greater is considered a strong correlation.)\n",
        "3. Find the combination of the factors that is the best predictor for price.\n",
        "\n",
        "## Tasks, Hard Mode\n",
        "\n",
        "1. Research dummy variables in scikit-learn to see how to use the make, model, and body type.\n",
        "2. Find the best combination of factors to predict price."
      ]
    },
    {
      "cell_type": "code",
      "execution_count": null,
      "metadata": {
        "id": "pMUjF_fCOWjL",
        "colab": {
          "base_uri": "https://localhost:8080/",
          "height": 206
        },
        "outputId": "3a68a3b4-8369-413e-ae6b-f9f294e58b9a"
      },
      "outputs": [
        {
          "output_type": "execute_result",
          "data": {
            "text/plain": [
              "         Price  Mileage   Make    Model      Trim   Type  Cylinder  Liter  \\\n",
              "0  17314.10313     8221  Buick  Century  Sedan 4D  Sedan         6    3.1   \n",
              "1  17542.03608     9135  Buick  Century  Sedan 4D  Sedan         6    3.1   \n",
              "2  16218.84786    13196  Buick  Century  Sedan 4D  Sedan         6    3.1   \n",
              "3  16336.91314    16342  Buick  Century  Sedan 4D  Sedan         6    3.1   \n",
              "4  16339.17032    19832  Buick  Century  Sedan 4D  Sedan         6    3.1   \n",
              "\n",
              "   Doors  Cruise  Sound  Leather  \n",
              "0      4       1      1        1  \n",
              "1      4       1      1        0  \n",
              "2      4       1      1        0  \n",
              "3      4       1      0        0  \n",
              "4      4       1      0        1  "
            ],
            "text/html": [
              "\n",
              "  <div id=\"df-a72c8661-bcd8-475a-890d-1d6fefb8880f\">\n",
              "    <div class=\"colab-df-container\">\n",
              "      <div>\n",
              "<style scoped>\n",
              "    .dataframe tbody tr th:only-of-type {\n",
              "        vertical-align: middle;\n",
              "    }\n",
              "\n",
              "    .dataframe tbody tr th {\n",
              "        vertical-align: top;\n",
              "    }\n",
              "\n",
              "    .dataframe thead th {\n",
              "        text-align: right;\n",
              "    }\n",
              "</style>\n",
              "<table border=\"1\" class=\"dataframe\">\n",
              "  <thead>\n",
              "    <tr style=\"text-align: right;\">\n",
              "      <th></th>\n",
              "      <th>Price</th>\n",
              "      <th>Mileage</th>\n",
              "      <th>Make</th>\n",
              "      <th>Model</th>\n",
              "      <th>Trim</th>\n",
              "      <th>Type</th>\n",
              "      <th>Cylinder</th>\n",
              "      <th>Liter</th>\n",
              "      <th>Doors</th>\n",
              "      <th>Cruise</th>\n",
              "      <th>Sound</th>\n",
              "      <th>Leather</th>\n",
              "    </tr>\n",
              "  </thead>\n",
              "  <tbody>\n",
              "    <tr>\n",
              "      <th>0</th>\n",
              "      <td>17314.10313</td>\n",
              "      <td>8221</td>\n",
              "      <td>Buick</td>\n",
              "      <td>Century</td>\n",
              "      <td>Sedan 4D</td>\n",
              "      <td>Sedan</td>\n",
              "      <td>6</td>\n",
              "      <td>3.1</td>\n",
              "      <td>4</td>\n",
              "      <td>1</td>\n",
              "      <td>1</td>\n",
              "      <td>1</td>\n",
              "    </tr>\n",
              "    <tr>\n",
              "      <th>1</th>\n",
              "      <td>17542.03608</td>\n",
              "      <td>9135</td>\n",
              "      <td>Buick</td>\n",
              "      <td>Century</td>\n",
              "      <td>Sedan 4D</td>\n",
              "      <td>Sedan</td>\n",
              "      <td>6</td>\n",
              "      <td>3.1</td>\n",
              "      <td>4</td>\n",
              "      <td>1</td>\n",
              "      <td>1</td>\n",
              "      <td>0</td>\n",
              "    </tr>\n",
              "    <tr>\n",
              "      <th>2</th>\n",
              "      <td>16218.84786</td>\n",
              "      <td>13196</td>\n",
              "      <td>Buick</td>\n",
              "      <td>Century</td>\n",
              "      <td>Sedan 4D</td>\n",
              "      <td>Sedan</td>\n",
              "      <td>6</td>\n",
              "      <td>3.1</td>\n",
              "      <td>4</td>\n",
              "      <td>1</td>\n",
              "      <td>1</td>\n",
              "      <td>0</td>\n",
              "    </tr>\n",
              "    <tr>\n",
              "      <th>3</th>\n",
              "      <td>16336.91314</td>\n",
              "      <td>16342</td>\n",
              "      <td>Buick</td>\n",
              "      <td>Century</td>\n",
              "      <td>Sedan 4D</td>\n",
              "      <td>Sedan</td>\n",
              "      <td>6</td>\n",
              "      <td>3.1</td>\n",
              "      <td>4</td>\n",
              "      <td>1</td>\n",
              "      <td>0</td>\n",
              "      <td>0</td>\n",
              "    </tr>\n",
              "    <tr>\n",
              "      <th>4</th>\n",
              "      <td>16339.17032</td>\n",
              "      <td>19832</td>\n",
              "      <td>Buick</td>\n",
              "      <td>Century</td>\n",
              "      <td>Sedan 4D</td>\n",
              "      <td>Sedan</td>\n",
              "      <td>6</td>\n",
              "      <td>3.1</td>\n",
              "      <td>4</td>\n",
              "      <td>1</td>\n",
              "      <td>0</td>\n",
              "      <td>1</td>\n",
              "    </tr>\n",
              "  </tbody>\n",
              "</table>\n",
              "</div>\n",
              "      <button class=\"colab-df-convert\" onclick=\"convertToInteractive('df-a72c8661-bcd8-475a-890d-1d6fefb8880f')\"\n",
              "              title=\"Convert this dataframe to an interactive table.\"\n",
              "              style=\"display:none;\">\n",
              "        \n",
              "  <svg xmlns=\"http://www.w3.org/2000/svg\" height=\"24px\"viewBox=\"0 0 24 24\"\n",
              "       width=\"24px\">\n",
              "    <path d=\"M0 0h24v24H0V0z\" fill=\"none\"/>\n",
              "    <path d=\"M18.56 5.44l.94 2.06.94-2.06 2.06-.94-2.06-.94-.94-2.06-.94 2.06-2.06.94zm-11 1L8.5 8.5l.94-2.06 2.06-.94-2.06-.94L8.5 2.5l-.94 2.06-2.06.94zm10 10l.94 2.06.94-2.06 2.06-.94-2.06-.94-.94-2.06-.94 2.06-2.06.94z\"/><path d=\"M17.41 7.96l-1.37-1.37c-.4-.4-.92-.59-1.43-.59-.52 0-1.04.2-1.43.59L10.3 9.45l-7.72 7.72c-.78.78-.78 2.05 0 2.83L4 21.41c.39.39.9.59 1.41.59.51 0 1.02-.2 1.41-.59l7.78-7.78 2.81-2.81c.8-.78.8-2.07 0-2.86zM5.41 20L4 18.59l7.72-7.72 1.47 1.35L5.41 20z\"/>\n",
              "  </svg>\n",
              "      </button>\n",
              "      \n",
              "  <style>\n",
              "    .colab-df-container {\n",
              "      display:flex;\n",
              "      flex-wrap:wrap;\n",
              "      gap: 12px;\n",
              "    }\n",
              "\n",
              "    .colab-df-convert {\n",
              "      background-color: #E8F0FE;\n",
              "      border: none;\n",
              "      border-radius: 50%;\n",
              "      cursor: pointer;\n",
              "      display: none;\n",
              "      fill: #1967D2;\n",
              "      height: 32px;\n",
              "      padding: 0 0 0 0;\n",
              "      width: 32px;\n",
              "    }\n",
              "\n",
              "    .colab-df-convert:hover {\n",
              "      background-color: #E2EBFA;\n",
              "      box-shadow: 0px 1px 2px rgba(60, 64, 67, 0.3), 0px 1px 3px 1px rgba(60, 64, 67, 0.15);\n",
              "      fill: #174EA6;\n",
              "    }\n",
              "\n",
              "    [theme=dark] .colab-df-convert {\n",
              "      background-color: #3B4455;\n",
              "      fill: #D2E3FC;\n",
              "    }\n",
              "\n",
              "    [theme=dark] .colab-df-convert:hover {\n",
              "      background-color: #434B5C;\n",
              "      box-shadow: 0px 1px 3px 1px rgba(0, 0, 0, 0.15);\n",
              "      filter: drop-shadow(0px 1px 2px rgba(0, 0, 0, 0.3));\n",
              "      fill: #FFFFFF;\n",
              "    }\n",
              "  </style>\n",
              "\n",
              "      <script>\n",
              "        const buttonEl =\n",
              "          document.querySelector('#df-a72c8661-bcd8-475a-890d-1d6fefb8880f button.colab-df-convert');\n",
              "        buttonEl.style.display =\n",
              "          google.colab.kernel.accessAllowed ? 'block' : 'none';\n",
              "\n",
              "        async function convertToInteractive(key) {\n",
              "          const element = document.querySelector('#df-a72c8661-bcd8-475a-890d-1d6fefb8880f');\n",
              "          const dataTable =\n",
              "            await google.colab.kernel.invokeFunction('convertToInteractive',\n",
              "                                                     [key], {});\n",
              "          if (!dataTable) return;\n",
              "\n",
              "          const docLinkHtml = 'Like what you see? Visit the ' +\n",
              "            '<a target=\"_blank\" href=https://colab.research.google.com/notebooks/data_table.ipynb>data table notebook</a>'\n",
              "            + ' to learn more about interactive tables.';\n",
              "          element.innerHTML = '';\n",
              "          dataTable['output_type'] = 'display_data';\n",
              "          await google.colab.output.renderOutput(dataTable, element);\n",
              "          const docLink = document.createElement('div');\n",
              "          docLink.innerHTML = docLinkHtml;\n",
              "          element.appendChild(docLink);\n",
              "        }\n",
              "      </script>\n",
              "    </div>\n",
              "  </div>\n",
              "  "
            ]
          },
          "metadata": {},
          "execution_count": 264
        }
      ],
      "source": [
        "# Loading the dataset\n",
        "df = pd.read_csv(\"/content/car_data.csv\")\n",
        "df.head()"
      ]
    },
    {
      "cell_type": "code",
      "source": [
        "# Number of rows and columns in the dataframe.\n",
        "df.shape"
      ],
      "metadata": {
        "colab": {
          "base_uri": "https://localhost:8080/"
        },
        "id": "eAOKD26PSF4H",
        "outputId": "683abc80-5d25-4f17-a56d-e391f28c7c05"
      },
      "execution_count": null,
      "outputs": [
        {
          "output_type": "execute_result",
          "data": {
            "text/plain": [
              "(804, 12)"
            ]
          },
          "metadata": {},
          "execution_count": 265
        }
      ]
    },
    {
      "cell_type": "code",
      "source": [
        "# Checking for missing values.\n",
        "df.isnull().sum()"
      ],
      "metadata": {
        "colab": {
          "base_uri": "https://localhost:8080/"
        },
        "id": "33OgRInhSPvg",
        "outputId": "05b7022e-20a4-4d0e-8880-28d068ece0fe"
      },
      "execution_count": null,
      "outputs": [
        {
          "output_type": "execute_result",
          "data": {
            "text/plain": [
              "Price       0\n",
              "Mileage     0\n",
              "Make        0\n",
              "Model       0\n",
              "Trim        0\n",
              "Type        0\n",
              "Cylinder    0\n",
              "Liter       0\n",
              "Doors       0\n",
              "Cruise      0\n",
              "Sound       0\n",
              "Leather     0\n",
              "dtype: int64"
            ]
          },
          "metadata": {},
          "execution_count": 266
        }
      ]
    },
    {
      "cell_type": "code",
      "source": [
        "# Getting information about the dataframe. \n",
        "df.info()"
      ],
      "metadata": {
        "colab": {
          "base_uri": "https://localhost:8080/"
        },
        "id": "-sea-QsBSJx3",
        "outputId": "43e8f2f3-00df-447b-cd8f-2c30dc2ea88f"
      },
      "execution_count": null,
      "outputs": [
        {
          "output_type": "stream",
          "name": "stdout",
          "text": [
            "<class 'pandas.core.frame.DataFrame'>\n",
            "RangeIndex: 804 entries, 0 to 803\n",
            "Data columns (total 12 columns):\n",
            " #   Column    Non-Null Count  Dtype  \n",
            "---  ------    --------------  -----  \n",
            " 0   Price     804 non-null    float64\n",
            " 1   Mileage   804 non-null    int64  \n",
            " 2   Make      804 non-null    object \n",
            " 3   Model     804 non-null    object \n",
            " 4   Trim      804 non-null    object \n",
            " 5   Type      804 non-null    object \n",
            " 6   Cylinder  804 non-null    int64  \n",
            " 7   Liter     804 non-null    float64\n",
            " 8   Doors     804 non-null    int64  \n",
            " 9   Cruise    804 non-null    int64  \n",
            " 10  Sound     804 non-null    int64  \n",
            " 11  Leather   804 non-null    int64  \n",
            "dtypes: float64(2), int64(6), object(4)\n",
            "memory usage: 75.5+ KB\n"
          ]
        }
      ]
    },
    {
      "cell_type": "markdown",
      "source": [
        "\n",
        "\n",
        "---\n",
        "\n",
        "\n",
        "## Tasks, Part 1"
      ],
      "metadata": {
        "id": "EYDF8Z3vShrO"
      }
    },
    {
      "cell_type": "markdown",
      "source": [
        "1. Find the linear regression equation for mileage vs price.\n",
        "2. Chart the original data and the equation on the chart.\n",
        "3. Find the equation's $R^2$ score (use the `.score` method) to determine whether the\n",
        "equation is a good fit for this data. (0.8 and greater is considered a strong correlation.)\n",
        "\n",
        "\n",
        "---\n",
        "\n"
      ],
      "metadata": {
        "id": "OFyy8WDESvcO"
      }
    },
    {
      "cell_type": "code",
      "source": [
        "X = df.Mileage # feature\n",
        "y = df.Price  # target\n",
        "\n",
        "# Splitting the data into training and testing datasets.\n",
        "X_train,X_test,y_train,y_test = train_test_split(X, y, test_size=0.33, random_state=42)\n",
        "\n",
        "# Converting feature and target into arrays(feature --> 2D)\n",
        "X_train_re = X_train.values.reshape(-1,1)\n",
        "X_test_re = X_test.values.reshape(-1,1)\n",
        "y_train_re = y_train.values\n",
        "y_test_re = y_test.values\n",
        "\n",
        "# Fitting the Model\n",
        "reg = linear_model.LinearRegression().fit(X_train_re, y_train_re)\n",
        "print(\"Regression Coefficient/Slope: \", reg.coef_[0])\n",
        "print(\"Regression Constant/Intercept: \", reg.intercept_)\n",
        "print(f\"\\nEquation of the best fit line: \\nPrice = {(reg.intercept_):.4f} + {(reg.coef_[0]):.4f} * Mileage\")\n",
        "r_sq = reg.score(X_test_re, y_test_re)\n",
        "print('\\nR^2 --> Coefficient of Determination:', round(r_sq,3))\n"
      ],
      "metadata": {
        "colab": {
          "base_uri": "https://localhost:8080/"
        },
        "id": "zQ-r2tpFSLgV",
        "outputId": "ddf440fe-0277-444a-83ad-1f1556afb9c2"
      },
      "execution_count": null,
      "outputs": [
        {
          "output_type": "stream",
          "name": "stdout",
          "text": [
            "Regression Coefficient/Slope:  -0.15780200315602252\n",
            "Regression Constant/Intercept:  24513.2195592009\n",
            "\n",
            "Equation of the best fit line: \n",
            "Price = 24513.2196 + -0.1578 * Mileage\n",
            "\n",
            "R^2 --> Coefficient of Determination: 0.029\n"
          ]
        }
      ]
    },
    {
      "cell_type": "markdown",
      "source": [
        "The model's  R2  score is low(0.029), so the equation is NOT a good fit for this data and the 'mileage' feature alone may not be sufficient to predict the car prices. "
      ],
      "metadata": {
        "id": "z4m4oAu8eb9N"
      }
    },
    {
      "cell_type": "code",
      "source": [
        "#\"Price v/s Mileage\"\n",
        "plt.figure(figsize=(7,4))\n",
        "plt.title(\"Price v/s Mileage\",fontsize=16) \n",
        "y_pred = reg.predict(X_test_re)\n",
        "plt.scatter(X_test, y_test, color ='teal')\n",
        "plt.plot(X_test, y_pred, color ='k')  \n",
        "plt.show()"
      ],
      "metadata": {
        "colab": {
          "base_uri": "https://localhost:8080/",
          "height": 283
        },
        "id": "ZX9v3S74YtS_",
        "outputId": "aa386057-47a9-44e9-beaf-4d57d7573369"
      },
      "execution_count": null,
      "outputs": [
        {
          "output_type": "display_data",
          "data": {
            "text/plain": [
              "<Figure size 504x288 with 1 Axes>"
            ],
            "image/png": "[encoded data removed]"
          },
          "metadata": {
            "needs_background": "light"
          }
        }
      ]
    },
    {
      "cell_type": "markdown",
      "source": [
        "\n",
        "\n",
        "---\n",
        "\n",
        "## Tasks, Part 2\n",
        "\n",
        "1. Use mileage, cylinders, liters, doors, cruise, sound, and leather to find the linear regression equation.\n",
        "2. Find the equation's $R^2$ score (use the `.score` method) to determine whether the\n",
        "equation is a good fit for this data. (0.8 and greater is considered a strong correlation.)\n",
        "3. Find the combination of the factors that is the best predictor for price.\n",
        "\n",
        "\n",
        "\n",
        "---\n",
        "\n"
      ],
      "metadata": {
        "id": "WcFPEA3he-0u"
      }
    },
    {
      "cell_type": "code",
      "source": [
        "# List of all the columns present in the DataFrame.\n",
        "df.columns"
      ],
      "metadata": {
        "colab": {
          "base_uri": "https://localhost:8080/"
        },
        "id": "ViOcQ1nzfEe0",
        "outputId": "9c6f7702-cd90-47e4-eeea-363b8bd95f9f"
      },
      "execution_count": null,
      "outputs": [
        {
          "output_type": "execute_result",
          "data": {
            "text/plain": [
              "Index(['Price', 'Mileage', 'Make', 'Model', 'Trim', 'Type', 'Cylinder',\n",
              "       'Liter', 'Doors', 'Cruise', 'Sound', 'Leather'],\n",
              "      dtype='object')"
            ]
          },
          "metadata": {},
          "execution_count": 270
        }
      ]
    },
    {
      "cell_type": "code",
      "source": [
        "# Extract all the numeric (float and int type) columns from the dataset.\n",
        "numeric_df = df.select_dtypes(include = ['int64', 'float64'])\n",
        "features = list(numeric_df.drop(\"Price\", axis=1).columns)\n",
        "X = df[features] # feature variables\n",
        "y = df.Price  # target\n",
        "\n",
        "# Splitting the data into training and testing datasets.\n",
        "X_train,X_test,y_train,y_test = train_test_split(X, y, test_size=0.33, random_state=42)\n"
      ],
      "metadata": {
        "id": "dPXxqdhumzsz"
      },
      "execution_count": null,
      "outputs": []
    },
    {
      "cell_type": "code",
      "source": [
        "# Build linear regression model \n",
        "mlr = linear_model.LinearRegression().fit(X_train, y_train)\n",
        "\n",
        "# Print the value of the intercept \n",
        "print(f\"Regression Constant/Intercept:\\n{mlr.intercept_}\")\n",
        "\n",
        "# Print the names of the features along with the values of their corresponding coefficients.\n",
        "print(\"\\nRegression Coefficients: \")\n",
        "for item in list(zip(X_train.columns.values, mlr.coef_)):\n",
        "  print(f\"{item[0]} : {item[1]}\") "
      ],
      "metadata": {
        "colab": {
          "base_uri": "https://localhost:8080/"
        },
        "id": "gSBfTS7eoIVB",
        "outputId": "c84ca5ae-46c0-41b3-ab9e-3adfc615d46e"
      },
      "execution_count": null,
      "outputs": [
        {
          "output_type": "stream",
          "name": "stdout",
          "text": [
            "Regression Constant/Intercept:\n",
            "5451.918900007837\n",
            "\n",
            "Regression Coefficients: \n",
            "Mileage : -0.16155808512671674\n",
            "Cylinder : 5199.588306999287\n",
            "Liter : -2561.2512679706124\n",
            "Doors : -1848.8894992155044\n",
            "Cruise : 6504.310590667736\n",
            "Sound : -1884.8581239897737\n",
            "Leather : 3345.0589626512688\n"
          ]
        }
      ]
    },
    {
      "cell_type": "code",
      "source": [
        "# R2 score\n",
        "r_sq2 = mlr.score(X_test, y_test)\n",
        "print('R^2 --> Coefficient of Determination:', round(r_sq2,3))"
      ],
      "metadata": {
        "colab": {
          "base_uri": "https://localhost:8080/"
        },
        "id": "w17-0Lk8pIDz",
        "outputId": "6eebeb1d-6d60-4afa-d3e0-5f2f5c7192df"
      },
      "execution_count": null,
      "outputs": [
        {
          "output_type": "stream",
          "name": "stdout",
          "text": [
            "R^2 --> Coefficient of Determination: 0.415\n"
          ]
        }
      ]
    },
    {
      "cell_type": "markdown",
      "source": [
        "As the  Coefficient of Determination of the model is 0.415,  so the equation is `weak to moderate fit` for this data. "
      ],
      "metadata": {
        "id": "fnfZb18YrbzT"
      }
    },
    {
      "cell_type": "code",
      "source": [
        "# Prediction with test set\n",
        "y_pred_mlr= mlr.predict(X_test)"
      ],
      "metadata": {
        "id": "IMHk5C-mplb7"
      },
      "execution_count": null,
      "outputs": []
    },
    {
      "cell_type": "code",
      "source": [
        "# Find the columns with the best R2 score\n",
        "r = np.array([df[i].corr(df[\"Price\"]) for i in features])\n",
        "r2 = r**2\n",
        "df_r2 = pd.DataFrame({'feature':features,\"r2_squared\":r2})\n",
        "df_r2.sort_values(by=\"r2_squared\", ascending=False)"
      ],
      "metadata": {
        "colab": {
          "base_uri": "https://localhost:8080/",
          "height": 268
        },
        "id": "1gsEdlkWEoBK",
        "outputId": "a0565171-0b96-4925-882e-48e46d30dde8"
      },
      "execution_count": null,
      "outputs": [
        {
          "output_type": "execute_result",
          "data": {
            "text/plain": [
              "    feature  r2_squared\n",
              "1  Cylinder    0.323859\n",
              "2     Liter    0.311527\n",
              "4    Cruise    0.185633\n",
              "6   Leather    0.024711\n",
              "0   Mileage    0.020463\n",
              "3     Doors    0.019251\n",
              "5     Sound    0.015462"
            ],
            "text/html": [
              "\n",
              "  <div id=\"df-67aed2c1-caa1-40b7-b2f9-f1fd86a1529c\">\n",
              "    <div class=\"colab-df-container\">\n",
              "      <div>\n",
              "<style scoped>\n",
              "    .dataframe tbody tr th:only-of-type {\n",
              "        vertical-align: middle;\n",
              "    }\n",
              "\n",
              "    .dataframe tbody tr th {\n",
              "        vertical-align: top;\n",
              "    }\n",
              "\n",
              "    .dataframe thead th {\n",
              "        text-align: right;\n",
              "    }\n",
              "</style>\n",
              "<table border=\"1\" class=\"dataframe\">\n",
              "  <thead>\n",
              "    <tr style=\"text-align: right;\">\n",
              "      <th></th>\n",
              "      <th>feature</th>\n",
              "      <th>r2_squared</th>\n",
              "    </tr>\n",
              "  </thead>\n",
              "  <tbody>\n",
              "    <tr>\n",
              "      <th>1</th>\n",
              "      <td>Cylinder</td>\n",
              "      <td>0.323859</td>\n",
              "    </tr>\n",
              "    <tr>\n",
              "      <th>2</th>\n",
              "      <td>Liter</td>\n",
              "      <td>0.311527</td>\n",
              "    </tr>\n",
              "    <tr>\n",
              "      <th>4</th>\n",
              "      <td>Cruise</td>\n",
              "      <td>0.185633</td>\n",
              "    </tr>\n",
              "    <tr>\n",
              "      <th>6</th>\n",
              "      <td>Leather</td>\n",
              "      <td>0.024711</td>\n",
              "    </tr>\n",
              "    <tr>\n",
              "      <th>0</th>\n",
              "      <td>Mileage</td>\n",
              "      <td>0.020463</td>\n",
              "    </tr>\n",
              "    <tr>\n",
              "      <th>3</th>\n",
              "      <td>Doors</td>\n",
              "      <td>0.019251</td>\n",
              "    </tr>\n",
              "    <tr>\n",
              "      <th>5</th>\n",
              "      <td>Sound</td>\n",
              "      <td>0.015462</td>\n",
              "    </tr>\n",
              "  </tbody>\n",
              "</table>\n",
              "</div>\n",
              "      <button class=\"colab-df-convert\" onclick=\"convertToInteractive('df-67aed2c1-caa1-40b7-b2f9-f1fd86a1529c')\"\n",
              "              title=\"Convert this dataframe to an interactive table.\"\n",
              "              style=\"display:none;\">\n",
              "        \n",
              "  <svg xmlns=\"http://www.w3.org/2000/svg\" height=\"24px\"viewBox=\"0 0 24 24\"\n",
              "       width=\"24px\">\n",
              "    <path d=\"M0 0h24v24H0V0z\" fill=\"none\"/>\n",
              "    <path d=\"M18.56 5.44l.94 2.06.94-2.06 2.06-.94-2.06-.94-.94-2.06-.94 2.06-2.06.94zm-11 1L8.5 8.5l.94-2.06 2.06-.94-2.06-.94L8.5 2.5l-.94 2.06-2.06.94zm10 10l.94 2.06.94-2.06 2.06-.94-2.06-.94-.94-2.06-.94 2.06-2.06.94z\"/><path d=\"M17.41 7.96l-1.37-1.37c-.4-.4-.92-.59-1.43-.59-.52 0-1.04.2-1.43.59L10.3 9.45l-7.72 7.72c-.78.78-.78 2.05 0 2.83L4 21.41c.39.39.9.59 1.41.59.51 0 1.02-.2 1.41-.59l7.78-7.78 2.81-2.81c.8-.78.8-2.07 0-2.86zM5.41 20L4 18.59l7.72-7.72 1.47 1.35L5.41 20z\"/>\n",
              "  </svg>\n",
              "      </button>\n",
              "      \n",
              "  <style>\n",
              "    .colab-df-container {\n",
              "      display:flex;\n",
              "      flex-wrap:wrap;\n",
              "      gap: 12px;\n",
              "    }\n",
              "\n",
              "    .colab-df-convert {\n",
              "      background-color: #E8F0FE;\n",
              "      border: none;\n",
              "      border-radius: 50%;\n",
              "      cursor: pointer;\n",
              "      display: none;\n",
              "      fill: #1967D2;\n",
              "      height: 32px;\n",
              "      padding: 0 0 0 0;\n",
              "      width: 32px;\n",
              "    }\n",
              "\n",
              "    .colab-df-convert:hover {\n",
              "      background-color: #E2EBFA;\n",
              "      box-shadow: 0px 1px 2px rgba(60, 64, 67, 0.3), 0px 1px 3px 1px rgba(60, 64, 67, 0.15);\n",
              "      fill: #174EA6;\n",
              "    }\n",
              "\n",
              "    [theme=dark] .colab-df-convert {\n",
              "      background-color: #3B4455;\n",
              "      fill: #D2E3FC;\n",
              "    }\n",
              "\n",
              "    [theme=dark] .colab-df-convert:hover {\n",
              "      background-color: #434B5C;\n",
              "      box-shadow: 0px 1px 3px 1px rgba(0, 0, 0, 0.15);\n",
              "      filter: drop-shadow(0px 1px 2px rgba(0, 0, 0, 0.3));\n",
              "      fill: #FFFFFF;\n",
              "    }\n",
              "  </style>\n",
              "\n",
              "      <script>\n",
              "        const buttonEl =\n",
              "          document.querySelector('#df-67aed2c1-caa1-40b7-b2f9-f1fd86a1529c button.colab-df-convert');\n",
              "        buttonEl.style.display =\n",
              "          google.colab.kernel.accessAllowed ? 'block' : 'none';\n",
              "\n",
              "        async function convertToInteractive(key) {\n",
              "          const element = document.querySelector('#df-67aed2c1-caa1-40b7-b2f9-f1fd86a1529c');\n",
              "          const dataTable =\n",
              "            await google.colab.kernel.invokeFunction('convertToInteractive',\n",
              "                                                     [key], {});\n",
              "          if (!dataTable) return;\n",
              "\n",
              "          const docLinkHtml = 'Like what you see? Visit the ' +\n",
              "            '<a target=\"_blank\" href=https://colab.research.google.com/notebooks/data_table.ipynb>data table notebook</a>'\n",
              "            + ' to learn more about interactive tables.';\n",
              "          element.innerHTML = '';\n",
              "          dataTable['output_type'] = 'display_data';\n",
              "          await google.colab.output.renderOutput(dataTable, element);\n",
              "          const docLink = document.createElement('div');\n",
              "          docLink.innerHTML = docLinkHtml;\n",
              "          element.appendChild(docLink);\n",
              "        }\n",
              "      </script>\n",
              "    </div>\n",
              "  </div>\n",
              "  "
            ]
          },
          "metadata": {},
          "execution_count": 275
        }
      ]
    },
    {
      "cell_type": "code",
      "source": [
        "# Drawing a correlation heatmap between the numeric features.\n",
        "corr_df = df[features+[\"Price\"]].corr()\n",
        "plt.figure(figsize = (9, 7), dpi = 96)\n",
        "sns.heatmap(corr_df, cmap=\"YlGnBu\", annot = True)\n",
        "plt.show()"
      ],
      "metadata": {
        "colab": {
          "base_uri": "https://localhost:8080/",
          "height": 570
        },
        "id": "5ob4TS9zFDK_",
        "outputId": "d05af6a3-333b-40be-f2c3-fbeb2207cdd9"
      },
      "execution_count": null,
      "outputs": [
        {
          "output_type": "display_data",
          "data": {
            "text/plain": [
              "<Figure size 864x672 with 2 Axes>"
            ],
            "image/png": "[encoded data removed]"
          },
          "metadata": {
            "needs_background": "light"
          }
        }
      ]
    },
    {
      "cell_type": "markdown",
      "source": [
        "* The dependent variable, 'Price' has a moderate correlation with 3 features, 'Cylinder', 'Liter' and 'Cruise'. \n",
        "* But 'Cylinder' and 'Liter' are strongly related to each other(R = 0.96), so only one among them can be considered to build the model. As 'Cylinder' is  relatively more correlated with 'Price' variable, we will not consider 'Liter' for building the model.\n",
        "\n",
        "* 'Cruise' is weak to moderately related with 'Liter' and 'Cylinder'. We shall ignore 'Liter'as we are not taking that feature into consideration. Among 'Cruise' and 'Cylinder, 'Cylinder' is relatively more related to 'Price'. So, we will omit 'Cruise' as well. "
      ],
      "metadata": {
        "id": "4EnTEHnPG1VR"
      }
    },
    {
      "cell_type": "markdown",
      "source": [
        "`Final Thoughts:` The features that can be included in building the model would be `Cylinder` , `Doors` , `Mileage` , `Leather` , `Sound`."
      ],
      "metadata": {
        "id": "3uHLT2ydWOtI"
      }
    },
    {
      "cell_type": "markdown",
      "source": [
        "\n",
        "\n",
        "---\n",
        "\n",
        "\n",
        "## Tasks, Hard Mode\n",
        "\n",
        "1. Research dummy variables in scikit-learn to see how to use the make, model, and body type.\n",
        "2. Find the best combination of factors to predict price.\n",
        "\n",
        "\n",
        "---\n",
        "\n"
      ],
      "metadata": {
        "id": "wMoTpkjRa3Q_"
      }
    },
    {
      "cell_type": "code",
      "source": [
        "# Getting the information on the DataFrame.\n",
        "df.info()"
      ],
      "metadata": {
        "colab": {
          "base_uri": "https://localhost:8080/"
        },
        "id": "HtMvWh1qfCNu",
        "outputId": "604b67a8-bd4c-4332-a54a-9bac65f5ad14"
      },
      "execution_count": null,
      "outputs": [
        {
          "output_type": "stream",
          "name": "stdout",
          "text": [
            "<class 'pandas.core.frame.DataFrame'>\n",
            "RangeIndex: 804 entries, 0 to 803\n",
            "Data columns (total 12 columns):\n",
            " #   Column    Non-Null Count  Dtype  \n",
            "---  ------    --------------  -----  \n",
            " 0   Price     804 non-null    float64\n",
            " 1   Mileage   804 non-null    int64  \n",
            " 2   Make      804 non-null    object \n",
            " 3   Model     804 non-null    object \n",
            " 4   Trim      804 non-null    object \n",
            " 5   Type      804 non-null    object \n",
            " 6   Cylinder  804 non-null    int64  \n",
            " 7   Liter     804 non-null    float64\n",
            " 8   Doors     804 non-null    int64  \n",
            " 9   Cruise    804 non-null    int64  \n",
            " 10  Sound     804 non-null    int64  \n",
            " 11  Leather   804 non-null    int64  \n",
            "dtypes: float64(2), int64(6), object(4)\n",
            "memory usage: 75.5+ KB\n"
          ]
        }
      ]
    },
    {
      "cell_type": "code",
      "source": [
        "# Creating a DataFrame containing all the non-numeric type features except 'Trim'.\n",
        "cat_df = df.select_dtypes(include = ['object'])\n",
        "cat_df=cat_df.drop(\"Trim\", axis=1)\n",
        "cat_df.head()"
      ],
      "metadata": {
        "colab": {
          "base_uri": "https://localhost:8080/",
          "height": 206
        },
        "id": "U4ZGriKqfLDs",
        "outputId": "ba328c0f-c85a-4d54-888a-24e27fa7f34c"
      },
      "execution_count": null,
      "outputs": [
        {
          "output_type": "execute_result",
          "data": {
            "text/plain": [
              "    Make    Model   Type\n",
              "0  Buick  Century  Sedan\n",
              "1  Buick  Century  Sedan\n",
              "2  Buick  Century  Sedan\n",
              "3  Buick  Century  Sedan\n",
              "4  Buick  Century  Sedan"
            ],
            "text/html": [
              "\n",
              "  <div id=\"df-8a50bb37-7a3b-42d5-bb8b-231ed4a6aea5\">\n",
              "    <div class=\"colab-df-container\">\n",
              "      <div>\n",
              "<style scoped>\n",
              "    .dataframe tbody tr th:only-of-type {\n",
              "        vertical-align: middle;\n",
              "    }\n",
              "\n",
              "    .dataframe tbody tr th {\n",
              "        vertical-align: top;\n",
              "    }\n",
              "\n",
              "    .dataframe thead th {\n",
              "        text-align: right;\n",
              "    }\n",
              "</style>\n",
              "<table border=\"1\" class=\"dataframe\">\n",
              "  <thead>\n",
              "    <tr style=\"text-align: right;\">\n",
              "      <th></th>\n",
              "      <th>Make</th>\n",
              "      <th>Model</th>\n",
              "      <th>Type</th>\n",
              "    </tr>\n",
              "  </thead>\n",
              "  <tbody>\n",
              "    <tr>\n",
              "      <th>0</th>\n",
              "      <td>Buick</td>\n",
              "      <td>Century</td>\n",
              "      <td>Sedan</td>\n",
              "    </tr>\n",
              "    <tr>\n",
              "      <th>1</th>\n",
              "      <td>Buick</td>\n",
              "      <td>Century</td>\n",
              "      <td>Sedan</td>\n",
              "    </tr>\n",
              "    <tr>\n",
              "      <th>2</th>\n",
              "      <td>Buick</td>\n",
              "      <td>Century</td>\n",
              "      <td>Sedan</td>\n",
              "    </tr>\n",
              "    <tr>\n",
              "      <th>3</th>\n",
              "      <td>Buick</td>\n",
              "      <td>Century</td>\n",
              "      <td>Sedan</td>\n",
              "    </tr>\n",
              "    <tr>\n",
              "      <th>4</th>\n",
              "      <td>Buick</td>\n",
              "      <td>Century</td>\n",
              "      <td>Sedan</td>\n",
              "    </tr>\n",
              "  </tbody>\n",
              "</table>\n",
              "</div>\n",
              "      <button class=\"colab-df-convert\" onclick=\"convertToInteractive('df-8a50bb37-7a3b-42d5-bb8b-231ed4a6aea5')\"\n",
              "              title=\"Convert this dataframe to an interactive table.\"\n",
              "              style=\"display:none;\">\n",
              "        \n",
              "  <svg xmlns=\"http://www.w3.org/2000/svg\" height=\"24px\"viewBox=\"0 0 24 24\"\n",
              "       width=\"24px\">\n",
              "    <path d=\"M0 0h24v24H0V0z\" fill=\"none\"/>\n",
              "    <path d=\"M18.56 5.44l.94 2.06.94-2.06 2.06-.94-2.06-.94-.94-2.06-.94 2.06-2.06.94zm-11 1L8.5 8.5l.94-2.06 2.06-.94-2.06-.94L8.5 2.5l-.94 2.06-2.06.94zm10 10l.94 2.06.94-2.06 2.06-.94-2.06-.94-.94-2.06-.94 2.06-2.06.94z\"/><path d=\"M17.41 7.96l-1.37-1.37c-.4-.4-.92-.59-1.43-.59-.52 0-1.04.2-1.43.59L10.3 9.45l-7.72 7.72c-.78.78-.78 2.05 0 2.83L4 21.41c.39.39.9.59 1.41.59.51 0 1.02-.2 1.41-.59l7.78-7.78 2.81-2.81c.8-.78.8-2.07 0-2.86zM5.41 20L4 18.59l7.72-7.72 1.47 1.35L5.41 20z\"/>\n",
              "  </svg>\n",
              "      </button>\n",
              "      \n",
              "  <style>\n",
              "    .colab-df-container {\n",
              "      display:flex;\n",
              "      flex-wrap:wrap;\n",
              "      gap: 12px;\n",
              "    }\n",
              "\n",
              "    .colab-df-convert {\n",
              "      background-color: #E8F0FE;\n",
              "      border: none;\n",
              "      border-radius: 50%;\n",
              "      cursor: pointer;\n",
              "      display: none;\n",
              "      fill: #1967D2;\n",
              "      height: 32px;\n",
              "      padding: 0 0 0 0;\n",
              "      width: 32px;\n",
              "    }\n",
              "\n",
              "    .colab-df-convert:hover {\n",
              "      background-color: #E2EBFA;\n",
              "      box-shadow: 0px 1px 2px rgba(60, 64, 67, 0.3), 0px 1px 3px 1px rgba(60, 64, 67, 0.15);\n",
              "      fill: #174EA6;\n",
              "    }\n",
              "\n",
              "    [theme=dark] .colab-df-convert {\n",
              "      background-color: #3B4455;\n",
              "      fill: #D2E3FC;\n",
              "    }\n",
              "\n",
              "    [theme=dark] .colab-df-convert:hover {\n",
              "      background-color: #434B5C;\n",
              "      box-shadow: 0px 1px 3px 1px rgba(0, 0, 0, 0.15);\n",
              "      filter: drop-shadow(0px 1px 2px rgba(0, 0, 0, 0.3));\n",
              "      fill: #FFFFFF;\n",
              "    }\n",
              "  </style>\n",
              "\n",
              "      <script>\n",
              "        const buttonEl =\n",
              "          document.querySelector('#df-8a50bb37-7a3b-42d5-bb8b-231ed4a6aea5 button.colab-df-convert');\n",
              "        buttonEl.style.display =\n",
              "          google.colab.kernel.accessAllowed ? 'block' : 'none';\n",
              "\n",
              "        async function convertToInteractive(key) {\n",
              "          const element = document.querySelector('#df-8a50bb37-7a3b-42d5-bb8b-231ed4a6aea5');\n",
              "          const dataTable =\n",
              "            await google.colab.kernel.invokeFunction('convertToInteractive',\n",
              "                                                     [key], {});\n",
              "          if (!dataTable) return;\n",
              "\n",
              "          const docLinkHtml = 'Like what you see? Visit the ' +\n",
              "            '<a target=\"_blank\" href=https://colab.research.google.com/notebooks/data_table.ipynb>data table notebook</a>'\n",
              "            + ' to learn more about interactive tables.';\n",
              "          element.innerHTML = '';\n",
              "          dataTable['output_type'] = 'display_data';\n",
              "          await google.colab.output.renderOutput(dataTable, element);\n",
              "          const docLink = document.createElement('div');\n",
              "          docLink.innerHTML = docLinkHtml;\n",
              "          element.appendChild(docLink);\n",
              "        }\n",
              "      </script>\n",
              "    </div>\n",
              "  </div>\n",
              "  "
            ]
          },
          "metadata": {},
          "execution_count": 278
        }
      ]
    },
    {
      "cell_type": "code",
      "source": [
        "# Getting the count of each of the values in the 'Make' column.\n",
        "cat_df[\"Make\"].value_counts()"
      ],
      "metadata": {
        "colab": {
          "base_uri": "https://localhost:8080/"
        },
        "id": "rawuZv3aiUYU",
        "outputId": "61393ead-11c2-45c6-ab10-f6c9593d54da"
      },
      "execution_count": null,
      "outputs": [
        {
          "output_type": "execute_result",
          "data": {
            "text/plain": [
              "Chevrolet    320\n",
              "Pontiac      150\n",
              "SAAB         114\n",
              "Buick         80\n",
              "Cadillac      80\n",
              "Saturn        60\n",
              "Name: Make, dtype: int64"
            ]
          },
          "metadata": {},
          "execution_count": 279
        }
      ]
    },
    {
      "cell_type": "code",
      "source": [
        "# Getting the count of each of the values in the 'Model' column.\n",
        "cat_df[\"Model\"].value_counts()"
      ],
      "metadata": {
        "colab": {
          "base_uri": "https://localhost:8080/"
        },
        "id": "YXM5V8WbicBr",
        "outputId": "cff76eea-c0dd-4313-e403-1beafaba1b47"
      },
      "execution_count": null,
      "outputs": [
        {
          "output_type": "execute_result",
          "data": {
            "text/plain": [
              "Malibu         60\n",
              "AVEO           60\n",
              "Cavalier       60\n",
              "Ion            50\n",
              "Cobalt         50\n",
              "9_3 HO         40\n",
              "Vibe           30\n",
              "Bonneville     30\n",
              "Monte Carlo    30\n",
              "Lacrosse       30\n",
              "Impala         30\n",
              "Grand Prix     30\n",
              "9_5            30\n",
              "Deville        30\n",
              "Lesabre        20\n",
              "Corvette       20\n",
              "9_3            20\n",
              "9_5 HO         20\n",
              "G6             20\n",
              "Grand Am       20\n",
              "Park Avenue    20\n",
              "Sunfire        10\n",
              "Century        10\n",
              "GTO            10\n",
              "Classic        10\n",
              "XLR-V8         10\n",
              "STS-V8         10\n",
              "STS-V6         10\n",
              "CTS            10\n",
              "CST-V          10\n",
              "L Series       10\n",
              "9-2X AWD        4\n",
              "Name: Model, dtype: int64"
            ]
          },
          "metadata": {},
          "execution_count": 280
        }
      ]
    },
    {
      "cell_type": "code",
      "source": [
        "# Getting the count of each of the values in the 'Type' column.\n",
        "cat_df[\"Type\"].value_counts()"
      ],
      "metadata": {
        "colab": {
          "base_uri": "https://localhost:8080/"
        },
        "id": "QG1lWFAbif4j",
        "outputId": "574e2797-bcf0-473a-9906-a84016efacd5"
      },
      "execution_count": null,
      "outputs": [
        {
          "output_type": "execute_result",
          "data": {
            "text/plain": [
              "Sedan          490\n",
              "Coupe          140\n",
              "Wagon           64\n",
              "Hatchback       60\n",
              "Convertible     50\n",
              "Name: Type, dtype: int64"
            ]
          },
          "metadata": {},
          "execution_count": 281
        }
      ]
    },
    {
      "cell_type": "markdown",
      "source": [
        "For example, for the \"Make\" column, for each categorical value (i.e., Chevrolet, Pontiac, SAAB, Buick, Cadillac, Saturn) we will add a new column. This process of obtaining numeric values from non-numeric categorical values is called `one-hot encoding`.\n",
        "\n",
        "Here for 5 categorical values, we added 5 new dummy columns. In general, for  n  categorical values in a column, we can add  n  new dummy columns.\n",
        "\n",
        "We can do the same thing with one less column i.e. for  n  categorical values, we can add only  n−1  columns to convey the same information. To have a one column less, pass drop_first = True as another input to the get_dummies() function of the Pandas module.\n",
        "\n",
        "This process of having one less dummy variable by encoding non-numeric categorical values to numeric values is called `dummy coding`"
      ],
      "metadata": {
        "id": "R_3-NbIvjj1T"
      }
    },
    {
      "cell_type": "code",
      "source": [
        "# Get dummy variables for all the columns in cat_df DataFrame using the dummy coding process.\n",
        "dummies_df = pd.get_dummies(cat_df, drop_first = True, dtype = int)\n",
        "dummies_df.head()"
      ],
      "metadata": {
        "colab": {
          "base_uri": "https://localhost:8080/",
          "height": 317
        },
        "id": "KQRjkKdyiA4c",
        "outputId": "aea927da-3cd3-4baf-b40d-c5847af9715d"
      },
      "execution_count": null,
      "outputs": [
        {
          "output_type": "execute_result",
          "data": {
            "text/plain": [
              "   Make_Cadillac  Make_Chevrolet  Make_Pontiac  Make_SAAB  Make_Saturn  \\\n",
              "0              0               0             0          0            0   \n",
              "1              0               0             0          0            0   \n",
              "2              0               0             0          0            0   \n",
              "3              0               0             0          0            0   \n",
              "4              0               0             0          0            0   \n",
              "\n",
              "   Model_9_3  Model_9_3 HO  Model_9_5  Model_9_5 HO  Model_AVEO  ...  \\\n",
              "0          0             0          0             0           0  ...   \n",
              "1          0             0          0             0           0  ...   \n",
              "2          0             0          0             0           0  ...   \n",
              "3          0             0          0             0           0  ...   \n",
              "4          0             0          0             0           0  ...   \n",
              "\n",
              "   Model_Park Avenue  Model_STS-V6  Model_STS-V8  Model_Sunfire  Model_Vibe  \\\n",
              "0                  0             0             0              0           0   \n",
              "1                  0             0             0              0           0   \n",
              "2                  0             0             0              0           0   \n",
              "3                  0             0             0              0           0   \n",
              "4                  0             0             0              0           0   \n",
              "\n",
              "   Model_XLR-V8  Type_Coupe  Type_Hatchback  Type_Sedan  Type_Wagon  \n",
              "0             0           0               0           1           0  \n",
              "1             0           0               0           1           0  \n",
              "2             0           0               0           1           0  \n",
              "3             0           0               0           1           0  \n",
              "4             0           0               0           1           0  \n",
              "\n",
              "[5 rows x 40 columns]"
            ],
            "text/html": [
              "\n",
              "  <div id=\"df-5f84bab9-2404-4683-9417-efa68b646235\">\n",
              "    <div class=\"colab-df-container\">\n",
              "      <div>\n",
              "<style scoped>\n",
              "    .dataframe tbody tr th:only-of-type {\n",
              "        vertical-align: middle;\n",
              "    }\n",
              "\n",
              "    .dataframe tbody tr th {\n",
              "        vertical-align: top;\n",
              "    }\n",
              "\n",
              "    .dataframe thead th {\n",
              "        text-align: right;\n",
              "    }\n",
              "</style>\n",
              "<table border=\"1\" class=\"dataframe\">\n",
              "  <thead>\n",
              "    <tr style=\"text-align: right;\">\n",
              "      <th></th>\n",
              "      <th>Make_Cadillac</th>\n",
              "      <th>Make_Chevrolet</th>\n",
              "      <th>Make_Pontiac</th>\n",
              "      <th>Make_SAAB</th>\n",
              "      <th>Make_Saturn</th>\n",
              "      <th>Model_9_3</th>\n",
              "      <th>Model_9_3 HO</th>\n",
              "      <th>Model_9_5</th>\n",
              "      <th>Model_9_5 HO</th>\n",
              "      <th>Model_AVEO</th>\n",
              "      <th>...</th>\n",
              "      <th>Model_Park Avenue</th>\n",
              "      <th>Model_STS-V6</th>\n",
              "      <th>Model_STS-V8</th>\n",
              "      <th>Model_Sunfire</th>\n",
              "      <th>Model_Vibe</th>\n",
              "      <th>Model_XLR-V8</th>\n",
              "      <th>Type_Coupe</th>\n",
              "      <th>Type_Hatchback</th>\n",
              "      <th>Type_Sedan</th>\n",
              "      <th>Type_Wagon</th>\n",
              "    </tr>\n",
              "  </thead>\n",
              "  <tbody>\n",
              "    <tr>\n",
              "      <th>0</th>\n",
              "      <td>0</td>\n",
              "      <td>0</td>\n",
              "      <td>0</td>\n",
              "      <td>0</td>\n",
              "      <td>0</td>\n",
              "      <td>0</td>\n",
              "      <td>0</td>\n",
              "      <td>0</td>\n",
              "      <td>0</td>\n",
              "      <td>0</td>\n",
              "      <td>...</td>\n",
              "      <td>0</td>\n",
              "      <td>0</td>\n",
              "      <td>0</td>\n",
              "      <td>0</td>\n",
              "      <td>0</td>\n",
              "      <td>0</td>\n",
              "      <td>0</td>\n",
              "      <td>0</td>\n",
              "      <td>1</td>\n",
              "      <td>0</td>\n",
              "    </tr>\n",
              "    <tr>\n",
              "      <th>1</th>\n",
              "      <td>0</td>\n",
              "      <td>0</td>\n",
              "      <td>0</td>\n",
              "      <td>0</td>\n",
              "      <td>0</td>\n",
              "      <td>0</td>\n",
              "      <td>0</td>\n",
              "      <td>0</td>\n",
              "      <td>0</td>\n",
              "      <td>0</td>\n",
              "      <td>...</td>\n",
              "      <td>0</td>\n",
              "      <td>0</td>\n",
              "      <td>0</td>\n",
              "      <td>0</td>\n",
              "      <td>0</td>\n",
              "      <td>0</td>\n",
              "      <td>0</td>\n",
              "      <td>0</td>\n",
              "      <td>1</td>\n",
              "      <td>0</td>\n",
              "    </tr>\n",
              "    <tr>\n",
              "      <th>2</th>\n",
              "      <td>0</td>\n",
              "      <td>0</td>\n",
              "      <td>0</td>\n",
              "      <td>0</td>\n",
              "      <td>0</td>\n",
              "      <td>0</td>\n",
              "      <td>0</td>\n",
              "      <td>0</td>\n",
              "      <td>0</td>\n",
              "      <td>0</td>\n",
              "      <td>...</td>\n",
              "      <td>0</td>\n",
              "      <td>0</td>\n",
              "      <td>0</td>\n",
              "      <td>0</td>\n",
              "      <td>0</td>\n",
              "      <td>0</td>\n",
              "      <td>0</td>\n",
              "      <td>0</td>\n",
              "      <td>1</td>\n",
              "      <td>0</td>\n",
              "    </tr>\n",
              "    <tr>\n",
              "      <th>3</th>\n",
              "      <td>0</td>\n",
              "      <td>0</td>\n",
              "      <td>0</td>\n",
              "      <td>0</td>\n",
              "      <td>0</td>\n",
              "      <td>0</td>\n",
              "      <td>0</td>\n",
              "      <td>0</td>\n",
              "      <td>0</td>\n",
              "      <td>0</td>\n",
              "      <td>...</td>\n",
              "      <td>0</td>\n",
              "      <td>0</td>\n",
              "      <td>0</td>\n",
              "      <td>0</td>\n",
              "      <td>0</td>\n",
              "      <td>0</td>\n",
              "      <td>0</td>\n",
              "      <td>0</td>\n",
              "      <td>1</td>\n",
              "      <td>0</td>\n",
              "    </tr>\n",
              "    <tr>\n",
              "      <th>4</th>\n",
              "      <td>0</td>\n",
              "      <td>0</td>\n",
              "      <td>0</td>\n",
              "      <td>0</td>\n",
              "      <td>0</td>\n",
              "      <td>0</td>\n",
              "      <td>0</td>\n",
              "      <td>0</td>\n",
              "      <td>0</td>\n",
              "      <td>0</td>\n",
              "      <td>...</td>\n",
              "      <td>0</td>\n",
              "      <td>0</td>\n",
              "      <td>0</td>\n",
              "      <td>0</td>\n",
              "      <td>0</td>\n",
              "      <td>0</td>\n",
              "      <td>0</td>\n",
              "      <td>0</td>\n",
              "      <td>1</td>\n",
              "      <td>0</td>\n",
              "    </tr>\n",
              "  </tbody>\n",
              "</table>\n",
              "<p>5 rows × 40 columns</p>\n",
              "</div>\n",
              "      <button class=\"colab-df-convert\" onclick=\"convertToInteractive('df-5f84bab9-2404-4683-9417-efa68b646235')\"\n",
              "              title=\"Convert this dataframe to an interactive table.\"\n",
              "              style=\"display:none;\">\n",
              "        \n",
              "  <svg xmlns=\"http://www.w3.org/2000/svg\" height=\"24px\"viewBox=\"0 0 24 24\"\n",
              "       width=\"24px\">\n",
              "    <path d=\"M0 0h24v24H0V0z\" fill=\"none\"/>\n",
              "    <path d=\"M18.56 5.44l.94 2.06.94-2.06 2.06-.94-2.06-.94-.94-2.06-.94 2.06-2.06.94zm-11 1L8.5 8.5l.94-2.06 2.06-.94-2.06-.94L8.5 2.5l-.94 2.06-2.06.94zm10 10l.94 2.06.94-2.06 2.06-.94-2.06-.94-.94-2.06-.94 2.06-2.06.94z\"/><path d=\"M17.41 7.96l-1.37-1.37c-.4-.4-.92-.59-1.43-.59-.52 0-1.04.2-1.43.59L10.3 9.45l-7.72 7.72c-.78.78-.78 2.05 0 2.83L4 21.41c.39.39.9.59 1.41.59.51 0 1.02-.2 1.41-.59l7.78-7.78 2.81-2.81c.8-.78.8-2.07 0-2.86zM5.41 20L4 18.59l7.72-7.72 1.47 1.35L5.41 20z\"/>\n",
              "  </svg>\n",
              "      </button>\n",
              "      \n",
              "  <style>\n",
              "    .colab-df-container {\n",
              "      display:flex;\n",
              "      flex-wrap:wrap;\n",
              "      gap: 12px;\n",
              "    }\n",
              "\n",
              "    .colab-df-convert {\n",
              "      background-color: #E8F0FE;\n",
              "      border: none;\n",
              "      border-radius: 50%;\n",
              "      cursor: pointer;\n",
              "      display: none;\n",
              "      fill: #1967D2;\n",
              "      height: 32px;\n",
              "      padding: 0 0 0 0;\n",
              "      width: 32px;\n",
              "    }\n",
              "\n",
              "    .colab-df-convert:hover {\n",
              "      background-color: #E2EBFA;\n",
              "      box-shadow: 0px 1px 2px rgba(60, 64, 67, 0.3), 0px 1px 3px 1px rgba(60, 64, 67, 0.15);\n",
              "      fill: #174EA6;\n",
              "    }\n",
              "\n",
              "    [theme=dark] .colab-df-convert {\n",
              "      background-color: #3B4455;\n",
              "      fill: #D2E3FC;\n",
              "    }\n",
              "\n",
              "    [theme=dark] .colab-df-convert:hover {\n",
              "      background-color: #434B5C;\n",
              "      box-shadow: 0px 1px 3px 1px rgba(0, 0, 0, 0.15);\n",
              "      filter: drop-shadow(0px 1px 2px rgba(0, 0, 0, 0.3));\n",
              "      fill: #FFFFFF;\n",
              "    }\n",
              "  </style>\n",
              "\n",
              "      <script>\n",
              "        const buttonEl =\n",
              "          document.querySelector('#df-5f84bab9-2404-4683-9417-efa68b646235 button.colab-df-convert');\n",
              "        buttonEl.style.display =\n",
              "          google.colab.kernel.accessAllowed ? 'block' : 'none';\n",
              "\n",
              "        async function convertToInteractive(key) {\n",
              "          const element = document.querySelector('#df-5f84bab9-2404-4683-9417-efa68b646235');\n",
              "          const dataTable =\n",
              "            await google.colab.kernel.invokeFunction('convertToInteractive',\n",
              "                                                     [key], {});\n",
              "          if (!dataTable) return;\n",
              "\n",
              "          const docLinkHtml = 'Like what you see? Visit the ' +\n",
              "            '<a target=\"_blank\" href=https://colab.research.google.com/notebooks/data_table.ipynb>data table notebook</a>'\n",
              "            + ' to learn more about interactive tables.';\n",
              "          element.innerHTML = '';\n",
              "          dataTable['output_type'] = 'display_data';\n",
              "          await google.colab.output.renderOutput(dataTable, element);\n",
              "          const docLink = document.createElement('div');\n",
              "          docLink.innerHTML = docLinkHtml;\n",
              "          element.appendChild(docLink);\n",
              "        }\n",
              "      </script>\n",
              "    </div>\n",
              "  </div>\n",
              "  "
            ]
          },
          "metadata": {},
          "execution_count": 282
        }
      ]
    },
    {
      "cell_type": "code",
      "source": [
        "# Concatenate the DataFrames together.\n",
        "cars_df = pd.concat([df[features], dummies_df], axis = 1)\n",
        "cars_df.head()"
      ],
      "metadata": {
        "colab": {
          "base_uri": "https://localhost:8080/",
          "height": 317
        },
        "id": "eTdZAom8-qQl",
        "outputId": "8471b1dc-caee-4bc3-c533-f14af30e16da"
      },
      "execution_count": null,
      "outputs": [
        {
          "output_type": "execute_result",
          "data": {
            "text/plain": [
              "   Mileage  Cylinder  Liter  Doors  Cruise  Sound  Leather  Make_Cadillac  \\\n",
              "0     8221         6    3.1      4       1      1        1              0   \n",
              "1     9135         6    3.1      4       1      1        0              0   \n",
              "2    13196         6    3.1      4       1      1        0              0   \n",
              "3    16342         6    3.1      4       1      0        0              0   \n",
              "4    19832         6    3.1      4       1      0        1              0   \n",
              "\n",
              "   Make_Chevrolet  Make_Pontiac  ...  Model_Park Avenue  Model_STS-V6  \\\n",
              "0               0             0  ...                  0             0   \n",
              "1               0             0  ...                  0             0   \n",
              "2               0             0  ...                  0             0   \n",
              "3               0             0  ...                  0             0   \n",
              "4               0             0  ...                  0             0   \n",
              "\n",
              "   Model_STS-V8  Model_Sunfire  Model_Vibe  Model_XLR-V8  Type_Coupe  \\\n",
              "0             0              0           0             0           0   \n",
              "1             0              0           0             0           0   \n",
              "2             0              0           0             0           0   \n",
              "3             0              0           0             0           0   \n",
              "4             0              0           0             0           0   \n",
              "\n",
              "   Type_Hatchback  Type_Sedan  Type_Wagon  \n",
              "0               0           1           0  \n",
              "1               0           1           0  \n",
              "2               0           1           0  \n",
              "3               0           1           0  \n",
              "4               0           1           0  \n",
              "\n",
              "[5 rows x 47 columns]"
            ],
            "text/html": [
              "\n",
              "  <div id=\"df-4391e4be-aa71-4082-9f8d-d4e19eaa2bf0\">\n",
              "    <div class=\"colab-df-container\">\n",
              "      <div>\n",
              "<style scoped>\n",
              "    .dataframe tbody tr th:only-of-type {\n",
              "        vertical-align: middle;\n",
              "    }\n",
              "\n",
              "    .dataframe tbody tr th {\n",
              "        vertical-align: top;\n",
              "    }\n",
              "\n",
              "    .dataframe thead th {\n",
              "        text-align: right;\n",
              "    }\n",
              "</style>\n",
              "<table border=\"1\" class=\"dataframe\">\n",
              "  <thead>\n",
              "    <tr style=\"text-align: right;\">\n",
              "      <th></th>\n",
              "      <th>Mileage</th>\n",
              "      <th>Cylinder</th>\n",
              "      <th>Liter</th>\n",
              "      <th>Doors</th>\n",
              "      <th>Cruise</th>\n",
              "      <th>Sound</th>\n",
              "      <th>Leather</th>\n",
              "      <th>Make_Cadillac</th>\n",
              "      <th>Make_Chevrolet</th>\n",
              "      <th>Make_Pontiac</th>\n",
              "      <th>...</th>\n",
              "      <th>Model_Park Avenue</th>\n",
              "      <th>Model_STS-V6</th>\n",
              "      <th>Model_STS-V8</th>\n",
              "      <th>Model_Sunfire</th>\n",
              "      <th>Model_Vibe</th>\n",
              "      <th>Model_XLR-V8</th>\n",
              "      <th>Type_Coupe</th>\n",
              "      <th>Type_Hatchback</th>\n",
              "      <th>Type_Sedan</th>\n",
              "      <th>Type_Wagon</th>\n",
              "    </tr>\n",
              "  </thead>\n",
              "  <tbody>\n",
              "    <tr>\n",
              "      <th>0</th>\n",
              "      <td>8221</td>\n",
              "      <td>6</td>\n",
              "      <td>3.1</td>\n",
              "      <td>4</td>\n",
              "      <td>1</td>\n",
              "      <td>1</td>\n",
              "      <td>1</td>\n",
              "      <td>0</td>\n",
              "      <td>0</td>\n",
              "      <td>0</td>\n",
              "      <td>...</td>\n",
              "      <td>0</td>\n",
              "      <td>0</td>\n",
              "      <td>0</td>\n",
              "      <td>0</td>\n",
              "      <td>0</td>\n",
              "      <td>0</td>\n",
              "      <td>0</td>\n",
              "      <td>0</td>\n",
              "      <td>1</td>\n",
              "      <td>0</td>\n",
              "    </tr>\n",
              "    <tr>\n",
              "      <th>1</th>\n",
              "      <td>9135</td>\n",
              "      <td>6</td>\n",
              "      <td>3.1</td>\n",
              "      <td>4</td>\n",
              "      <td>1</td>\n",
              "      <td>1</td>\n",
              "      <td>0</td>\n",
              "      <td>0</td>\n",
              "      <td>0</td>\n",
              "      <td>0</td>\n",
              "      <td>...</td>\n",
              "      <td>0</td>\n",
              "      <td>0</td>\n",
              "      <td>0</td>\n",
              "      <td>0</td>\n",
              "      <td>0</td>\n",
              "      <td>0</td>\n",
              "      <td>0</td>\n",
              "      <td>0</td>\n",
              "      <td>1</td>\n",
              "      <td>0</td>\n",
              "    </tr>\n",
              "    <tr>\n",
              "      <th>2</th>\n",
              "      <td>13196</td>\n",
              "      <td>6</td>\n",
              "      <td>3.1</td>\n",
              "      <td>4</td>\n",
              "      <td>1</td>\n",
              "      <td>1</td>\n",
              "      <td>0</td>\n",
              "      <td>0</td>\n",
              "      <td>0</td>\n",
              "      <td>0</td>\n",
              "      <td>...</td>\n",
              "      <td>0</td>\n",
              "      <td>0</td>\n",
              "      <td>0</td>\n",
              "      <td>0</td>\n",
              "      <td>0</td>\n",
              "      <td>0</td>\n",
              "      <td>0</td>\n",
              "      <td>0</td>\n",
              "      <td>1</td>\n",
              "      <td>0</td>\n",
              "    </tr>\n",
              "    <tr>\n",
              "      <th>3</th>\n",
              "      <td>16342</td>\n",
              "      <td>6</td>\n",
              "      <td>3.1</td>\n",
              "      <td>4</td>\n",
              "      <td>1</td>\n",
              "      <td>0</td>\n",
              "      <td>0</td>\n",
              "      <td>0</td>\n",
              "      <td>0</td>\n",
              "      <td>0</td>\n",
              "      <td>...</td>\n",
              "      <td>0</td>\n",
              "      <td>0</td>\n",
              "      <td>0</td>\n",
              "      <td>0</td>\n",
              "      <td>0</td>\n",
              "      <td>0</td>\n",
              "      <td>0</td>\n",
              "      <td>0</td>\n",
              "      <td>1</td>\n",
              "      <td>0</td>\n",
              "    </tr>\n",
              "    <tr>\n",
              "      <th>4</th>\n",
              "      <td>19832</td>\n",
              "      <td>6</td>\n",
              "      <td>3.1</td>\n",
              "      <td>4</td>\n",
              "      <td>1</td>\n",
              "      <td>0</td>\n",
              "      <td>1</td>\n",
              "      <td>0</td>\n",
              "      <td>0</td>\n",
              "      <td>0</td>\n",
              "      <td>...</td>\n",
              "      <td>0</td>\n",
              "      <td>0</td>\n",
              "      <td>0</td>\n",
              "      <td>0</td>\n",
              "      <td>0</td>\n",
              "      <td>0</td>\n",
              "      <td>0</td>\n",
              "      <td>0</td>\n",
              "      <td>1</td>\n",
              "      <td>0</td>\n",
              "    </tr>\n",
              "  </tbody>\n",
              "</table>\n",
              "<p>5 rows × 47 columns</p>\n",
              "</div>\n",
              "      <button class=\"colab-df-convert\" onclick=\"convertToInteractive('df-4391e4be-aa71-4082-9f8d-d4e19eaa2bf0')\"\n",
              "              title=\"Convert this dataframe to an interactive table.\"\n",
              "              style=\"display:none;\">\n",
              "        \n",
              "  <svg xmlns=\"http://www.w3.org/2000/svg\" height=\"24px\"viewBox=\"0 0 24 24\"\n",
              "       width=\"24px\">\n",
              "    <path d=\"M0 0h24v24H0V0z\" fill=\"none\"/>\n",
              "    <path d=\"M18.56 5.44l.94 2.06.94-2.06 2.06-.94-2.06-.94-.94-2.06-.94 2.06-2.06.94zm-11 1L8.5 8.5l.94-2.06 2.06-.94-2.06-.94L8.5 2.5l-.94 2.06-2.06.94zm10 10l.94 2.06.94-2.06 2.06-.94-2.06-.94-.94-2.06-.94 2.06-2.06.94z\"/><path d=\"M17.41 7.96l-1.37-1.37c-.4-.4-.92-.59-1.43-.59-.52 0-1.04.2-1.43.59L10.3 9.45l-7.72 7.72c-.78.78-.78 2.05 0 2.83L4 21.41c.39.39.9.59 1.41.59.51 0 1.02-.2 1.41-.59l7.78-7.78 2.81-2.81c.8-.78.8-2.07 0-2.86zM5.41 20L4 18.59l7.72-7.72 1.47 1.35L5.41 20z\"/>\n",
              "  </svg>\n",
              "      </button>\n",
              "      \n",
              "  <style>\n",
              "    .colab-df-container {\n",
              "      display:flex;\n",
              "      flex-wrap:wrap;\n",
              "      gap: 12px;\n",
              "    }\n",
              "\n",
              "    .colab-df-convert {\n",
              "      background-color: #E8F0FE;\n",
              "      border: none;\n",
              "      border-radius: 50%;\n",
              "      cursor: pointer;\n",
              "      display: none;\n",
              "      fill: #1967D2;\n",
              "      height: 32px;\n",
              "      padding: 0 0 0 0;\n",
              "      width: 32px;\n",
              "    }\n",
              "\n",
              "    .colab-df-convert:hover {\n",
              "      background-color: #E2EBFA;\n",
              "      box-shadow: 0px 1px 2px rgba(60, 64, 67, 0.3), 0px 1px 3px 1px rgba(60, 64, 67, 0.15);\n",
              "      fill: #174EA6;\n",
              "    }\n",
              "\n",
              "    [theme=dark] .colab-df-convert {\n",
              "      background-color: #3B4455;\n",
              "      fill: #D2E3FC;\n",
              "    }\n",
              "\n",
              "    [theme=dark] .colab-df-convert:hover {\n",
              "      background-color: #434B5C;\n",
              "      box-shadow: 0px 1px 3px 1px rgba(0, 0, 0, 0.15);\n",
              "      filter: drop-shadow(0px 1px 2px rgba(0, 0, 0, 0.3));\n",
              "      fill: #FFFFFF;\n",
              "    }\n",
              "  </style>\n",
              "\n",
              "      <script>\n",
              "        const buttonEl =\n",
              "          document.querySelector('#df-4391e4be-aa71-4082-9f8d-d4e19eaa2bf0 button.colab-df-convert');\n",
              "        buttonEl.style.display =\n",
              "          google.colab.kernel.accessAllowed ? 'block' : 'none';\n",
              "\n",
              "        async function convertToInteractive(key) {\n",
              "          const element = document.querySelector('#df-4391e4be-aa71-4082-9f8d-d4e19eaa2bf0');\n",
              "          const dataTable =\n",
              "            await google.colab.kernel.invokeFunction('convertToInteractive',\n",
              "                                                     [key], {});\n",
              "          if (!dataTable) return;\n",
              "\n",
              "          const docLinkHtml = 'Like what you see? Visit the ' +\n",
              "            '<a target=\"_blank\" href=https://colab.research.google.com/notebooks/data_table.ipynb>data table notebook</a>'\n",
              "            + ' to learn more about interactive tables.';\n",
              "          element.innerHTML = '';\n",
              "          dataTable['output_type'] = 'display_data';\n",
              "          await google.colab.output.renderOutput(dataTable, element);\n",
              "          const docLink = document.createElement('div');\n",
              "          docLink.innerHTML = docLinkHtml;\n",
              "          element.appendChild(docLink);\n",
              "        }\n",
              "      </script>\n",
              "    </div>\n",
              "  </div>\n",
              "  "
            ]
          },
          "metadata": {},
          "execution_count": 283
        }
      ]
    },
    {
      "cell_type": "code",
      "source": [
        "# Get the data-types of all the columns and the number of rows and columns in the 'cars_df' DataFrame.\n",
        "cars_df.info()"
      ],
      "metadata": {
        "colab": {
          "base_uri": "https://localhost:8080/"
        },
        "id": "PC04YIC7_QnL",
        "outputId": "c857e701-49f9-4a44-9659-91f3cfbfa0ef"
      },
      "execution_count": null,
      "outputs": [
        {
          "output_type": "stream",
          "name": "stdout",
          "text": [
            "<class 'pandas.core.frame.DataFrame'>\n",
            "RangeIndex: 804 entries, 0 to 803\n",
            "Data columns (total 47 columns):\n",
            " #   Column             Non-Null Count  Dtype  \n",
            "---  ------             --------------  -----  \n",
            " 0   Mileage            804 non-null    int64  \n",
            " 1   Cylinder           804 non-null    int64  \n",
            " 2   Liter              804 non-null    float64\n",
            " 3   Doors              804 non-null    int64  \n",
            " 4   Cruise             804 non-null    int64  \n",
            " 5   Sound              804 non-null    int64  \n",
            " 6   Leather            804 non-null    int64  \n",
            " 7   Make_Cadillac      804 non-null    int64  \n",
            " 8   Make_Chevrolet     804 non-null    int64  \n",
            " 9   Make_Pontiac       804 non-null    int64  \n",
            " 10  Make_SAAB          804 non-null    int64  \n",
            " 11  Make_Saturn        804 non-null    int64  \n",
            " 12  Model_9_3          804 non-null    int64  \n",
            " 13  Model_9_3 HO       804 non-null    int64  \n",
            " 14  Model_9_5          804 non-null    int64  \n",
            " 15  Model_9_5 HO       804 non-null    int64  \n",
            " 16  Model_AVEO         804 non-null    int64  \n",
            " 17  Model_Bonneville   804 non-null    int64  \n",
            " 18  Model_CST-V        804 non-null    int64  \n",
            " 19  Model_CTS          804 non-null    int64  \n",
            " 20  Model_Cavalier     804 non-null    int64  \n",
            " 21  Model_Century      804 non-null    int64  \n",
            " 22  Model_Classic      804 non-null    int64  \n",
            " 23  Model_Cobalt       804 non-null    int64  \n",
            " 24  Model_Corvette     804 non-null    int64  \n",
            " 25  Model_Deville      804 non-null    int64  \n",
            " 26  Model_G6           804 non-null    int64  \n",
            " 27  Model_GTO          804 non-null    int64  \n",
            " 28  Model_Grand Am     804 non-null    int64  \n",
            " 29  Model_Grand Prix   804 non-null    int64  \n",
            " 30  Model_Impala       804 non-null    int64  \n",
            " 31  Model_Ion          804 non-null    int64  \n",
            " 32  Model_L Series     804 non-null    int64  \n",
            " 33  Model_Lacrosse     804 non-null    int64  \n",
            " 34  Model_Lesabre      804 non-null    int64  \n",
            " 35  Model_Malibu       804 non-null    int64  \n",
            " 36  Model_Monte Carlo  804 non-null    int64  \n",
            " 37  Model_Park Avenue  804 non-null    int64  \n",
            " 38  Model_STS-V6       804 non-null    int64  \n",
            " 39  Model_STS-V8       804 non-null    int64  \n",
            " 40  Model_Sunfire      804 non-null    int64  \n",
            " 41  Model_Vibe         804 non-null    int64  \n",
            " 42  Model_XLR-V8       804 non-null    int64  \n",
            " 43  Type_Coupe         804 non-null    int64  \n",
            " 44  Type_Hatchback     804 non-null    int64  \n",
            " 45  Type_Sedan         804 non-null    int64  \n",
            " 46  Type_Wagon         804 non-null    int64  \n",
            "dtypes: float64(1), int64(46)\n",
            "memory usage: 295.3 KB\n"
          ]
        }
      ]
    },
    {
      "cell_type": "code",
      "source": [
        "# Function to build a Linear Regression Model and calculate the R_squared Score & errors.\n",
        "def lin_reg(X, y):  \n",
        "    X_train, X_test, y_train, y_test = train_test_split(X, y, test_size=0.33)\n",
        "    mlr2=linear_model.LinearRegression().fit(X_train, y_train)\n",
        "    y_hat_test = mlr2.predict(X_test)\n",
        "    y_hat_train = mlr2.predict(X_train)\n",
        "    print('R_squared Score:', mlr2.score(X, y))\n",
        "\n",
        "    print(f\"\\nTrain Set\\n{'-' * 50}\")\n",
        "    print(f\"Mean Squared Error: {mean_squared_error(y_train, y_hat_train):.3f}\")\n",
        "    print(f\"Root Mean Squared Error: {np.sqrt(mean_squared_error(y_train, y_hat_train)):.3f}\")\n",
        "    print(f\"Mean Absolute Error: {mean_absolute_error(y_train, y_hat_train):.3f}\")\n",
        "          \n",
        "    print(f\"\\n\\nTest Set\\n{'-' * 50}\")\n",
        "    print(f\"Mean Squared Error: {mean_squared_error(y_test, y_hat_test):.3f}\")\n",
        "    print(f\"Root Mean Squared Error: {np.sqrt(mean_squared_error(y_test, y_hat_test)):.3f}\")\n",
        "    print(f\"Mean Absolute Error: {mean_absolute_error(y_test, y_hat_test):.3f}\")\n",
        "\n",
        "    #Compare predicted and actual values\n",
        "    print(f\"\\n{'-' * 50}\")\n",
        "    print('Mean Predicted Selling Price:', y_hat_test.mean())\n",
        "    print('Mean Selling Price:', y_test.mean())\n",
        "    print()\n",
        "    return mlr2\n",
        "\n",
        "mlr2 = lin_reg(cars_df,df[\"Price\"])"
      ],
      "metadata": {
        "colab": {
          "base_uri": "https://localhost:8080/"
        },
        "id": "lQukvlLRC3qj",
        "outputId": "a31ba9fa-4ab0-4984-9da3-87ffe92ead6f"
      },
      "execution_count": null,
      "outputs": [
        {
          "output_type": "stream",
          "name": "stdout",
          "text": [
            "R_squared Score: 0.9796704695421103\n",
            "\n",
            "Train Set\n",
            "--------------------------------------------------\n",
            "Mean Squared Error: 1787136.754\n",
            "Root Mean Squared Error: 1336.838\n",
            "Mean Absolute Error: 1014.762\n",
            "\n",
            "\n",
            "Test Set\n",
            "--------------------------------------------------\n",
            "Mean Squared Error: 2381968.042\n",
            "Root Mean Squared Error: 1543.363\n",
            "Mean Absolute Error: 1109.622\n",
            "\n",
            "--------------------------------------------------\n",
            "Mean Predicted Selling Price: 21522.343804344928\n",
            "Mean Selling Price: 21500.170186481206\n",
            "\n"
          ]
        }
      ]
    },
    {
      "cell_type": "markdown",
      "source": [
        "This model seems to be a good fit. The R² score is very high at around 98%, also the difference between the RMSEs, MSEs and MAEs is not very large and the Mean Prices are somewhat close to each other. Although it seems like a  good model, it is best to test it further using cross-validation."
      ],
      "metadata": {
        "id": "rNLxl7uSHd-q"
      }
    },
    {
      "cell_type": "code",
      "source": [
        "# Function to do cross validation.\n",
        "def cross_validation(X, y):\n",
        "    score = cross_val_score(mlr2, X, y,cv=5, scoring=\"r2\")\n",
        "    print('R_squared Mean Score:',score.mean())\n",
        "    print(score)\n",
        "cross_validation(cars_df,df[\"Price\"])"
      ],
      "metadata": {
        "colab": {
          "base_uri": "https://localhost:8080/"
        },
        "id": "QEOLmlt5C91L",
        "outputId": "55d08c97-f7c2-49e0-f482-691a6ab97bce"
      },
      "execution_count": null,
      "outputs": [
        {
          "output_type": "stream",
          "name": "stdout",
          "text": [
            "R_squared Mean Score: -0.7036244091203072\n",
            "[-0.40664314 -4.6553517   0.58913473  0.38232551  0.57241256]\n"
          ]
        }
      ]
    },
    {
      "cell_type": "markdown",
      "source": [
        "The result from the 5-fold cross-validation is terrible with a negative score. Either the intercept or the slope are constrained so that the line of best fit, fits worse than a horizontal line. "
      ],
      "metadata": {
        "id": "3RK7XFqXMXP4"
      }
    },
    {
      "cell_type": "code",
      "source": [
        "# Total number of features initially\n",
        "cars_df.shape[1]"
      ],
      "metadata": {
        "colab": {
          "base_uri": "https://localhost:8080/"
        },
        "id": "WdLtvtERR7R_",
        "outputId": "d464ce8d-29c3-4652-bd7b-a3779e675cd7"
      },
      "execution_count": null,
      "outputs": [
        {
          "output_type": "execute_result",
          "data": {
            "text/plain": [
              "47"
            ]
          },
          "metadata": {},
          "execution_count": 287
        }
      ]
    },
    {
      "cell_type": "code",
      "source": [
        "estimator = SVR(kernel=\"linear\")\n",
        "# Use RFE to remove not so significant features from the initial model.\n",
        "selector = RFE(estimator, n_features_to_select=36, step=1)\n",
        "selector = selector.fit(cars_df,df[\"Price\"])\n",
        "# Test the  new model\n",
        "# New dataframe contains only features selected through RFE (Recursive Feature Elimination)\n",
        "df_rfe = cars_df[cars_df.columns[selector.support_]]\n",
        "lin_reg(df_rfe,df[\"Price\"])\n",
        "cross_validation(df_rfe,df[\"Price\"])"
      ],
      "metadata": {
        "colab": {
          "base_uri": "https://localhost:8080/"
        },
        "id": "I4pmyMK0Ejf4",
        "outputId": "f472f322-318b-4454-b835-9d65d760abc8"
      },
      "execution_count": null,
      "outputs": [
        {
          "output_type": "stream",
          "name": "stdout",
          "text": [
            "R_squared Score: 0.9575248427370479\n",
            "\n",
            "Train Set\n",
            "--------------------------------------------------\n",
            "Mean Squared Error: 4116820.116\n",
            "Root Mean Squared Error: 2028.995\n",
            "Mean Absolute Error: 1511.615\n",
            "\n",
            "\n",
            "Test Set\n",
            "--------------------------------------------------\n",
            "Mean Squared Error: 4202294.563\n",
            "Root Mean Squared Error: 2049.950\n",
            "Mean Absolute Error: 1487.043\n",
            "\n",
            "--------------------------------------------------\n",
            "Mean Predicted Selling Price: 21084.465364338314\n",
            "Mean Selling Price: 21316.539874357146\n",
            "\n",
            "R_squared Mean Score: 0.3989695600415507\n",
            "[-0.10215831  0.00872082  0.87194053  0.70885163  0.50749314]\n"
          ]
        }
      ]
    },
    {
      "cell_type": "markdown",
      "source": [
        "'n_features_to_select' more than or less than 36 reduces the R_squared Mean Score than the current one."
      ],
      "metadata": {
        "id": "mi47_Z_gZDpo"
      }
    },
    {
      "cell_type": "code",
      "source": [
        "# Features which were selected.\n",
        "f=[]\n",
        "x = dict(zip(cars_df.columns,selector.ranking_))\n",
        "for i in x:\n",
        "  if x[i] == 1:\n",
        "    f.append(i)\n",
        "np.array(f)"
      ],
      "metadata": {
        "colab": {
          "base_uri": "https://localhost:8080/"
        },
        "id": "KlNQNh-0PVRq",
        "outputId": "f513556d-ff9e-409f-89b8-5de95b2468a8"
      },
      "execution_count": null,
      "outputs": [
        {
          "output_type": "execute_result",
          "data": {
            "text/plain": [
              "array(['Cylinder', 'Liter', 'Cruise', 'Sound', 'Make_Cadillac',\n",
              "       'Make_Chevrolet', 'Make_Pontiac', 'Make_SAAB', 'Make_Saturn',\n",
              "       'Model_9_3', 'Model_9_3 HO', 'Model_9_5', 'Model_9_5 HO',\n",
              "       'Model_AVEO', 'Model_Bonneville', 'Model_CST-V', 'Model_CTS',\n",
              "       'Model_Cavalier', 'Model_Cobalt', 'Model_Corvette',\n",
              "       'Model_Deville', 'Model_G6', 'Model_Grand Am', 'Model_Ion',\n",
              "       'Model_Lacrosse', 'Model_Malibu', 'Model_Monte Carlo',\n",
              "       'Model_Park Avenue', 'Model_STS-V6', 'Model_STS-V8',\n",
              "       'Model_Sunfire', 'Model_Vibe', 'Type_Coupe', 'Type_Hatchback',\n",
              "       'Type_Sedan', 'Type_Wagon'], dtype='<U17')"
            ]
          },
          "metadata": {},
          "execution_count": 289
        }
      ]
    },
    {
      "cell_type": "code",
      "source": [
        "# Number of features selected\n",
        "len(f)"
      ],
      "metadata": {
        "colab": {
          "base_uri": "https://localhost:8080/"
        },
        "id": "4gZrUpKjY0kH",
        "outputId": "c4b0abc0-72ce-4c7c-9f5d-1c8e7c8b6349"
      },
      "execution_count": null,
      "outputs": [
        {
          "output_type": "execute_result",
          "data": {
            "text/plain": [
              "36"
            ]
          },
          "metadata": {},
          "execution_count": 290
        }
      ]
    },
    {
      "cell_type": "code",
      "source": [
        "def sm_reg(X,y):    \n",
        "    # Splitting the dataset into training and testing datasets\n",
        "    X_train, X_test, y_train, y_test = train_test_split(X, y, test_size = 0.33, random_state = 42) \n",
        "    # Test set will have 33% of the values.\n",
        "\n",
        "    # Add a constant to get an intercept\n",
        "    X_train_sm = sm.add_constant(X_train)\n",
        "\n",
        "    # Fit the regression line using 'OLS'\n",
        "    lr = sm.OLS(y_train, X_train_sm).fit()\n",
        "\n",
        "    # Performing a summary operation lists out all the different parameters of the regression line fitted\n",
        "    print(lr.summary())\n",
        "\n",
        "sm_reg(cars_df[f],df[\"Price\"])"
      ],
      "metadata": {
        "colab": {
          "base_uri": "https://localhost:8080/"
        },
        "id": "RHzmgO-rbGyq",
        "outputId": "10d56bb4-daca-4cd2-d1e7-3367b544f054"
      },
      "execution_count": null,
      "outputs": [
        {
          "output_type": "stream",
          "name": "stdout",
          "text": [
            "                            OLS Regression Results                            \n",
            "==============================================================================\n",
            "Dep. Variable:                  Price   R-squared:                       0.961\n",
            "Model:                            OLS   Adj. R-squared:                  0.958\n",
            "Method:                 Least Squares   F-statistic:                     340.1\n",
            "Date:                Fri, 08 Apr 2022   Prob (F-statistic):               0.00\n",
            "Time:                        18:48:45   Log-Likelihood:                -4853.5\n",
            "No. Observations:                 538   AIC:                             9781.\n",
            "Df Residuals:                     501   BIC:                             9940.\n",
            "Df Model:                          36                                         \n",
            "Covariance Type:            nonrobust                                         \n",
            "=====================================================================================\n",
            "                        coef    std err          t      P>|t|      [0.025      0.975]\n",
            "-------------------------------------------------------------------------------------\n",
            "const              1.218e+04   1882.187      6.473      0.000    8485.136    1.59e+04\n",
            "Cylinder          -2115.6752    688.578     -3.073      0.002   -3468.532    -762.818\n",
            "Liter              6894.2525    894.601      7.707      0.000    5136.622    8651.884\n",
            "Cruise              -26.2446    277.152     -0.095      0.925    -570.768     518.278\n",
            "Sound               286.1541    218.045      1.312      0.190    -142.242     714.550\n",
            "Make_Cadillac       3.65e+04   1203.912     30.316      0.000    3.41e+04    3.89e+04\n",
            "Make_Chevrolet     -522.9832    664.286     -0.787      0.431   -1828.113     782.146\n",
            "Make_Pontiac       -976.0060    707.581     -1.379      0.168   -2366.198     414.186\n",
            "Make_SAAB          7082.2719   2350.896      3.013      0.003    2463.442    1.17e+04\n",
            "Make_Saturn        2291.6569   1150.717      1.992      0.047      30.831    4552.483\n",
            "Model_9_3          7381.9078   2346.931      3.145      0.002    2770.869     1.2e+04\n",
            "Model_9_3 HO       8929.8436   2310.094      3.866      0.000    4391.179    1.35e+04\n",
            "Model_9_5          8444.7635   2150.966      3.926      0.000    4218.738    1.27e+04\n",
            "Model_9_5 HO       7036.4667   2204.350      3.192      0.002    2705.558    1.14e+04\n",
            "Model_AVEO         2215.2922    960.077      2.307      0.021     329.019    4101.565\n",
            "Model_Bonneville   1507.9672    653.361      2.308      0.021     224.302    2791.633\n",
            "Model_CST-V       -2.093e+04   1609.338    -13.007      0.000   -2.41e+04   -1.78e+04\n",
            "Model_CTS         -1.935e+04   1348.908    -14.342      0.000    -2.2e+04   -1.67e+04\n",
            "Model_Cavalier     -127.9339    713.993     -0.179      0.858   -1530.723    1274.856\n",
            "Model_Cobalt       1193.3773    755.749      1.579      0.115    -291.450    2678.205\n",
            "Model_Corvette     5100.0086   1240.018      4.113      0.000    2663.733    7536.285\n",
            "Model_Deville      -2.16e+04   1027.708    -21.018      0.000   -2.36e+04   -1.96e+04\n",
            "Model_G6           3592.0925    865.397      4.151      0.000    1891.838    5292.347\n",
            "Model_Grand Am     1663.5527    923.128      1.802      0.072    -150.127    3477.232\n",
            "Model_Ion         -2024.0843   1278.360     -1.583      0.114   -4535.692     487.524\n",
            "Model_Lacrosse     1876.9663    655.065      2.865      0.004     589.954    3163.979\n",
            "Model_Malibu       -374.7000    671.711     -0.558      0.577   -1694.418     945.018\n",
            "Model_Monte Carlo     7.0591    669.262      0.011      0.992   -1307.847    1321.965\n",
            "Model_Park Avenue  4560.2903    937.531      4.864      0.000    2718.313    6402.267\n",
            "Model_STS-V6      -1.664e+04   1651.872    -10.075      0.000   -1.99e+04   -1.34e+04\n",
            "Model_STS-V8      -1.458e+04   1216.427    -11.989      0.000    -1.7e+04   -1.22e+04\n",
            "Model_Sunfire       219.0345   1272.831      0.172      0.863   -2281.710    2719.779\n",
            "Model_Vibe         5231.2684   1328.179      3.939      0.000    2621.781    7840.756\n",
            "Type_Coupe        -5562.9162    624.109     -8.913      0.000   -6789.109   -4336.723\n",
            "Type_Hatchback    -5521.4780    731.087     -7.552      0.000   -6957.853   -4085.103\n",
            "Type_Sedan        -5930.0314    557.656    -10.634      0.000   -7025.665   -4834.398\n",
            "Type_Wagon        -4682.8384    953.202     -4.913      0.000   -6555.603   -2810.074\n",
            "==============================================================================\n",
            "Omnibus:                       40.417   Durbin-Watson:                   1.882\n",
            "Prob(Omnibus):                  0.000   Jarque-Bera (JB):              148.819\n",
            "Skew:                          -0.205   Prob(JB):                     4.83e-33\n",
            "Kurtosis:                       5.544   Cond. No.                         361.\n",
            "==============================================================================\n",
            "\n",
            "Warnings:\n",
            "[1] Standard Errors assume that the covariance matrix of the errors is correctly specified.\n"
          ]
        },
        {
          "output_type": "stream",
          "name": "stderr",
          "text": [
            "/usr/local/lib/python3.7/dist-packages/statsmodels/tsa/tsatools.py:117: FutureWarning: In a future version of pandas all arguments of concat except for the argument 'objs' will be keyword-only\n",
            "  x = pd.concat(x[::order], 1)\n"
          ]
        }
      ]
    },
    {
      "cell_type": "markdown",
      "source": [
        "Although, R² decreased from 97.97% to 95.61% the model is comparitively more robust with a positive cross-validation result.But when we observe the above summary, p values of certain columns are more than 0.05. We will have to remove them."
      ],
      "metadata": {
        "id": "zo-NceemZ456"
      }
    },
    {
      "cell_type": "code",
      "source": [
        "# Removing columns with p values greater than 0.05\n",
        "remove_f = [\"Cruise\",\"Sound\", \"Make_Chevrolet\",'Make_Pontiac','Model_Cavalier', 'Model_Cobalt',\n",
        "            'Model_Grand Am','Model_Ion','Model_Malibu','Model_Sunfire','Model_Monte Carlo']\n",
        "for i in remove_f:\n",
        "  f.remove(i)\n",
        "lin_reg(cars_df[f],df[\"Price\"])\n",
        "cross_validation(cars_df[f],df[\"Price\"])"
      ],
      "metadata": {
        "colab": {
          "base_uri": "https://localhost:8080/"
        },
        "id": "Kj1VgA0Zchoe",
        "outputId": "d930a805-5785-4aec-d138-c9e976787d28"
      },
      "execution_count": null,
      "outputs": [
        {
          "output_type": "stream",
          "name": "stdout",
          "text": [
            "R_squared Score: 0.9544676279113792\n",
            "\n",
            "Train Set\n",
            "--------------------------------------------------\n",
            "Mean Squared Error: 3870551.574\n",
            "Root Mean Squared Error: 1967.372\n",
            "Mean Absolute Error: 1482.967\n",
            "\n",
            "\n",
            "Test Set\n",
            "--------------------------------------------------\n",
            "Mean Squared Error: 5602165.910\n",
            "Root Mean Squared Error: 2366.890\n",
            "Mean Absolute Error: 1720.908\n",
            "\n",
            "--------------------------------------------------\n",
            "Mean Predicted Selling Price: 21494.071044908535\n",
            "Mean Selling Price: 21320.21924084587\n",
            "\n",
            "R_squared Mean Score: 0.3528911735477108\n",
            "[-0.44820719  0.19702271  0.80679188  0.6791114   0.52973707]\n"
          ]
        }
      ]
    },
    {
      "cell_type": "code",
      "source": [
        "# Performing a summary operation lists out all the different parameters of the regression line fitted\n",
        "sm_reg(cars_df[f],df[\"Price\"])"
      ],
      "metadata": {
        "colab": {
          "base_uri": "https://localhost:8080/"
        },
        "id": "9QMURaTGdsrg",
        "outputId": "4c365ccb-6f3d-4d63-8eb4-f37a9bcd48d9"
      },
      "execution_count": null,
      "outputs": [
        {
          "output_type": "stream",
          "name": "stderr",
          "text": [
            "/usr/local/lib/python3.7/dist-packages/statsmodels/tsa/tsatools.py:117: FutureWarning: In a future version of pandas all arguments of concat except for the argument 'objs' will be keyword-only\n",
            "  x = pd.concat(x[::order], 1)\n"
          ]
        },
        {
          "output_type": "stream",
          "name": "stdout",
          "text": [
            "                            OLS Regression Results                            \n",
            "==============================================================================\n",
            "Dep. Variable:                  Price   R-squared:                       0.959\n",
            "Model:                            OLS   Adj. R-squared:                  0.957\n",
            "Method:                 Least Squares   F-statistic:                     481.9\n",
            "Date:                Fri, 08 Apr 2022   Prob (F-statistic):               0.00\n",
            "Time:                        18:48:45   Log-Likelihood:                -4863.3\n",
            "No. Observations:                 538   AIC:                             9779.\n",
            "Df Residuals:                     512   BIC:                             9890.\n",
            "Df Model:                          25                                         \n",
            "Covariance Type:            nonrobust                                         \n",
            "=====================================================================================\n",
            "                        coef    std err          t      P>|t|      [0.025      0.975]\n",
            "-------------------------------------------------------------------------------------\n",
            "const              1.189e+04    986.451     12.048      0.000    9947.202    1.38e+04\n",
            "Cylinder          -1428.3765    495.297     -2.884      0.004   -2401.441    -455.312\n",
            "Liter              5771.3823    647.571      8.912      0.000    4499.159    7043.606\n",
            "Make_Cadillac      3.672e+04   1060.893     34.615      0.000    3.46e+04    3.88e+04\n",
            "Make_SAAB          7441.9674   2252.382      3.304      0.001    3016.919    1.19e+04\n",
            "Make_Saturn         541.9060    377.073      1.437      0.151    -198.895    1282.707\n",
            "Model_9_3          6920.6978   2340.517      2.957      0.003    2322.500    1.15e+04\n",
            "Model_9_3 HO       8482.0673   2302.541      3.684      0.000    3958.476     1.3e+04\n",
            "Model_9_5          8375.1896   2159.127      3.879      0.000    4133.351    1.26e+04\n",
            "Model_9_5 HO       6927.1492   2214.658      3.128      0.002    2576.215    1.13e+04\n",
            "Model_AVEO         1382.2236    554.270      2.494      0.013     293.301    2471.147\n",
            "Model_Bonneville    971.2608    511.477      1.899      0.058     -33.590    1976.112\n",
            "Model_CST-V       -1.987e+04   1453.156    -13.671      0.000   -2.27e+04    -1.7e+04\n",
            "Model_CTS         -2.002e+04   1256.308    -15.934      0.000   -2.25e+04   -1.76e+04\n",
            "Model_Corvette     6262.4337    935.097      6.697      0.000    4425.335    8099.532\n",
            "Model_Deville      -2.18e+04   1020.094    -21.375      0.000   -2.38e+04   -1.98e+04\n",
            "Model_G6           2811.4906    698.378      4.026      0.000    1439.452    4183.529\n",
            "Model_Lacrosse     2296.5137    497.214      4.619      0.000    1319.683    3273.345\n",
            "Model_Park Avenue  5153.8742    819.203      6.291      0.000    3544.460    6763.288\n",
            "Model_STS-V6      -1.661e+04   1574.708    -10.546      0.000   -1.97e+04   -1.35e+04\n",
            "Model_STS-V8      -1.473e+04   1217.776    -12.097      0.000   -1.71e+04   -1.23e+04\n",
            "Model_Vibe         3936.6989    958.656      4.106      0.000    2053.316    5820.082\n",
            "Type_Coupe        -5467.6586    596.686     -9.163      0.000   -6639.913   -4295.404\n",
            "Type_Hatchback    -5859.6160    682.846     -8.581      0.000   -7201.142   -4518.090\n",
            "Type_Sedan        -5904.4530    558.530    -10.571      0.000   -7001.746   -4807.160\n",
            "Type_Wagon        -4712.9011    958.724     -4.916      0.000   -6596.419   -2829.383\n",
            "==============================================================================\n",
            "Omnibus:                       34.836   Durbin-Watson:                   1.907\n",
            "Prob(Omnibus):                  0.000   Jarque-Bera (JB):              119.043\n",
            "Skew:                          -0.151   Prob(JB):                     1.41e-26\n",
            "Kurtosis:                       5.285   Cond. No.                         351.\n",
            "==============================================================================\n",
            "\n",
            "Warnings:\n",
            "[1] Standard Errors assume that the covariance matrix of the errors is correctly specified.\n"
          ]
        }
      ]
    },
    {
      "cell_type": "code",
      "source": [
        "# Removing columns with p values greater than 0.05\n",
        "remove_f = ['Make_Saturn','Model_Bonneville']\n",
        "for i in remove_f:\n",
        "  f.remove(i)\n",
        "lin_reg(cars_df[f],df[\"Price\"])\n",
        "cross_validation(cars_df[f],df[\"Price\"])"
      ],
      "metadata": {
        "colab": {
          "base_uri": "https://localhost:8080/"
        },
        "id": "_b3erNlGeDru",
        "outputId": "9916bab9-ceda-4a1b-f15c-622bddddd1be"
      },
      "execution_count": null,
      "outputs": [
        {
          "output_type": "stream",
          "name": "stdout",
          "text": [
            "R_squared Score: 0.9524272221107515\n",
            "\n",
            "Train Set\n",
            "--------------------------------------------------\n",
            "Mean Squared Error: 3731267.032\n",
            "Root Mean Squared Error: 1931.649\n",
            "Mean Absolute Error: 1484.468\n",
            "\n",
            "\n",
            "Test Set\n",
            "--------------------------------------------------\n",
            "Mean Squared Error: 6485730.363\n",
            "Root Mean Squared Error: 2546.710\n",
            "Mean Absolute Error: 1736.878\n",
            "\n",
            "--------------------------------------------------\n",
            "Mean Predicted Selling Price: 21960.050168064827\n",
            "Mean Selling Price: 21676.77203683458\n",
            "\n",
            "R_squared Mean Score: 0.36066306777920526\n",
            "[-0.38852179  0.13348141  0.80596153  0.72275858  0.5296356 ]\n"
          ]
        }
      ]
    },
    {
      "cell_type": "code",
      "source": [
        "# Performing a summary operation lists out all the different parameters of the regression line fitted\n",
        "sm_reg(cars_df[f],df[\"Price\"])"
      ],
      "metadata": {
        "colab": {
          "base_uri": "https://localhost:8080/"
        },
        "id": "CTPEisXIfYSc",
        "outputId": "6fd18ad1-8725-4133-956d-52a0976698e6"
      },
      "execution_count": null,
      "outputs": [
        {
          "output_type": "stream",
          "name": "stdout",
          "text": [
            "                            OLS Regression Results                            \n",
            "==============================================================================\n",
            "Dep. Variable:                  Price   R-squared:                       0.959\n",
            "Model:                            OLS   Adj. R-squared:                  0.957\n",
            "Method:                 Least Squares   F-statistic:                     520.0\n",
            "Date:                Fri, 08 Apr 2022   Prob (F-statistic):               0.00\n",
            "Time:                        18:48:45   Log-Likelihood:                -4866.1\n",
            "No. Observations:                 538   AIC:                             9780.\n",
            "Df Residuals:                     514   BIC:                             9883.\n",
            "Df Model:                          23                                         \n",
            "Covariance Type:            nonrobust                                         \n",
            "=====================================================================================\n",
            "                        coef    std err          t      P>|t|      [0.025      0.975]\n",
            "-------------------------------------------------------------------------------------\n",
            "const              1.184e+04    960.809     12.320      0.000    9949.807    1.37e+04\n",
            "Cylinder          -1277.0544    492.774     -2.592      0.010   -2245.153    -308.956\n",
            "Liter              5586.4629    641.367      8.710      0.000    4326.440    6846.486\n",
            "Make_Cadillac      3.641e+04   1052.190     34.605      0.000    3.43e+04    3.85e+04\n",
            "Make_SAAB          7327.2246   2258.930      3.244      0.001    2889.353    1.18e+04\n",
            "Model_9_3          6838.0091   2347.975      2.912      0.004    2225.202    1.15e+04\n",
            "Model_9_3 HO       8399.0634   2309.859      3.636      0.000    3861.137    1.29e+04\n",
            "Model_9_5          8338.2057   2166.419      3.849      0.000    4082.080    1.26e+04\n",
            "Model_9_5 HO       6890.1653   2222.143      3.101      0.002    2524.566    1.13e+04\n",
            "Model_AVEO         1190.4368    536.438      2.219      0.027     136.556    2244.317\n",
            "Model_CST-V       -1.968e+04   1453.782    -13.538      0.000   -2.25e+04   -1.68e+04\n",
            "Model_CTS         -2.007e+04   1254.640    -15.995      0.000   -2.25e+04   -1.76e+04\n",
            "Model_Corvette     6240.5469    921.288      6.774      0.000    4430.594    8050.500\n",
            "Model_Deville     -2.182e+04   1023.537    -21.323      0.000   -2.38e+04   -1.98e+04\n",
            "Model_G6           2579.0231    693.463      3.719      0.000    1216.652    3941.394\n",
            "Model_Lacrosse     2093.1050    490.439      4.268      0.000    1129.593    3056.617\n",
            "Model_Park Avenue  4976.8825    817.606      6.087      0.000    3370.621    6583.144\n",
            "Model_STS-V6      -1.651e+04   1578.157    -10.461      0.000   -1.96e+04   -1.34e+04\n",
            "Model_STS-V8      -1.475e+04   1221.904    -12.072      0.000   -1.72e+04   -1.24e+04\n",
            "Model_Vibe         3692.5125    950.907      3.883      0.000    1824.369    5560.656\n",
            "Type_Coupe        -5542.9810    597.459     -9.278      0.000   -6716.743   -4369.219\n",
            "Type_Hatchback    -5999.4096    682.546     -8.790      0.000   -7340.333   -4658.486\n",
            "Type_Sedan        -5884.9110    560.351    -10.502      0.000   -6985.771   -4784.051\n",
            "Type_Wagon        -4693.3591    961.954     -4.879      0.000   -6583.204   -2803.514\n",
            "==============================================================================\n",
            "Omnibus:                       34.383   Durbin-Watson:                   1.919\n",
            "Prob(Omnibus):                  0.000   Jarque-Bera (JB):              114.181\n",
            "Skew:                          -0.162   Prob(JB):                     1.61e-25\n",
            "Kurtosis:                       5.233   Cond. No.                         351.\n",
            "==============================================================================\n",
            "\n",
            "Warnings:\n",
            "[1] Standard Errors assume that the covariance matrix of the errors is correctly specified.\n"
          ]
        },
        {
          "output_type": "stream",
          "name": "stderr",
          "text": [
            "/usr/local/lib/python3.7/dist-packages/statsmodels/tsa/tsatools.py:117: FutureWarning: In a future version of pandas all arguments of concat except for the argument 'objs' will be keyword-only\n",
            "  x = pd.concat(x[::order], 1)\n"
          ]
        }
      ]
    },
    {
      "cell_type": "code",
      "source": [
        "print(\"Features selected are:\\n\\n\",np.array(f))\n",
        "print(f\"\\nNumber of Features = {len(f)}\")"
      ],
      "metadata": {
        "colab": {
          "base_uri": "https://localhost:8080/"
        },
        "id": "9DFJiJOXgo2-",
        "outputId": "8e0edce6-5a46-45de-a558-6007ecd69519"
      },
      "execution_count": null,
      "outputs": [
        {
          "output_type": "stream",
          "name": "stdout",
          "text": [
            "Features selected are:\n",
            "\n",
            " ['Cylinder' 'Liter' 'Make_Cadillac' 'Make_SAAB' 'Model_9_3' 'Model_9_3 HO'\n",
            " 'Model_9_5' 'Model_9_5 HO' 'Model_AVEO' 'Model_CST-V' 'Model_CTS'\n",
            " 'Model_Corvette' 'Model_Deville' 'Model_G6' 'Model_Lacrosse'\n",
            " 'Model_Park Avenue' 'Model_STS-V6' 'Model_STS-V8' 'Model_Vibe'\n",
            " 'Type_Coupe' 'Type_Hatchback' 'Type_Sedan' 'Type_Wagon']\n",
            "\n",
            "Number of Features = 23\n"
          ]
        }
      ]
    }
  ],
  "metadata": {
    "kernelspec": {
      "display_name": "Python 3",
      "language": "python",
      "name": "python3"
    },
    "language_info": {
      "codemirror_mode": {
        "name": "ipython",
        "version": 3
      },
      "file_extension": ".py",
      "mimetype": "text/x-python",
      "name": "python",
      "nbconvert_exporter": "python",
      "pygments_lexer": "ipython3",
      "version": "3.8.3"
    },
    "colab": {
      "name": "Task6_Assignment8_Car Price_Prediction",
      "provenance": [],
      "collapsed_sections": [],
      "include_colab_link": true
    }
  },
  "nbformat": 4,
  "nbformat_minor": 0
}